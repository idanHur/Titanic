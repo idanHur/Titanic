{
  "nbformat": 4,
  "nbformat_minor": 0,
  "metadata": {
    "colab": {
      "name": "Titanic_1.ipynb",
      "provenance": [],
      "collapsed_sections": [],
      "authorship_tag": "ABX9TyPlI5MshQ035Zh6KcvbfZT1",
      "include_colab_link": true
    },
    "kernelspec": {
      "name": "python3",
      "display_name": "Python 3"
    },
    "language_info": {
      "name": "python"
    }
  },
  "cells": [
    {
      "cell_type": "markdown",
      "metadata": {
        "id": "view-in-github",
        "colab_type": "text"
      },
      "source": [
        "<a href=\"https://colab.research.google.com/github/idanHur/Titanic/blob/main/Titanic_1.ipynb\" target=\"_parent\"><img src=\"https://colab.research.google.com/assets/colab-badge.svg\" alt=\"Open In Colab\"/></a>"
      ]
    },
    {
      "cell_type": "markdown",
      "source": [
        "**Idan Hur**\n",
        "\n",
        "\n",
        "\n",
        "https://www.kaggle.com/idanhur"
      ],
      "metadata": {
        "id": "1B7PDluBBWMz"
      }
    },
    {
      "cell_type": "markdown",
      "source": [
        "# **TL;DR**\n",
        "In this homework i will try to solve the Kaggle contest \"Titanic - Machine Learning from Disaster\", as the contest name applies we need to categorize the titanic passengers to survivors and victims using Machine Learning.\n",
        "\n",
        "In this notebook i will:\n",
        "  1. analayze the data in order to find connections between categories of passengers and their impact on the chances of survival.\n",
        "  2.Perform ML classification on the data.\n",
        "\n",
        "Logistic Regression (with SGD Classifier), Ihad chose this modle due to its ability to perform the required binary classification (Survived/Died).\n",
        "\n",
        "And i will also use Seaborn and Pandas, which allowed me to retrieve data and display it visually."
      ],
      "metadata": {
        "id": "NBmV4orGmvra"
      }
    },
    {
      "cell_type": "markdown",
      "source": [
        "# Imports"
      ],
      "metadata": {
        "id": "e0jK9IN6o1i7"
      }
    },
    {
      "cell_type": "code",
      "source": [
        "# Essentials\n",
        "import math\n",
        "import numpy as np\n",
        "import pandas as pd\n",
        "import seaborn as sns\n",
        "import matplotlib.pyplot as plt\n",
        "from plotly import express as px\n",
        "\n",
        "\n",
        "# Linear Regression\n",
        "import sklearn\n",
        "from sklearn import metrics\n",
        "from sklearn import datasets\n",
        "from sklearn import pipeline\n",
        "from sklearn import linear_model\n",
        "from sklearn import preprocessing\n",
        "from sklearn import model_selection\n",
        "from sklearn.preprocessing import OneHotEncoder\n",
        "\n",
        "# Configurations\n",
        "sns.set_theme()\n",
        "plt.rcParams[\"font.size\"] = 20\n",
        "plt.rcParams[\"axes.labelsize\"] = 20\n",
        "plt.rcParams[\"xtick.labelsize\"] = 20\n",
        "plt.rcParams[\"ytick.labelsize\"] = 20\n",
        "plt.rcParams[\"legend.fontsize\"] = 20\n",
        "plt.rcParams[\"legend.markerscale\"] = 1.5\n",
        "plt.rcParams[\"figure.figsize\"] = (20, 10)\n",
        "plt.rcParams[\"legend.title_fontsize\"] = 20"
      ],
      "metadata": {
        "id": "V6hU6aYL_LBX"
      },
      "execution_count": null,
      "outputs": []
    },
    {
      "cell_type": "code",
      "source": [
        "#load the data with pandas\n",
        "testCSV = pd.read_csv(\"test.csv\")\n",
        "trainCSV = pd.read_csv(\"train.csv\") "
      ],
      "metadata": {
        "id": "c6edJ2O_BCvh"
      },
      "execution_count": null,
      "outputs": []
    },
    {
      "cell_type": "code",
      "source": [
        "# show the test data\n",
        "trainCSV"
      ],
      "metadata": {
        "colab": {
          "base_uri": "https://localhost:8080/",
          "height": 424
        },
        "id": "9pey9m1Tmwjg",
        "outputId": "480354f5-6f4d-4e9b-e83f-e28a1521c628"
      },
      "execution_count": null,
      "outputs": [
        {
          "output_type": "execute_result",
          "data": {
            "text/plain": [
              "     PassengerId  Survived  Pclass  \\\n",
              "0              1         0       3   \n",
              "1              2         1       1   \n",
              "2              3         1       3   \n",
              "3              4         1       1   \n",
              "4              5         0       3   \n",
              "..           ...       ...     ...   \n",
              "886          887         0       2   \n",
              "887          888         1       1   \n",
              "888          889         0       3   \n",
              "889          890         1       1   \n",
              "890          891         0       3   \n",
              "\n",
              "                                                  Name     Sex   Age  SibSp  \\\n",
              "0                              Braund, Mr. Owen Harris    male  22.0      1   \n",
              "1    Cumings, Mrs. John Bradley (Florence Briggs Th...  female  38.0      1   \n",
              "2                               Heikkinen, Miss. Laina  female  26.0      0   \n",
              "3         Futrelle, Mrs. Jacques Heath (Lily May Peel)  female  35.0      1   \n",
              "4                             Allen, Mr. William Henry    male  35.0      0   \n",
              "..                                                 ...     ...   ...    ...   \n",
              "886                              Montvila, Rev. Juozas    male  27.0      0   \n",
              "887                       Graham, Miss. Margaret Edith  female  19.0      0   \n",
              "888           Johnston, Miss. Catherine Helen \"Carrie\"  female   NaN      1   \n",
              "889                              Behr, Mr. Karl Howell    male  26.0      0   \n",
              "890                                Dooley, Mr. Patrick    male  32.0      0   \n",
              "\n",
              "     Parch            Ticket     Fare Cabin Embarked  \n",
              "0        0         A/5 21171   7.2500   NaN        S  \n",
              "1        0          PC 17599  71.2833   C85        C  \n",
              "2        0  STON/O2. 3101282   7.9250   NaN        S  \n",
              "3        0            113803  53.1000  C123        S  \n",
              "4        0            373450   8.0500   NaN        S  \n",
              "..     ...               ...      ...   ...      ...  \n",
              "886      0            211536  13.0000   NaN        S  \n",
              "887      0            112053  30.0000   B42        S  \n",
              "888      2        W./C. 6607  23.4500   NaN        S  \n",
              "889      0            111369  30.0000  C148        C  \n",
              "890      0            370376   7.7500   NaN        Q  \n",
              "\n",
              "[891 rows x 12 columns]"
            ],
            "text/html": [
              "\n",
              "  <div id=\"df-f2475e2b-f376-4f6e-b3af-326d40858ce5\">\n",
              "    <div class=\"colab-df-container\">\n",
              "      <div>\n",
              "<style scoped>\n",
              "    .dataframe tbody tr th:only-of-type {\n",
              "        vertical-align: middle;\n",
              "    }\n",
              "\n",
              "    .dataframe tbody tr th {\n",
              "        vertical-align: top;\n",
              "    }\n",
              "\n",
              "    .dataframe thead th {\n",
              "        text-align: right;\n",
              "    }\n",
              "</style>\n",
              "<table border=\"1\" class=\"dataframe\">\n",
              "  <thead>\n",
              "    <tr style=\"text-align: right;\">\n",
              "      <th></th>\n",
              "      <th>PassengerId</th>\n",
              "      <th>Survived</th>\n",
              "      <th>Pclass</th>\n",
              "      <th>Name</th>\n",
              "      <th>Sex</th>\n",
              "      <th>Age</th>\n",
              "      <th>SibSp</th>\n",
              "      <th>Parch</th>\n",
              "      <th>Ticket</th>\n",
              "      <th>Fare</th>\n",
              "      <th>Cabin</th>\n",
              "      <th>Embarked</th>\n",
              "    </tr>\n",
              "  </thead>\n",
              "  <tbody>\n",
              "    <tr>\n",
              "      <th>0</th>\n",
              "      <td>1</td>\n",
              "      <td>0</td>\n",
              "      <td>3</td>\n",
              "      <td>Braund, Mr. Owen Harris</td>\n",
              "      <td>male</td>\n",
              "      <td>22.0</td>\n",
              "      <td>1</td>\n",
              "      <td>0</td>\n",
              "      <td>A/5 21171</td>\n",
              "      <td>7.2500</td>\n",
              "      <td>NaN</td>\n",
              "      <td>S</td>\n",
              "    </tr>\n",
              "    <tr>\n",
              "      <th>1</th>\n",
              "      <td>2</td>\n",
              "      <td>1</td>\n",
              "      <td>1</td>\n",
              "      <td>Cumings, Mrs. John Bradley (Florence Briggs Th...</td>\n",
              "      <td>female</td>\n",
              "      <td>38.0</td>\n",
              "      <td>1</td>\n",
              "      <td>0</td>\n",
              "      <td>PC 17599</td>\n",
              "      <td>71.2833</td>\n",
              "      <td>C85</td>\n",
              "      <td>C</td>\n",
              "    </tr>\n",
              "    <tr>\n",
              "      <th>2</th>\n",
              "      <td>3</td>\n",
              "      <td>1</td>\n",
              "      <td>3</td>\n",
              "      <td>Heikkinen, Miss. Laina</td>\n",
              "      <td>female</td>\n",
              "      <td>26.0</td>\n",
              "      <td>0</td>\n",
              "      <td>0</td>\n",
              "      <td>STON/O2. 3101282</td>\n",
              "      <td>7.9250</td>\n",
              "      <td>NaN</td>\n",
              "      <td>S</td>\n",
              "    </tr>\n",
              "    <tr>\n",
              "      <th>3</th>\n",
              "      <td>4</td>\n",
              "      <td>1</td>\n",
              "      <td>1</td>\n",
              "      <td>Futrelle, Mrs. Jacques Heath (Lily May Peel)</td>\n",
              "      <td>female</td>\n",
              "      <td>35.0</td>\n",
              "      <td>1</td>\n",
              "      <td>0</td>\n",
              "      <td>113803</td>\n",
              "      <td>53.1000</td>\n",
              "      <td>C123</td>\n",
              "      <td>S</td>\n",
              "    </tr>\n",
              "    <tr>\n",
              "      <th>4</th>\n",
              "      <td>5</td>\n",
              "      <td>0</td>\n",
              "      <td>3</td>\n",
              "      <td>Allen, Mr. William Henry</td>\n",
              "      <td>male</td>\n",
              "      <td>35.0</td>\n",
              "      <td>0</td>\n",
              "      <td>0</td>\n",
              "      <td>373450</td>\n",
              "      <td>8.0500</td>\n",
              "      <td>NaN</td>\n",
              "      <td>S</td>\n",
              "    </tr>\n",
              "    <tr>\n",
              "      <th>...</th>\n",
              "      <td>...</td>\n",
              "      <td>...</td>\n",
              "      <td>...</td>\n",
              "      <td>...</td>\n",
              "      <td>...</td>\n",
              "      <td>...</td>\n",
              "      <td>...</td>\n",
              "      <td>...</td>\n",
              "      <td>...</td>\n",
              "      <td>...</td>\n",
              "      <td>...</td>\n",
              "      <td>...</td>\n",
              "    </tr>\n",
              "    <tr>\n",
              "      <th>886</th>\n",
              "      <td>887</td>\n",
              "      <td>0</td>\n",
              "      <td>2</td>\n",
              "      <td>Montvila, Rev. Juozas</td>\n",
              "      <td>male</td>\n",
              "      <td>27.0</td>\n",
              "      <td>0</td>\n",
              "      <td>0</td>\n",
              "      <td>211536</td>\n",
              "      <td>13.0000</td>\n",
              "      <td>NaN</td>\n",
              "      <td>S</td>\n",
              "    </tr>\n",
              "    <tr>\n",
              "      <th>887</th>\n",
              "      <td>888</td>\n",
              "      <td>1</td>\n",
              "      <td>1</td>\n",
              "      <td>Graham, Miss. Margaret Edith</td>\n",
              "      <td>female</td>\n",
              "      <td>19.0</td>\n",
              "      <td>0</td>\n",
              "      <td>0</td>\n",
              "      <td>112053</td>\n",
              "      <td>30.0000</td>\n",
              "      <td>B42</td>\n",
              "      <td>S</td>\n",
              "    </tr>\n",
              "    <tr>\n",
              "      <th>888</th>\n",
              "      <td>889</td>\n",
              "      <td>0</td>\n",
              "      <td>3</td>\n",
              "      <td>Johnston, Miss. Catherine Helen \"Carrie\"</td>\n",
              "      <td>female</td>\n",
              "      <td>NaN</td>\n",
              "      <td>1</td>\n",
              "      <td>2</td>\n",
              "      <td>W./C. 6607</td>\n",
              "      <td>23.4500</td>\n",
              "      <td>NaN</td>\n",
              "      <td>S</td>\n",
              "    </tr>\n",
              "    <tr>\n",
              "      <th>889</th>\n",
              "      <td>890</td>\n",
              "      <td>1</td>\n",
              "      <td>1</td>\n",
              "      <td>Behr, Mr. Karl Howell</td>\n",
              "      <td>male</td>\n",
              "      <td>26.0</td>\n",
              "      <td>0</td>\n",
              "      <td>0</td>\n",
              "      <td>111369</td>\n",
              "      <td>30.0000</td>\n",
              "      <td>C148</td>\n",
              "      <td>C</td>\n",
              "    </tr>\n",
              "    <tr>\n",
              "      <th>890</th>\n",
              "      <td>891</td>\n",
              "      <td>0</td>\n",
              "      <td>3</td>\n",
              "      <td>Dooley, Mr. Patrick</td>\n",
              "      <td>male</td>\n",
              "      <td>32.0</td>\n",
              "      <td>0</td>\n",
              "      <td>0</td>\n",
              "      <td>370376</td>\n",
              "      <td>7.7500</td>\n",
              "      <td>NaN</td>\n",
              "      <td>Q</td>\n",
              "    </tr>\n",
              "  </tbody>\n",
              "</table>\n",
              "<p>891 rows × 12 columns</p>\n",
              "</div>\n",
              "      <button class=\"colab-df-convert\" onclick=\"convertToInteractive('df-f2475e2b-f376-4f6e-b3af-326d40858ce5')\"\n",
              "              title=\"Convert this dataframe to an interactive table.\"\n",
              "              style=\"display:none;\">\n",
              "        \n",
              "  <svg xmlns=\"http://www.w3.org/2000/svg\" height=\"24px\"viewBox=\"0 0 24 24\"\n",
              "       width=\"24px\">\n",
              "    <path d=\"M0 0h24v24H0V0z\" fill=\"none\"/>\n",
              "    <path d=\"M18.56 5.44l.94 2.06.94-2.06 2.06-.94-2.06-.94-.94-2.06-.94 2.06-2.06.94zm-11 1L8.5 8.5l.94-2.06 2.06-.94-2.06-.94L8.5 2.5l-.94 2.06-2.06.94zm10 10l.94 2.06.94-2.06 2.06-.94-2.06-.94-.94-2.06-.94 2.06-2.06.94z\"/><path d=\"M17.41 7.96l-1.37-1.37c-.4-.4-.92-.59-1.43-.59-.52 0-1.04.2-1.43.59L10.3 9.45l-7.72 7.72c-.78.78-.78 2.05 0 2.83L4 21.41c.39.39.9.59 1.41.59.51 0 1.02-.2 1.41-.59l7.78-7.78 2.81-2.81c.8-.78.8-2.07 0-2.86zM5.41 20L4 18.59l7.72-7.72 1.47 1.35L5.41 20z\"/>\n",
              "  </svg>\n",
              "      </button>\n",
              "      \n",
              "  <style>\n",
              "    .colab-df-container {\n",
              "      display:flex;\n",
              "      flex-wrap:wrap;\n",
              "      gap: 12px;\n",
              "    }\n",
              "\n",
              "    .colab-df-convert {\n",
              "      background-color: #E8F0FE;\n",
              "      border: none;\n",
              "      border-radius: 50%;\n",
              "      cursor: pointer;\n",
              "      display: none;\n",
              "      fill: #1967D2;\n",
              "      height: 32px;\n",
              "      padding: 0 0 0 0;\n",
              "      width: 32px;\n",
              "    }\n",
              "\n",
              "    .colab-df-convert:hover {\n",
              "      background-color: #E2EBFA;\n",
              "      box-shadow: 0px 1px 2px rgba(60, 64, 67, 0.3), 0px 1px 3px 1px rgba(60, 64, 67, 0.15);\n",
              "      fill: #174EA6;\n",
              "    }\n",
              "\n",
              "    [theme=dark] .colab-df-convert {\n",
              "      background-color: #3B4455;\n",
              "      fill: #D2E3FC;\n",
              "    }\n",
              "\n",
              "    [theme=dark] .colab-df-convert:hover {\n",
              "      background-color: #434B5C;\n",
              "      box-shadow: 0px 1px 3px 1px rgba(0, 0, 0, 0.15);\n",
              "      filter: drop-shadow(0px 1px 2px rgba(0, 0, 0, 0.3));\n",
              "      fill: #FFFFFF;\n",
              "    }\n",
              "  </style>\n",
              "\n",
              "      <script>\n",
              "        const buttonEl =\n",
              "          document.querySelector('#df-f2475e2b-f376-4f6e-b3af-326d40858ce5 button.colab-df-convert');\n",
              "        buttonEl.style.display =\n",
              "          google.colab.kernel.accessAllowed ? 'block' : 'none';\n",
              "\n",
              "        async function convertToInteractive(key) {\n",
              "          const element = document.querySelector('#df-f2475e2b-f376-4f6e-b3af-326d40858ce5');\n",
              "          const dataTable =\n",
              "            await google.colab.kernel.invokeFunction('convertToInteractive',\n",
              "                                                     [key], {});\n",
              "          if (!dataTable) return;\n",
              "\n",
              "          const docLinkHtml = 'Like what you see? Visit the ' +\n",
              "            '<a target=\"_blank\" href=https://colab.research.google.com/notebooks/data_table.ipynb>data table notebook</a>'\n",
              "            + ' to learn more about interactive tables.';\n",
              "          element.innerHTML = '';\n",
              "          dataTable['output_type'] = 'display_data';\n",
              "          await google.colab.output.renderOutput(dataTable, element);\n",
              "          const docLink = document.createElement('div');\n",
              "          docLink.innerHTML = docLinkHtml;\n",
              "          element.appendChild(docLink);\n",
              "        }\n",
              "      </script>\n",
              "    </div>\n",
              "  </div>\n",
              "  "
            ]
          },
          "metadata": {},
          "execution_count": 3
        }
      ]
    },
    {
      "cell_type": "markdown",
      "source": [
        "Now i will try to understand the data:\n",
        "\n",
        "i will get the keys of the data set and i will try to understand what each of them represent."
      ],
      "metadata": {
        "id": "D23la1-LnGOP"
      }
    },
    {
      "cell_type": "code",
      "source": [
        "trainCSV.keys()"
      ],
      "metadata": {
        "colab": {
          "base_uri": "https://localhost:8080/"
        },
        "id": "x3Krsv64BC10",
        "outputId": "5eeee2ec-99f0-4599-f9ad-094c0763d65a"
      },
      "execution_count": null,
      "outputs": [
        {
          "output_type": "execute_result",
          "data": {
            "text/plain": [
              "Index(['PassengerId', 'Survived', 'Pclass', 'Name', 'Sex', 'Age', 'SibSp',\n",
              "       'Parch', 'Ticket', 'Fare', 'Cabin', 'Embarked'],\n",
              "      dtype='object')"
            ]
          },
          "metadata": {},
          "execution_count": 4
        }
      ]
    },
    {
      "cell_type": "markdown",
      "source": [
        "As we can see our dataset holds 12 keys:\n",
        "\n",
        "***PassengerId***: Id of passenger.\n",
        "\n",
        "***Survived***: 1-yes 0-no.\n",
        "\n",
        "***Pclass***: ticket class, 1-1st class, 2 - 2nd class, 3 - 3rd class.\n",
        "\n",
        "***Name***: name of the passenger.\n",
        "\n",
        "***Sex***: sex of the passenger .\n",
        "\n",
        "***Age***: age of passenger by years.\n",
        "\n",
        "***Sibsp***: number of siblings / spouses aboard the Titanic.\n",
        "\n",
        "***Parch***: number of parents / children aboard the Titanic.\n",
        "\n",
        "***Ticket***: Ticket number.\t\n",
        "\n",
        "***Fare***: Passenger fare.\n",
        "\n",
        "***Cabin***: Cabin number.\n",
        "\n",
        "***Embarked***: Port of Embarkation, C = Cherbourg, Q = Queenstown, S = Southampton.\n",
        "\n",
        "Now i will cheack the type of each feature and if there are any missing values:"
      ],
      "metadata": {
        "id": "jqOuLlS0nuf4"
      }
    },
    {
      "cell_type": "code",
      "source": [
        "trainCSV.dtypes"
      ],
      "metadata": {
        "colab": {
          "base_uri": "https://localhost:8080/"
        },
        "id": "U7UOYPFUqvJO",
        "outputId": "3b6ac684-25e6-4667-d709-7b49f010f2f6"
      },
      "execution_count": null,
      "outputs": [
        {
          "output_type": "execute_result",
          "data": {
            "text/plain": [
              "PassengerId      int64\n",
              "Survived         int64\n",
              "Pclass           int64\n",
              "Name            object\n",
              "Sex             object\n",
              "Age            float64\n",
              "SibSp            int64\n",
              "Parch            int64\n",
              "Ticket          object\n",
              "Fare           float64\n",
              "Cabin           object\n",
              "Embarked        object\n",
              "dtype: object"
            ]
          },
          "metadata": {},
          "execution_count": 5
        }
      ]
    },
    {
      "cell_type": "code",
      "source": [
        "trainCSV.isna().any()"
      ],
      "metadata": {
        "colab": {
          "base_uri": "https://localhost:8080/"
        },
        "id": "4WNMtYctqvN9",
        "outputId": "3061b87c-890d-4fbe-ad91-11e0fe6aac09"
      },
      "execution_count": null,
      "outputs": [
        {
          "output_type": "execute_result",
          "data": {
            "text/plain": [
              "PassengerId    False\n",
              "Survived       False\n",
              "Pclass         False\n",
              "Name           False\n",
              "Sex            False\n",
              "Age             True\n",
              "SibSp          False\n",
              "Parch          False\n",
              "Ticket         False\n",
              "Fare           False\n",
              "Cabin           True\n",
              "Embarked        True\n",
              "dtype: bool"
            ]
          },
          "metadata": {},
          "execution_count": 6
        }
      ]
    },
    {
      "cell_type": "code",
      "source": [
        "def count_empty_values_in_each_column(df: pd.DataFrame):\n",
        "  print('empty values')\n",
        "  print('------------\\n')\n",
        "  \n",
        "  for col in df.columns:\n",
        "    print(f\"{col}: {df[col].isna().sum()}\")\n",
        "\n",
        "count_empty_values_in_each_column(trainCSV)"
      ],
      "metadata": {
        "colab": {
          "base_uri": "https://localhost:8080/"
        },
        "id": "uSfWvL2tsG-h",
        "outputId": "0a530c47-bed3-4751-cec6-07016107eca7"
      },
      "execution_count": null,
      "outputs": [
        {
          "output_type": "stream",
          "name": "stdout",
          "text": [
            "empty values\n",
            "------------\n",
            "\n",
            "PassengerId: 0\n",
            "Survived: 0\n",
            "Pclass: 0\n",
            "Name: 0\n",
            "Sex: 0\n",
            "Age: 177\n",
            "SibSp: 0\n",
            "Parch: 0\n",
            "Ticket: 0\n",
            "Fare: 0\n",
            "Cabin: 687\n",
            "Embarked: 2\n"
          ]
        }
      ]
    },
    {
      "cell_type": "markdown",
      "source": [
        "As we can see we have missing values in Age, Cabin, Embarked.\n",
        "\n",
        "so in order to use this features i will have to fill the missing values.\n"
      ],
      "metadata": {
        "id": "lOoM1yDDsLoJ"
      }
    },
    {
      "cell_type": "markdown",
      "source": [
        "# Changing the dataset\n",
        "As mentioned above, we have missing data in Age, Cabin and Embarked.\n",
        "\n",
        "and Name, sex, Ticket, Cabin and Embarked are represented by strings.\n",
        "\n",
        "so after looking at the data i decided the following:\n",
        "\n",
        "  featuers i will drop:\n",
        "\n",
        "  1. **Cabin**: There is just too much data missing about this feature (687 rows).\n",
        "  2. **PassengerId**: There is no real connection between this feature and the chance of survival, this feature just orders the dataset.\n",
        "  3. **Ticket**: This feature dosnt hold any data that will help us to predict the chance of survival.\n",
        "  4. **Name**: The name of the passanger dosnt change his chance of survival (this feature we will delete later on becouse we want to extract the Title name as mentioned later on).   \n",
        "\n",
        "\n",
        "featuers i will Encode:\n",
        "  1. **Sex**\n",
        "  2. **Embarked**\n",
        "  "
      ],
      "metadata": {
        "id": "FyRJnc-0tXW-"
      }
    },
    {
      "cell_type": "markdown",
      "source": [
        "**Droping the data:**"
      ],
      "metadata": {
        "id": "wyWt2Y0N3xRY"
      }
    },
    {
      "cell_type": "code",
      "source": [
        "altered_train = trainCSV.copy()\n",
        "#dropping unnecessary columns\n",
        "altered_train = altered_train.drop(columns = \"Cabin\", axis = 1)\n",
        "altered_train = altered_train.drop(columns = \"PassengerId\", axis = 1)\n",
        "altered_train = altered_train.drop(columns = \"Ticket\", axis = 1)\n",
        "#show altered dataset\n",
        "altered_train"
      ],
      "metadata": {
        "colab": {
          "base_uri": "https://localhost:8080/",
          "height": 424
        },
        "id": "TQoj_Qo732Zg",
        "outputId": "4debfcb4-0217-44ad-8b64-5a7f5bd8ff5b"
      },
      "execution_count": null,
      "outputs": [
        {
          "output_type": "execute_result",
          "data": {
            "text/plain": [
              "     Survived  Pclass                                               Name  \\\n",
              "0           0       3                            Braund, Mr. Owen Harris   \n",
              "1           1       1  Cumings, Mrs. John Bradley (Florence Briggs Th...   \n",
              "2           1       3                             Heikkinen, Miss. Laina   \n",
              "3           1       1       Futrelle, Mrs. Jacques Heath (Lily May Peel)   \n",
              "4           0       3                           Allen, Mr. William Henry   \n",
              "..        ...     ...                                                ...   \n",
              "886         0       2                              Montvila, Rev. Juozas   \n",
              "887         1       1                       Graham, Miss. Margaret Edith   \n",
              "888         0       3           Johnston, Miss. Catherine Helen \"Carrie\"   \n",
              "889         1       1                              Behr, Mr. Karl Howell   \n",
              "890         0       3                                Dooley, Mr. Patrick   \n",
              "\n",
              "        Sex   Age  SibSp  Parch     Fare Embarked  \n",
              "0      male  22.0      1      0   7.2500        S  \n",
              "1    female  38.0      1      0  71.2833        C  \n",
              "2    female  26.0      0      0   7.9250        S  \n",
              "3    female  35.0      1      0  53.1000        S  \n",
              "4      male  35.0      0      0   8.0500        S  \n",
              "..      ...   ...    ...    ...      ...      ...  \n",
              "886    male  27.0      0      0  13.0000        S  \n",
              "887  female  19.0      0      0  30.0000        S  \n",
              "888  female   NaN      1      2  23.4500        S  \n",
              "889    male  26.0      0      0  30.0000        C  \n",
              "890    male  32.0      0      0   7.7500        Q  \n",
              "\n",
              "[891 rows x 9 columns]"
            ],
            "text/html": [
              "\n",
              "  <div id=\"df-6d48eece-5a25-441f-9532-0fb12ef04f3b\">\n",
              "    <div class=\"colab-df-container\">\n",
              "      <div>\n",
              "<style scoped>\n",
              "    .dataframe tbody tr th:only-of-type {\n",
              "        vertical-align: middle;\n",
              "    }\n",
              "\n",
              "    .dataframe tbody tr th {\n",
              "        vertical-align: top;\n",
              "    }\n",
              "\n",
              "    .dataframe thead th {\n",
              "        text-align: right;\n",
              "    }\n",
              "</style>\n",
              "<table border=\"1\" class=\"dataframe\">\n",
              "  <thead>\n",
              "    <tr style=\"text-align: right;\">\n",
              "      <th></th>\n",
              "      <th>Survived</th>\n",
              "      <th>Pclass</th>\n",
              "      <th>Name</th>\n",
              "      <th>Sex</th>\n",
              "      <th>Age</th>\n",
              "      <th>SibSp</th>\n",
              "      <th>Parch</th>\n",
              "      <th>Fare</th>\n",
              "      <th>Embarked</th>\n",
              "    </tr>\n",
              "  </thead>\n",
              "  <tbody>\n",
              "    <tr>\n",
              "      <th>0</th>\n",
              "      <td>0</td>\n",
              "      <td>3</td>\n",
              "      <td>Braund, Mr. Owen Harris</td>\n",
              "      <td>male</td>\n",
              "      <td>22.0</td>\n",
              "      <td>1</td>\n",
              "      <td>0</td>\n",
              "      <td>7.2500</td>\n",
              "      <td>S</td>\n",
              "    </tr>\n",
              "    <tr>\n",
              "      <th>1</th>\n",
              "      <td>1</td>\n",
              "      <td>1</td>\n",
              "      <td>Cumings, Mrs. John Bradley (Florence Briggs Th...</td>\n",
              "      <td>female</td>\n",
              "      <td>38.0</td>\n",
              "      <td>1</td>\n",
              "      <td>0</td>\n",
              "      <td>71.2833</td>\n",
              "      <td>C</td>\n",
              "    </tr>\n",
              "    <tr>\n",
              "      <th>2</th>\n",
              "      <td>1</td>\n",
              "      <td>3</td>\n",
              "      <td>Heikkinen, Miss. Laina</td>\n",
              "      <td>female</td>\n",
              "      <td>26.0</td>\n",
              "      <td>0</td>\n",
              "      <td>0</td>\n",
              "      <td>7.9250</td>\n",
              "      <td>S</td>\n",
              "    </tr>\n",
              "    <tr>\n",
              "      <th>3</th>\n",
              "      <td>1</td>\n",
              "      <td>1</td>\n",
              "      <td>Futrelle, Mrs. Jacques Heath (Lily May Peel)</td>\n",
              "      <td>female</td>\n",
              "      <td>35.0</td>\n",
              "      <td>1</td>\n",
              "      <td>0</td>\n",
              "      <td>53.1000</td>\n",
              "      <td>S</td>\n",
              "    </tr>\n",
              "    <tr>\n",
              "      <th>4</th>\n",
              "      <td>0</td>\n",
              "      <td>3</td>\n",
              "      <td>Allen, Mr. William Henry</td>\n",
              "      <td>male</td>\n",
              "      <td>35.0</td>\n",
              "      <td>0</td>\n",
              "      <td>0</td>\n",
              "      <td>8.0500</td>\n",
              "      <td>S</td>\n",
              "    </tr>\n",
              "    <tr>\n",
              "      <th>...</th>\n",
              "      <td>...</td>\n",
              "      <td>...</td>\n",
              "      <td>...</td>\n",
              "      <td>...</td>\n",
              "      <td>...</td>\n",
              "      <td>...</td>\n",
              "      <td>...</td>\n",
              "      <td>...</td>\n",
              "      <td>...</td>\n",
              "    </tr>\n",
              "    <tr>\n",
              "      <th>886</th>\n",
              "      <td>0</td>\n",
              "      <td>2</td>\n",
              "      <td>Montvila, Rev. Juozas</td>\n",
              "      <td>male</td>\n",
              "      <td>27.0</td>\n",
              "      <td>0</td>\n",
              "      <td>0</td>\n",
              "      <td>13.0000</td>\n",
              "      <td>S</td>\n",
              "    </tr>\n",
              "    <tr>\n",
              "      <th>887</th>\n",
              "      <td>1</td>\n",
              "      <td>1</td>\n",
              "      <td>Graham, Miss. Margaret Edith</td>\n",
              "      <td>female</td>\n",
              "      <td>19.0</td>\n",
              "      <td>0</td>\n",
              "      <td>0</td>\n",
              "      <td>30.0000</td>\n",
              "      <td>S</td>\n",
              "    </tr>\n",
              "    <tr>\n",
              "      <th>888</th>\n",
              "      <td>0</td>\n",
              "      <td>3</td>\n",
              "      <td>Johnston, Miss. Catherine Helen \"Carrie\"</td>\n",
              "      <td>female</td>\n",
              "      <td>NaN</td>\n",
              "      <td>1</td>\n",
              "      <td>2</td>\n",
              "      <td>23.4500</td>\n",
              "      <td>S</td>\n",
              "    </tr>\n",
              "    <tr>\n",
              "      <th>889</th>\n",
              "      <td>1</td>\n",
              "      <td>1</td>\n",
              "      <td>Behr, Mr. Karl Howell</td>\n",
              "      <td>male</td>\n",
              "      <td>26.0</td>\n",
              "      <td>0</td>\n",
              "      <td>0</td>\n",
              "      <td>30.0000</td>\n",
              "      <td>C</td>\n",
              "    </tr>\n",
              "    <tr>\n",
              "      <th>890</th>\n",
              "      <td>0</td>\n",
              "      <td>3</td>\n",
              "      <td>Dooley, Mr. Patrick</td>\n",
              "      <td>male</td>\n",
              "      <td>32.0</td>\n",
              "      <td>0</td>\n",
              "      <td>0</td>\n",
              "      <td>7.7500</td>\n",
              "      <td>Q</td>\n",
              "    </tr>\n",
              "  </tbody>\n",
              "</table>\n",
              "<p>891 rows × 9 columns</p>\n",
              "</div>\n",
              "      <button class=\"colab-df-convert\" onclick=\"convertToInteractive('df-6d48eece-5a25-441f-9532-0fb12ef04f3b')\"\n",
              "              title=\"Convert this dataframe to an interactive table.\"\n",
              "              style=\"display:none;\">\n",
              "        \n",
              "  <svg xmlns=\"http://www.w3.org/2000/svg\" height=\"24px\"viewBox=\"0 0 24 24\"\n",
              "       width=\"24px\">\n",
              "    <path d=\"M0 0h24v24H0V0z\" fill=\"none\"/>\n",
              "    <path d=\"M18.56 5.44l.94 2.06.94-2.06 2.06-.94-2.06-.94-.94-2.06-.94 2.06-2.06.94zm-11 1L8.5 8.5l.94-2.06 2.06-.94-2.06-.94L8.5 2.5l-.94 2.06-2.06.94zm10 10l.94 2.06.94-2.06 2.06-.94-2.06-.94-.94-2.06-.94 2.06-2.06.94z\"/><path d=\"M17.41 7.96l-1.37-1.37c-.4-.4-.92-.59-1.43-.59-.52 0-1.04.2-1.43.59L10.3 9.45l-7.72 7.72c-.78.78-.78 2.05 0 2.83L4 21.41c.39.39.9.59 1.41.59.51 0 1.02-.2 1.41-.59l7.78-7.78 2.81-2.81c.8-.78.8-2.07 0-2.86zM5.41 20L4 18.59l7.72-7.72 1.47 1.35L5.41 20z\"/>\n",
              "  </svg>\n",
              "      </button>\n",
              "      \n",
              "  <style>\n",
              "    .colab-df-container {\n",
              "      display:flex;\n",
              "      flex-wrap:wrap;\n",
              "      gap: 12px;\n",
              "    }\n",
              "\n",
              "    .colab-df-convert {\n",
              "      background-color: #E8F0FE;\n",
              "      border: none;\n",
              "      border-radius: 50%;\n",
              "      cursor: pointer;\n",
              "      display: none;\n",
              "      fill: #1967D2;\n",
              "      height: 32px;\n",
              "      padding: 0 0 0 0;\n",
              "      width: 32px;\n",
              "    }\n",
              "\n",
              "    .colab-df-convert:hover {\n",
              "      background-color: #E2EBFA;\n",
              "      box-shadow: 0px 1px 2px rgba(60, 64, 67, 0.3), 0px 1px 3px 1px rgba(60, 64, 67, 0.15);\n",
              "      fill: #174EA6;\n",
              "    }\n",
              "\n",
              "    [theme=dark] .colab-df-convert {\n",
              "      background-color: #3B4455;\n",
              "      fill: #D2E3FC;\n",
              "    }\n",
              "\n",
              "    [theme=dark] .colab-df-convert:hover {\n",
              "      background-color: #434B5C;\n",
              "      box-shadow: 0px 1px 3px 1px rgba(0, 0, 0, 0.15);\n",
              "      filter: drop-shadow(0px 1px 2px rgba(0, 0, 0, 0.3));\n",
              "      fill: #FFFFFF;\n",
              "    }\n",
              "  </style>\n",
              "\n",
              "      <script>\n",
              "        const buttonEl =\n",
              "          document.querySelector('#df-6d48eece-5a25-441f-9532-0fb12ef04f3b button.colab-df-convert');\n",
              "        buttonEl.style.display =\n",
              "          google.colab.kernel.accessAllowed ? 'block' : 'none';\n",
              "\n",
              "        async function convertToInteractive(key) {\n",
              "          const element = document.querySelector('#df-6d48eece-5a25-441f-9532-0fb12ef04f3b');\n",
              "          const dataTable =\n",
              "            await google.colab.kernel.invokeFunction('convertToInteractive',\n",
              "                                                     [key], {});\n",
              "          if (!dataTable) return;\n",
              "\n",
              "          const docLinkHtml = 'Like what you see? Visit the ' +\n",
              "            '<a target=\"_blank\" href=https://colab.research.google.com/notebooks/data_table.ipynb>data table notebook</a>'\n",
              "            + ' to learn more about interactive tables.';\n",
              "          element.innerHTML = '';\n",
              "          dataTable['output_type'] = 'display_data';\n",
              "          await google.colab.output.renderOutput(dataTable, element);\n",
              "          const docLink = document.createElement('div');\n",
              "          docLink.innerHTML = docLinkHtml;\n",
              "          element.appendChild(docLink);\n",
              "        }\n",
              "      </script>\n",
              "    </div>\n",
              "  </div>\n",
              "  "
            ]
          },
          "metadata": {},
          "execution_count": 8
        }
      ]
    },
    {
      "cell_type": "markdown",
      "source": [
        "Now i will fill missing values.\n",
        "\n",
        "For Embarked i will fill with random values.\n",
        "\n",
        "For Age becouse there are 177 values missing i will fill with the mean value so i wont \"distort\" the data."
      ],
      "metadata": {
        "id": "mF1rQkuM5cS7"
      }
    },
    {
      "cell_type": "code",
      "source": [
        "# fill empty values in the dataframe\n",
        "def fill_na_median(df, column_name):\n",
        "    df_not_null = df[~df[column_name].isnull()]\n",
        "    df[column_name].fillna(df_not_null[column_name].median(), inplace=True) \n",
        "\n",
        "def fill_na_mean(df, column_name):\n",
        "    df_not_null = df[~df[column_name].isnull()]\n",
        "    df[column_name].fillna(df_not_null[column_name].mean(), inplace=True) \n",
        "\n",
        "def fill_na_random_pick_column_distribution(df, column_name):\n",
        "    df_not_null = df[~df[column_name].isnull()]\n",
        "    df_null = df[df[column_name].isnull()]\n",
        "    options = np.random.choice(df_not_null[column_name])\n",
        "    df[column_name] = df[column_name].apply(lambda x: np.random.choice(df_not_null[column_name]) if pd.isnull(x) else x)\n"
      ],
      "metadata": {
        "id": "291_XzaG5fbt"
      },
      "execution_count": null,
      "outputs": []
    },
    {
      "cell_type": "code",
      "source": [
        "fill_na_random_pick_column_distribution(altered_train, \"Embarked\")\n",
        "fill_na_mean(altered_train, \"Age\")"
      ],
      "metadata": {
        "id": "Q5B6gyv55k0t"
      },
      "execution_count": null,
      "outputs": []
    },
    {
      "cell_type": "code",
      "source": [
        "count_empty_values_in_each_column(altered_train)"
      ],
      "metadata": {
        "colab": {
          "base_uri": "https://localhost:8080/"
        },
        "id": "ZW4IJLU16-sA",
        "outputId": "bb34fc4c-2653-4a89-e31f-24fc2e689c25"
      },
      "execution_count": null,
      "outputs": [
        {
          "output_type": "stream",
          "name": "stdout",
          "text": [
            "empty values\n",
            "------------\n",
            "\n",
            "Survived: 0\n",
            "Pclass: 0\n",
            "Name: 0\n",
            "Sex: 0\n",
            "Age: 0\n",
            "SibSp: 0\n",
            "Parch: 0\n",
            "Fare: 0\n",
            "Embarked: 0\n"
          ]
        }
      ]
    },
    {
      "cell_type": "markdown",
      "source": [
        "As we can see now we dont have missing values in any column\n",
        "\n",
        "Now i will convert our catagorial features (Sex and Embarked) with dummy encoding"
      ],
      "metadata": {
        "id": "cubvavNd7DVM"
      }
    },
    {
      "cell_type": "code",
      "source": [
        "df_cat = altered_train[['Embarked']]\n",
        "enc = OneHotEncoder(drop='first', sparse=False)\n",
        "cat_enc = pd.DataFrame(enc.fit_transform(df_cat), columns=enc.get_feature_names_out())\n",
        "altered_train = altered_train.drop(['Embarked'], axis=1).join(cat_enc)\n",
        "altered_train['Sex'] = altered_train['Sex'].map( {'female': 1, 'male': 0} ).astype(int)\n",
        "altered_train"
      ],
      "metadata": {
        "colab": {
          "base_uri": "https://localhost:8080/",
          "height": 424
        },
        "id": "35NMDwZV7QQs",
        "outputId": "94358520-a6e3-4d81-890b-49b8a4a54ff0"
      },
      "execution_count": null,
      "outputs": [
        {
          "output_type": "execute_result",
          "data": {
            "text/plain": [
              "     Survived  Pclass                                               Name  Sex  \\\n",
              "0           0       3                            Braund, Mr. Owen Harris    0   \n",
              "1           1       1  Cumings, Mrs. John Bradley (Florence Briggs Th...    1   \n",
              "2           1       3                             Heikkinen, Miss. Laina    1   \n",
              "3           1       1       Futrelle, Mrs. Jacques Heath (Lily May Peel)    1   \n",
              "4           0       3                           Allen, Mr. William Henry    0   \n",
              "..        ...     ...                                                ...  ...   \n",
              "886         0       2                              Montvila, Rev. Juozas    0   \n",
              "887         1       1                       Graham, Miss. Margaret Edith    1   \n",
              "888         0       3           Johnston, Miss. Catherine Helen \"Carrie\"    1   \n",
              "889         1       1                              Behr, Mr. Karl Howell    0   \n",
              "890         0       3                                Dooley, Mr. Patrick    0   \n",
              "\n",
              "           Age  SibSp  Parch     Fare  Embarked_Q  Embarked_S  \n",
              "0    22.000000      1      0   7.2500         0.0         1.0  \n",
              "1    38.000000      1      0  71.2833         0.0         0.0  \n",
              "2    26.000000      0      0   7.9250         0.0         1.0  \n",
              "3    35.000000      1      0  53.1000         0.0         1.0  \n",
              "4    35.000000      0      0   8.0500         0.0         1.0  \n",
              "..         ...    ...    ...      ...         ...         ...  \n",
              "886  27.000000      0      0  13.0000         0.0         1.0  \n",
              "887  19.000000      0      0  30.0000         0.0         1.0  \n",
              "888  29.699118      1      2  23.4500         0.0         1.0  \n",
              "889  26.000000      0      0  30.0000         0.0         0.0  \n",
              "890  32.000000      0      0   7.7500         1.0         0.0  \n",
              "\n",
              "[891 rows x 10 columns]"
            ],
            "text/html": [
              "\n",
              "  <div id=\"df-6cd5bda3-895e-470c-9e3c-4336d227dfdf\">\n",
              "    <div class=\"colab-df-container\">\n",
              "      <div>\n",
              "<style scoped>\n",
              "    .dataframe tbody tr th:only-of-type {\n",
              "        vertical-align: middle;\n",
              "    }\n",
              "\n",
              "    .dataframe tbody tr th {\n",
              "        vertical-align: top;\n",
              "    }\n",
              "\n",
              "    .dataframe thead th {\n",
              "        text-align: right;\n",
              "    }\n",
              "</style>\n",
              "<table border=\"1\" class=\"dataframe\">\n",
              "  <thead>\n",
              "    <tr style=\"text-align: right;\">\n",
              "      <th></th>\n",
              "      <th>Survived</th>\n",
              "      <th>Pclass</th>\n",
              "      <th>Name</th>\n",
              "      <th>Sex</th>\n",
              "      <th>Age</th>\n",
              "      <th>SibSp</th>\n",
              "      <th>Parch</th>\n",
              "      <th>Fare</th>\n",
              "      <th>Embarked_Q</th>\n",
              "      <th>Embarked_S</th>\n",
              "    </tr>\n",
              "  </thead>\n",
              "  <tbody>\n",
              "    <tr>\n",
              "      <th>0</th>\n",
              "      <td>0</td>\n",
              "      <td>3</td>\n",
              "      <td>Braund, Mr. Owen Harris</td>\n",
              "      <td>0</td>\n",
              "      <td>22.000000</td>\n",
              "      <td>1</td>\n",
              "      <td>0</td>\n",
              "      <td>7.2500</td>\n",
              "      <td>0.0</td>\n",
              "      <td>1.0</td>\n",
              "    </tr>\n",
              "    <tr>\n",
              "      <th>1</th>\n",
              "      <td>1</td>\n",
              "      <td>1</td>\n",
              "      <td>Cumings, Mrs. John Bradley (Florence Briggs Th...</td>\n",
              "      <td>1</td>\n",
              "      <td>38.000000</td>\n",
              "      <td>1</td>\n",
              "      <td>0</td>\n",
              "      <td>71.2833</td>\n",
              "      <td>0.0</td>\n",
              "      <td>0.0</td>\n",
              "    </tr>\n",
              "    <tr>\n",
              "      <th>2</th>\n",
              "      <td>1</td>\n",
              "      <td>3</td>\n",
              "      <td>Heikkinen, Miss. Laina</td>\n",
              "      <td>1</td>\n",
              "      <td>26.000000</td>\n",
              "      <td>0</td>\n",
              "      <td>0</td>\n",
              "      <td>7.9250</td>\n",
              "      <td>0.0</td>\n",
              "      <td>1.0</td>\n",
              "    </tr>\n",
              "    <tr>\n",
              "      <th>3</th>\n",
              "      <td>1</td>\n",
              "      <td>1</td>\n",
              "      <td>Futrelle, Mrs. Jacques Heath (Lily May Peel)</td>\n",
              "      <td>1</td>\n",
              "      <td>35.000000</td>\n",
              "      <td>1</td>\n",
              "      <td>0</td>\n",
              "      <td>53.1000</td>\n",
              "      <td>0.0</td>\n",
              "      <td>1.0</td>\n",
              "    </tr>\n",
              "    <tr>\n",
              "      <th>4</th>\n",
              "      <td>0</td>\n",
              "      <td>3</td>\n",
              "      <td>Allen, Mr. William Henry</td>\n",
              "      <td>0</td>\n",
              "      <td>35.000000</td>\n",
              "      <td>0</td>\n",
              "      <td>0</td>\n",
              "      <td>8.0500</td>\n",
              "      <td>0.0</td>\n",
              "      <td>1.0</td>\n",
              "    </tr>\n",
              "    <tr>\n",
              "      <th>...</th>\n",
              "      <td>...</td>\n",
              "      <td>...</td>\n",
              "      <td>...</td>\n",
              "      <td>...</td>\n",
              "      <td>...</td>\n",
              "      <td>...</td>\n",
              "      <td>...</td>\n",
              "      <td>...</td>\n",
              "      <td>...</td>\n",
              "      <td>...</td>\n",
              "    </tr>\n",
              "    <tr>\n",
              "      <th>886</th>\n",
              "      <td>0</td>\n",
              "      <td>2</td>\n",
              "      <td>Montvila, Rev. Juozas</td>\n",
              "      <td>0</td>\n",
              "      <td>27.000000</td>\n",
              "      <td>0</td>\n",
              "      <td>0</td>\n",
              "      <td>13.0000</td>\n",
              "      <td>0.0</td>\n",
              "      <td>1.0</td>\n",
              "    </tr>\n",
              "    <tr>\n",
              "      <th>887</th>\n",
              "      <td>1</td>\n",
              "      <td>1</td>\n",
              "      <td>Graham, Miss. Margaret Edith</td>\n",
              "      <td>1</td>\n",
              "      <td>19.000000</td>\n",
              "      <td>0</td>\n",
              "      <td>0</td>\n",
              "      <td>30.0000</td>\n",
              "      <td>0.0</td>\n",
              "      <td>1.0</td>\n",
              "    </tr>\n",
              "    <tr>\n",
              "      <th>888</th>\n",
              "      <td>0</td>\n",
              "      <td>3</td>\n",
              "      <td>Johnston, Miss. Catherine Helen \"Carrie\"</td>\n",
              "      <td>1</td>\n",
              "      <td>29.699118</td>\n",
              "      <td>1</td>\n",
              "      <td>2</td>\n",
              "      <td>23.4500</td>\n",
              "      <td>0.0</td>\n",
              "      <td>1.0</td>\n",
              "    </tr>\n",
              "    <tr>\n",
              "      <th>889</th>\n",
              "      <td>1</td>\n",
              "      <td>1</td>\n",
              "      <td>Behr, Mr. Karl Howell</td>\n",
              "      <td>0</td>\n",
              "      <td>26.000000</td>\n",
              "      <td>0</td>\n",
              "      <td>0</td>\n",
              "      <td>30.0000</td>\n",
              "      <td>0.0</td>\n",
              "      <td>0.0</td>\n",
              "    </tr>\n",
              "    <tr>\n",
              "      <th>890</th>\n",
              "      <td>0</td>\n",
              "      <td>3</td>\n",
              "      <td>Dooley, Mr. Patrick</td>\n",
              "      <td>0</td>\n",
              "      <td>32.000000</td>\n",
              "      <td>0</td>\n",
              "      <td>0</td>\n",
              "      <td>7.7500</td>\n",
              "      <td>1.0</td>\n",
              "      <td>0.0</td>\n",
              "    </tr>\n",
              "  </tbody>\n",
              "</table>\n",
              "<p>891 rows × 10 columns</p>\n",
              "</div>\n",
              "      <button class=\"colab-df-convert\" onclick=\"convertToInteractive('df-6cd5bda3-895e-470c-9e3c-4336d227dfdf')\"\n",
              "              title=\"Convert this dataframe to an interactive table.\"\n",
              "              style=\"display:none;\">\n",
              "        \n",
              "  <svg xmlns=\"http://www.w3.org/2000/svg\" height=\"24px\"viewBox=\"0 0 24 24\"\n",
              "       width=\"24px\">\n",
              "    <path d=\"M0 0h24v24H0V0z\" fill=\"none\"/>\n",
              "    <path d=\"M18.56 5.44l.94 2.06.94-2.06 2.06-.94-2.06-.94-.94-2.06-.94 2.06-2.06.94zm-11 1L8.5 8.5l.94-2.06 2.06-.94-2.06-.94L8.5 2.5l-.94 2.06-2.06.94zm10 10l.94 2.06.94-2.06 2.06-.94-2.06-.94-.94-2.06-.94 2.06-2.06.94z\"/><path d=\"M17.41 7.96l-1.37-1.37c-.4-.4-.92-.59-1.43-.59-.52 0-1.04.2-1.43.59L10.3 9.45l-7.72 7.72c-.78.78-.78 2.05 0 2.83L4 21.41c.39.39.9.59 1.41.59.51 0 1.02-.2 1.41-.59l7.78-7.78 2.81-2.81c.8-.78.8-2.07 0-2.86zM5.41 20L4 18.59l7.72-7.72 1.47 1.35L5.41 20z\"/>\n",
              "  </svg>\n",
              "      </button>\n",
              "      \n",
              "  <style>\n",
              "    .colab-df-container {\n",
              "      display:flex;\n",
              "      flex-wrap:wrap;\n",
              "      gap: 12px;\n",
              "    }\n",
              "\n",
              "    .colab-df-convert {\n",
              "      background-color: #E8F0FE;\n",
              "      border: none;\n",
              "      border-radius: 50%;\n",
              "      cursor: pointer;\n",
              "      display: none;\n",
              "      fill: #1967D2;\n",
              "      height: 32px;\n",
              "      padding: 0 0 0 0;\n",
              "      width: 32px;\n",
              "    }\n",
              "\n",
              "    .colab-df-convert:hover {\n",
              "      background-color: #E2EBFA;\n",
              "      box-shadow: 0px 1px 2px rgba(60, 64, 67, 0.3), 0px 1px 3px 1px rgba(60, 64, 67, 0.15);\n",
              "      fill: #174EA6;\n",
              "    }\n",
              "\n",
              "    [theme=dark] .colab-df-convert {\n",
              "      background-color: #3B4455;\n",
              "      fill: #D2E3FC;\n",
              "    }\n",
              "\n",
              "    [theme=dark] .colab-df-convert:hover {\n",
              "      background-color: #434B5C;\n",
              "      box-shadow: 0px 1px 3px 1px rgba(0, 0, 0, 0.15);\n",
              "      filter: drop-shadow(0px 1px 2px rgba(0, 0, 0, 0.3));\n",
              "      fill: #FFFFFF;\n",
              "    }\n",
              "  </style>\n",
              "\n",
              "      <script>\n",
              "        const buttonEl =\n",
              "          document.querySelector('#df-6cd5bda3-895e-470c-9e3c-4336d227dfdf button.colab-df-convert');\n",
              "        buttonEl.style.display =\n",
              "          google.colab.kernel.accessAllowed ? 'block' : 'none';\n",
              "\n",
              "        async function convertToInteractive(key) {\n",
              "          const element = document.querySelector('#df-6cd5bda3-895e-470c-9e3c-4336d227dfdf');\n",
              "          const dataTable =\n",
              "            await google.colab.kernel.invokeFunction('convertToInteractive',\n",
              "                                                     [key], {});\n",
              "          if (!dataTable) return;\n",
              "\n",
              "          const docLinkHtml = 'Like what you see? Visit the ' +\n",
              "            '<a target=\"_blank\" href=https://colab.research.google.com/notebooks/data_table.ipynb>data table notebook</a>'\n",
              "            + ' to learn more about interactive tables.';\n",
              "          element.innerHTML = '';\n",
              "          dataTable['output_type'] = 'display_data';\n",
              "          await google.colab.output.renderOutput(dataTable, element);\n",
              "          const docLink = document.createElement('div');\n",
              "          docLink.innerHTML = docLinkHtml;\n",
              "          element.appendChild(docLink);\n",
              "        }\n",
              "      </script>\n",
              "    </div>\n",
              "  </div>\n",
              "  "
            ]
          },
          "metadata": {},
          "execution_count": 12
        }
      ]
    },
    {
      "cell_type": "markdown",
      "source": [
        "now, I will cheack the features by heat map for the correlation."
      ],
      "metadata": {
        "id": "eSG5NFZoKqip"
      }
    },
    {
      "cell_type": "code",
      "source": [
        "# show absolute correlation between features in a heatmap\n",
        "plt.figure(figsize=(12,10))\n",
        "cor = np.abs(altered_train.corr())\n",
        "sns.heatmap(cor, annot=True, cmap=plt.cm.Blues, vmin=0, vmax=1, mask = np.triu(cor))\n",
        "plt.show()"
      ],
      "metadata": {
        "colab": {
          "base_uri": "https://localhost:8080/",
          "height": 719
        },
        "id": "J745zzq2JZnU",
        "outputId": "9eda26da-ee3e-4ede-8269-ad714144a6d5"
      },
      "execution_count": null,
      "outputs": [
        {
          "output_type": "display_data",
          "data": {
            "text/plain": [
              "<Figure size 864x720 with 2 Axes>"
            ],
            "image/png": "[encoded data removed]"
          },
          "metadata": {
            "needs_background": "light"
          }
        }
      ]
    },
    {
      "cell_type": "markdown",
      "source": [
        "As we can see from the heat map:\n",
        "\n",
        "Strongest correlation to survived(corr >= 0.3): sex, pclass.\n",
        "\n",
        "realative strong correlation (corr >= 0.3): Fare-Pclass, Age-Pclass, SibSp-Parch.\n",
        "\n",
        "\n",
        "lets cheack some of the features realative to survival.\n",
        "\n",
        "i also want to cheack the union of SibSp and Parch because i dont think there is any real diffrence for the most part between them to survival,\n",
        "\n",
        "so maybe we can make a new feature called \"family\" and drop SibSp and Parch. \n",
        "\n",
        "also i want to cheack the survival rate by Title name."
      ],
      "metadata": {
        "id": "by7oNP2rMM5U"
      }
    },
    {
      "cell_type": "code",
      "source": [
        "# Survived\n",
        "SurvivedBarPlot = sns.barplot(x = \"Survived\", y = altered_train[\"Survived\"].value_counts(), data = altered_train)\n",
        "SurvivedBarPlot.set_xticklabels([\"Died\", \"Survived\"])\n",
        "SurvivedBarPlot.set_ylabel(\"Number of survivals\")\n",
        "plt.title(\"Number of survival\")\n",
        "plt.show()\n",
        "\n",
        "# Survived relative to Sex\n",
        "sexBarPlot = sns.barplot(x = \"Sex\", y = \"Survived\", data = altered_train)\n",
        "sexBarPlot.set_xticklabels([\"Male\", \"Female\"])\n",
        "plt.title(\"Survival by Sex\")\n",
        "plt.show()\n",
        "\n",
        "# Survived relative to Pclass\n",
        "sexBarPlot = sns.barplot(x = \"Pclass\", y = \"Survived\", data = altered_train)\n",
        "sexBarPlot.set_xticklabels([\"1st class\", \"2nd class\", \"3rd class\"])\n",
        "plt.title(\"Survival by Pclass\")\n",
        "plt.show()\n",
        "\n",
        "\n",
        "# Survived relative to SibSp\n",
        "SibSpBarPlot = sns.barplot(x = \"SibSp\", y = \"Survived\", data = altered_train)\n",
        "plt.title(\"Survival by SibSp\")\n",
        "plt.show()\n",
        "\n",
        "# Survived relative to Parch\n",
        "ParchBarPlot = sns.barplot(x = \"Parch\", y = \"Survived\", data = altered_train)\n",
        "plt.title(\"Survival by Parch\")\n",
        "plt.show()\n",
        "\n",
        "# Survived relative to Parch on childerns\n",
        "ChildParchBarPlot = sns.barplot(x = \"Parch\", y = \"Survived\", data = altered_train[altered_train['Age'] <= 15])\n",
        "plt.title(\"Survival by Parch of child (Age <= 15) \")\n",
        "plt.show()"
      ],
      "metadata": {
        "colab": {
          "base_uri": "https://localhost:8080/",
          "height": 1000
        },
        "id": "stv2nh5HJpRK",
        "outputId": "d20578ac-011b-478f-f8a7-4758ee757a68"
      },
      "execution_count": null,
      "outputs": [
        {
          "output_type": "display_data",
          "data": {
            "text/plain": [
              "<Figure size 432x288 with 1 Axes>"
            ],
            "image/png": "[encoded data removed]"
          },
          "metadata": {
            "needs_background": "light"
          }
        },
        {
          "output_type": "display_data",
          "data": {
            "text/plain": [
              "<Figure size 432x288 with 1 Axes>"
            ],
            "image/png": "[encoded data removed]"
          },
          "metadata": {
            "needs_background": "light"
          }
        },
        {
          "output_type": "display_data",
          "data": {
            "text/plain": [
              "<Figure size 432x288 with 1 Axes>"
            ],
            "image/png": "[encoded data removed]"
          },
          "metadata": {
            "needs_background": "light"
          }
        },
        {
          "output_type": "display_data",
          "data": {
            "text/plain": [
              "<Figure size 432x288 with 1 Axes>"
            ],
            "image/png": "[encoded data removed]"
          },
          "metadata": {
            "needs_background": "light"
          }
        },
        {
          "output_type": "display_data",
          "data": {
            "text/plain": [
              "<Figure size 432x288 with 1 Axes>"
            ],
            "image/png": "[encoded data removed]"
          },
          "metadata": {
            "needs_background": "light"
          }
        },
        {
          "output_type": "display_data",
          "data": {
            "text/plain": [
              "<Figure size 432x288 with 1 Axes>"
            ],
            "image/png": "[encoded data removed]"
          },
          "metadata": {
            "needs_background": "light"
          }
        }
      ]
    },
    {
      "cell_type": "markdown",
      "source": [
        "# Adding features\n",
        "\n"
      ],
      "metadata": {
        "id": "oL6CjLgvFTDR"
      }
    },
    {
      "cell_type": "markdown",
      "source": [
        "From the above graphs we can see that females had the highest rate of survival.\n",
        "\n",
        "We would like to see if certin groups had higher rate of survival then other.\n",
        "\n",
        "we will examin survival by marriage titles and by age groups.\n"
      ],
      "metadata": {
        "id": "Z2DmX2fArZVO"
      }
    },
    {
      "cell_type": "code",
      "source": [
        "#didnt use made the score worse\n",
        "#altered_train['Family'] = altered_train['Parch'] + altered_train['SibSp']\n",
        "#altered_train = altered_train.drop(['Parch', 'SibSp'], axis=1)"
      ],
      "metadata": {
        "id": "Pda2y8a0Jtl1"
      },
      "execution_count": null,
      "outputs": []
    },
    {
      "cell_type": "markdown",
      "source": [
        "lets cheack the connection between title names to survival "
      ],
      "metadata": {
        "id": "RaAdabf6fV19"
      }
    },
    {
      "cell_type": "code",
      "source": [
        "altered_train['Title'] = altered_train.Name.str.extract(' ([A-Za-z]+)\\.', expand=False)#extract title name\n",
        "pd.crosstab(altered_train['Title'], altered_train['Sex'])# show count of title names by sex"
      ],
      "metadata": {
        "id": "emBMx0HvN5oB",
        "colab": {
          "base_uri": "https://localhost:8080/",
          "height": 614
        },
        "outputId": "9cba46a7-038f-4a0e-da7b-bb7a0460aaaf"
      },
      "execution_count": null,
      "outputs": [
        {
          "output_type": "execute_result",
          "data": {
            "text/plain": [
              "Sex         0    1\n",
              "Title             \n",
              "Capt        1    0\n",
              "Col         2    0\n",
              "Countess    0    1\n",
              "Don         1    0\n",
              "Dr          6    1\n",
              "Jonkheer    1    0\n",
              "Lady        0    1\n",
              "Major       2    0\n",
              "Master     40    0\n",
              "Miss        0  182\n",
              "Mlle        0    2\n",
              "Mme         0    1\n",
              "Mr        517    0\n",
              "Mrs         0  125\n",
              "Ms          0    1\n",
              "Rev         6    0\n",
              "Sir         1    0"
            ],
            "text/html": [
              "\n",
              "  <div id=\"df-fdab0bed-4f35-44a1-8614-387d66094531\">\n",
              "    <div class=\"colab-df-container\">\n",
              "      <div>\n",
              "<style scoped>\n",
              "    .dataframe tbody tr th:only-of-type {\n",
              "        vertical-align: middle;\n",
              "    }\n",
              "\n",
              "    .dataframe tbody tr th {\n",
              "        vertical-align: top;\n",
              "    }\n",
              "\n",
              "    .dataframe thead th {\n",
              "        text-align: right;\n",
              "    }\n",
              "</style>\n",
              "<table border=\"1\" class=\"dataframe\">\n",
              "  <thead>\n",
              "    <tr style=\"text-align: right;\">\n",
              "      <th>Sex</th>\n",
              "      <th>0</th>\n",
              "      <th>1</th>\n",
              "    </tr>\n",
              "    <tr>\n",
              "      <th>Title</th>\n",
              "      <th></th>\n",
              "      <th></th>\n",
              "    </tr>\n",
              "  </thead>\n",
              "  <tbody>\n",
              "    <tr>\n",
              "      <th>Capt</th>\n",
              "      <td>1</td>\n",
              "      <td>0</td>\n",
              "    </tr>\n",
              "    <tr>\n",
              "      <th>Col</th>\n",
              "      <td>2</td>\n",
              "      <td>0</td>\n",
              "    </tr>\n",
              "    <tr>\n",
              "      <th>Countess</th>\n",
              "      <td>0</td>\n",
              "      <td>1</td>\n",
              "    </tr>\n",
              "    <tr>\n",
              "      <th>Don</th>\n",
              "      <td>1</td>\n",
              "      <td>0</td>\n",
              "    </tr>\n",
              "    <tr>\n",
              "      <th>Dr</th>\n",
              "      <td>6</td>\n",
              "      <td>1</td>\n",
              "    </tr>\n",
              "    <tr>\n",
              "      <th>Jonkheer</th>\n",
              "      <td>1</td>\n",
              "      <td>0</td>\n",
              "    </tr>\n",
              "    <tr>\n",
              "      <th>Lady</th>\n",
              "      <td>0</td>\n",
              "      <td>1</td>\n",
              "    </tr>\n",
              "    <tr>\n",
              "      <th>Major</th>\n",
              "      <td>2</td>\n",
              "      <td>0</td>\n",
              "    </tr>\n",
              "    <tr>\n",
              "      <th>Master</th>\n",
              "      <td>40</td>\n",
              "      <td>0</td>\n",
              "    </tr>\n",
              "    <tr>\n",
              "      <th>Miss</th>\n",
              "      <td>0</td>\n",
              "      <td>182</td>\n",
              "    </tr>\n",
              "    <tr>\n",
              "      <th>Mlle</th>\n",
              "      <td>0</td>\n",
              "      <td>2</td>\n",
              "    </tr>\n",
              "    <tr>\n",
              "      <th>Mme</th>\n",
              "      <td>0</td>\n",
              "      <td>1</td>\n",
              "    </tr>\n",
              "    <tr>\n",
              "      <th>Mr</th>\n",
              "      <td>517</td>\n",
              "      <td>0</td>\n",
              "    </tr>\n",
              "    <tr>\n",
              "      <th>Mrs</th>\n",
              "      <td>0</td>\n",
              "      <td>125</td>\n",
              "    </tr>\n",
              "    <tr>\n",
              "      <th>Ms</th>\n",
              "      <td>0</td>\n",
              "      <td>1</td>\n",
              "    </tr>\n",
              "    <tr>\n",
              "      <th>Rev</th>\n",
              "      <td>6</td>\n",
              "      <td>0</td>\n",
              "    </tr>\n",
              "    <tr>\n",
              "      <th>Sir</th>\n",
              "      <td>1</td>\n",
              "      <td>0</td>\n",
              "    </tr>\n",
              "  </tbody>\n",
              "</table>\n",
              "</div>\n",
              "      <button class=\"colab-df-convert\" onclick=\"convertToInteractive('df-fdab0bed-4f35-44a1-8614-387d66094531')\"\n",
              "              title=\"Convert this dataframe to an interactive table.\"\n",
              "              style=\"display:none;\">\n",
              "        \n",
              "  <svg xmlns=\"http://www.w3.org/2000/svg\" height=\"24px\"viewBox=\"0 0 24 24\"\n",
              "       width=\"24px\">\n",
              "    <path d=\"M0 0h24v24H0V0z\" fill=\"none\"/>\n",
              "    <path d=\"M18.56 5.44l.94 2.06.94-2.06 2.06-.94-2.06-.94-.94-2.06-.94 2.06-2.06.94zm-11 1L8.5 8.5l.94-2.06 2.06-.94-2.06-.94L8.5 2.5l-.94 2.06-2.06.94zm10 10l.94 2.06.94-2.06 2.06-.94-2.06-.94-.94-2.06-.94 2.06-2.06.94z\"/><path d=\"M17.41 7.96l-1.37-1.37c-.4-.4-.92-.59-1.43-.59-.52 0-1.04.2-1.43.59L10.3 9.45l-7.72 7.72c-.78.78-.78 2.05 0 2.83L4 21.41c.39.39.9.59 1.41.59.51 0 1.02-.2 1.41-.59l7.78-7.78 2.81-2.81c.8-.78.8-2.07 0-2.86zM5.41 20L4 18.59l7.72-7.72 1.47 1.35L5.41 20z\"/>\n",
              "  </svg>\n",
              "      </button>\n",
              "      \n",
              "  <style>\n",
              "    .colab-df-container {\n",
              "      display:flex;\n",
              "      flex-wrap:wrap;\n",
              "      gap: 12px;\n",
              "    }\n",
              "\n",
              "    .colab-df-convert {\n",
              "      background-color: #E8F0FE;\n",
              "      border: none;\n",
              "      border-radius: 50%;\n",
              "      cursor: pointer;\n",
              "      display: none;\n",
              "      fill: #1967D2;\n",
              "      height: 32px;\n",
              "      padding: 0 0 0 0;\n",
              "      width: 32px;\n",
              "    }\n",
              "\n",
              "    .colab-df-convert:hover {\n",
              "      background-color: #E2EBFA;\n",
              "      box-shadow: 0px 1px 2px rgba(60, 64, 67, 0.3), 0px 1px 3px 1px rgba(60, 64, 67, 0.15);\n",
              "      fill: #174EA6;\n",
              "    }\n",
              "\n",
              "    [theme=dark] .colab-df-convert {\n",
              "      background-color: #3B4455;\n",
              "      fill: #D2E3FC;\n",
              "    }\n",
              "\n",
              "    [theme=dark] .colab-df-convert:hover {\n",
              "      background-color: #434B5C;\n",
              "      box-shadow: 0px 1px 3px 1px rgba(0, 0, 0, 0.15);\n",
              "      filter: drop-shadow(0px 1px 2px rgba(0, 0, 0, 0.3));\n",
              "      fill: #FFFFFF;\n",
              "    }\n",
              "  </style>\n",
              "\n",
              "      <script>\n",
              "        const buttonEl =\n",
              "          document.querySelector('#df-fdab0bed-4f35-44a1-8614-387d66094531 button.colab-df-convert');\n",
              "        buttonEl.style.display =\n",
              "          google.colab.kernel.accessAllowed ? 'block' : 'none';\n",
              "\n",
              "        async function convertToInteractive(key) {\n",
              "          const element = document.querySelector('#df-fdab0bed-4f35-44a1-8614-387d66094531');\n",
              "          const dataTable =\n",
              "            await google.colab.kernel.invokeFunction('convertToInteractive',\n",
              "                                                     [key], {});\n",
              "          if (!dataTable) return;\n",
              "\n",
              "          const docLinkHtml = 'Like what you see? Visit the ' +\n",
              "            '<a target=\"_blank\" href=https://colab.research.google.com/notebooks/data_table.ipynb>data table notebook</a>'\n",
              "            + ' to learn more about interactive tables.';\n",
              "          element.innerHTML = '';\n",
              "          dataTable['output_type'] = 'display_data';\n",
              "          await google.colab.output.renderOutput(dataTable, element);\n",
              "          const docLink = document.createElement('div');\n",
              "          docLink.innerHTML = docLinkHtml;\n",
              "          element.appendChild(docLink);\n",
              "        }\n",
              "      </script>\n",
              "    </div>\n",
              "  </div>\n",
              "  "
            ]
          },
          "metadata": {},
          "execution_count": 16
        }
      ]
    },
    {
      "cell_type": "markdown",
      "source": [
        "As we can see we have some uncommen title names lets join all of them to 1 title called 'Rare'"
      ],
      "metadata": {
        "id": "5nNo4gjDgCbU"
      }
    },
    {
      "cell_type": "code",
      "source": [
        "rare_titles = ['Lady', 'Countess','Capt', 'Col', 'Don', 'Dr', 'Major', 'Rev', 'Sir', 'Jonkheer', 'Dona', 'Mlle', 'Ms', 'Mme']\n",
        "altered_train['Title'] = altered_train['Title'].replace(rare_titles, 'Rare') "
      ],
      "metadata": {
        "id": "EOTjeBEPOld1"
      },
      "execution_count": null,
      "outputs": []
    },
    {
      "cell_type": "code",
      "source": [
        "# Survived relative to Marrige Title\n",
        "ChildParchBarPlot = sns.barplot(x = \"Title\", y = \"Survived\", data = altered_train)\n",
        "plt.title(\"Survival by Marrige Title \")\n",
        "plt.show()"
      ],
      "metadata": {
        "colab": {
          "base_uri": "https://localhost:8080/",
          "height": 316
        },
        "id": "IvmRMlxfmcRt",
        "outputId": "5dd99627-9747-4384-a9e1-f77e9b0baf8b"
      },
      "execution_count": null,
      "outputs": [
        {
          "output_type": "display_data",
          "data": {
            "text/plain": [
              "<Figure size 432x288 with 1 Axes>"
            ],
            "image/png": "[encoded data removed]"
          },
          "metadata": {
            "needs_background": "light"
          }
        }
      ]
    },
    {
      "cell_type": "markdown",
      "source": [
        "As we cans see some title names has better rates of survival then other and because of that it could be a good indication on survival.\n",
        "\n",
        "So i will keep this feature and i will delete the feture 'Name'\n",
        "\n",
        "I will also encode the title names"
      ],
      "metadata": {
        "id": "sr6dtuBslOk4"
      }
    },
    {
      "cell_type": "code",
      "source": [
        "altered_train = altered_train.drop(columns = \"Name\", axis = 1)\n",
        "\n",
        "title_mapping = {\"Rare\": 1, \"Mr\": 2, \"Master\": 3, \"Mrs\": 4, \"Miss\": 5}\n",
        "altered_train['Title'] = altered_train['Title'].map(title_mapping)"
      ],
      "metadata": {
        "id": "ghELUQ7BO63S"
      },
      "execution_count": null,
      "outputs": []
    },
    {
      "cell_type": "markdown",
      "source": [
        "Now i will devide the passangers to Age 4 groups:\n",
        "  \n",
        "  1. **Children's(3):** Age 0-15\n",
        "  2. **Young adults(2):** Age 16-25\n",
        "  3. **Adults(1):** Age 26-64\n",
        "  4. **Elderly(0):** Age 65 and above"
      ],
      "metadata": {
        "id": "CQPKnIz5mTyt"
      }
    },
    {
      "cell_type": "code",
      "source": [
        "altered_train.loc[altered_train['Age'] <= 15, 'Age_group'] =3 \n",
        "altered_train.loc[(altered_train['Age'] > 15) & (altered_train['Age'] <= 25), 'Age_group'] = 2\n",
        "altered_train.loc[(altered_train['Age'] > 25) & (altered_train['Age'] <= 64), 'Age_group'] = 1\n",
        "altered_train.loc[altered_train['Age'] > 64 , 'Age_group'] = 0"
      ],
      "metadata": {
        "id": "fviabl24k2wg"
      },
      "execution_count": null,
      "outputs": []
    },
    {
      "cell_type": "code",
      "source": [
        "altered_train['Age_group'].isna().any()"
      ],
      "metadata": {
        "colab": {
          "base_uri": "https://localhost:8080/"
        },
        "id": "AWc1sxUgrywb",
        "outputId": "c0df3976-2a94-4170-af9e-a60e422951da"
      },
      "execution_count": null,
      "outputs": [
        {
          "output_type": "execute_result",
          "data": {
            "text/plain": [
              "False"
            ]
          },
          "metadata": {},
          "execution_count": 21
        }
      ]
    },
    {
      "cell_type": "markdown",
      "source": [
        "As we can see i created the age groups and made sure there are no missing values.\n",
        "\n",
        "Now we will cheack the realtion between survived to age group."
      ],
      "metadata": {
        "id": "jTMf_NPkuiJV"
      }
    },
    {
      "cell_type": "code",
      "source": [
        "# Survived relative to Age group\n",
        "ChildParchBarPlot = sns.barplot(x = \"Age_group\", y = \"Survived\", data = altered_train)\n",
        "plt.title(\"Survival by Age group \")\n",
        "plt.show()"
      ],
      "metadata": {
        "colab": {
          "base_uri": "https://localhost:8080/",
          "height": 316
        },
        "id": "mIqm4n5vugnW",
        "outputId": "904c1bf7-a226-4321-ea1f-d12f07f0d859"
      },
      "execution_count": null,
      "outputs": [
        {
          "output_type": "display_data",
          "data": {
            "text/plain": [
              "<Figure size 432x288 with 1 Axes>"
            ],
            "image/png": "[encoded data removed]"
          },
          "metadata": {
            "needs_background": "light"
          }
        }
      ]
    },
    {
      "cell_type": "markdown",
      "source": [
        "As we can see from the graph some age groups has higher rate of survival.\n",
        "\n",
        "So i will keep age group parameters and will drop age because it wiil be better to predict survival by this feature."
      ],
      "metadata": {
        "id": "D6rRjkv76Lo8"
      }
    },
    {
      "cell_type": "code",
      "source": [
        "altered_train = altered_train.drop(columns = \"Age\", axis = 1)"
      ],
      "metadata": {
        "id": "jsjGJ5PX6zyo"
      },
      "execution_count": null,
      "outputs": []
    },
    {
      "cell_type": "markdown",
      "source": [
        "#Conclusions from the graphs:\n",
        "  \n",
        "  1. Most of the survivals were women's.\n",
        "  2. 1st class passangers had the highest rate of survival.\n",
        "  3. The pepole with only 1 SibSp had the highest rate of survival.\n",
        "  4. The pepole with 3 Parch had the highest rate of survival.\n",
        "  5. Childrens (Age <= 15) with 0 Parch (in this case must be parents because they are too young for there own kids) had the highest rate of survival (i would figure it would be opposite of that).\n",
        "  6. Childrens (Age <= 15) had the highest rate of survival between all age groups.\n",
        "  7. Diffrent marrige titles had diffrent chances to survive (Mrs,Miss,Master are the highest 3) \n"
      ],
      "metadata": {
        "id": "Kg7IBvNsRXXs"
      }
    },
    {
      "cell_type": "markdown",
      "source": [
        "# Building the modle\n",
        "\n",
        "First we will slice the data to train and validation.\n",
        "\n",
        "lets cheack which % of slicing is better."
      ],
      "metadata": {
        "id": "TXqYTv9D8QrI"
      }
    },
    {
      "cell_type": "code",
      "source": [
        "# print 4 graphs: mse of train/test and r2 of train/test\n",
        "def print_graphs_r2_mse(graph_points):\n",
        "    for k, v in graph_points.items():\n",
        "        best_value = max(v.values()) if 'R2' in k else min(v.values())\n",
        "        best_index = np.argmax(list(v.values())) if 'R2' in k else np.argmin(list(v.values()))\n",
        "        color = 'red' if 'train' in k else 'blue'\n",
        "        fig = px.scatter(x=v.keys(), y=v.values(), title=f'{k}, best value: x={best_index + 1}, y={best_value}', color_discrete_sequence=[color])\n",
        "        fig.data[0].update(mode='markers+lines')\n",
        "        fig.show()"
      ],
      "metadata": {
        "id": "olvjh-Jo9M_I"
      },
      "execution_count": null,
      "outputs": []
    },
    {
      "cell_type": "code",
      "source": [
        "t = altered_train['Survived']\n",
        "x = altered_train.drop(columns = \"Survived\", axis = 1)\n",
        "\n",
        "# plot the score by split and the loss by split\n",
        "def plot_score_and_loss_by_split(X, t):\n",
        "    graph_points = {\n",
        "                    'Train CE':{},\n",
        "                    'Validation CE': {},\n",
        "                    'Train Accuracy': {},\n",
        "                    'Validation Accuracy': {}\n",
        "                    }\n",
        "    for size in range(10, 100, 10):\n",
        "        xTrain, xValidation, tTrain, tValidation = model_selection.train_test_split(x, t, test_size = size / 100, random_state = 42)\n",
        "        SGDClassifier = pipeline.make_pipeline(preprocessing.StandardScaler(), linear_model.SGDClassifier(loss = \"log\", alpha = 0, learning_rate = \"constant\", eta0 = 0.01)).fit(xTrain, tTrain)\n",
        "        yTrainProb = SGDClassifier.predict_proba(xTrain)\n",
        "        yValidationProb = SGDClassifier.predict_proba(xValidation)\n",
        "        \n",
        "        # print('CE on train', metrics.log_loss(tTrain, yTrainProb))\n",
        "        graph_points[\"Train CE\"][size / 100] = metrics.log_loss(tTrain, yTrainProb)\n",
        "        graph_points[\"Validation CE\"][size / 100] = metrics.log_loss(tValidation, yValidationProb)\n",
        "        graph_points[\"Train Accuracy\"][size / 100] = SGDClassifier.score(xTrain, tTrain)\n",
        "        graph_points[\"Validation Accuracy\"][size / 100] = SGDClassifier.score(xValidation, tValidation)\n",
        "    print_graphs_r2_mse(graph_points)\n",
        "\n",
        "plot_score_and_loss_by_split(x, t)"
      ],
      "metadata": {
        "colab": {
          "base_uri": "https://localhost:8080/",
          "height": 1000
        },
        "id": "T6-vLqA78RYt",
        "outputId": "265f6a17-cb76-494f-a8c5-6af4c6f4aac6"
      },
      "execution_count": null,
      "outputs": [
        {
          "output_type": "display_data",
          "data": {
            "text/html": [
              "<html>\n",
              "<head><meta charset=\"utf-8\" /></head>\n",
              "<body>\n",
              "    <div>            <script src=\"https://cdnjs.cloudflare.com/ajax/libs/mathjax/2.7.5/MathJax.js?config=TeX-AMS-MML_SVG\"></script><script type=\"text/javascript\">if (window.MathJax) {MathJax.Hub.Config({SVG: {font: \"STIX-Web\"}});}</script>                <script type=\"text/javascript\">window.PlotlyConfig = {MathJaxConfig: 'local'};</script>\n",
              "        <script src=\"https://cdn.plot.ly/plotly-2.8.3.min.js\"></script>                <div id=\"774690bf-b039-4ba2-8c34-eb55bab795eb\" class=\"plotly-graph-div\" style=\"height:525px; width:100%;\"></div>            <script type=\"text/javascript\">                                    window.PLOTLYENV=window.PLOTLYENV || {};                                    if (document.getElementById(\"774690bf-b039-4ba2-8c34-eb55bab795eb\")) {                    Plotly.newPlot(                        \"774690bf-b039-4ba2-8c34-eb55bab795eb\",                        [{\"hovertemplate\":\"x=%{x}<br>y=%{y}<extra></extra>\",\"legendgroup\":\"\",\"marker\":{\"color\":\"blue\",\"symbol\":\"circle\"},\"mode\":\"markers+lines\",\"name\":\"\",\"orientation\":\"v\",\"showlegend\":false,\"x\":[0.1,0.2,0.3,0.4,0.5,0.6,0.7,0.8,0.9],\"xaxis\":\"x\",\"y\":[0.4533052006513692,0.4512947410191668,0.45364598760904457,0.44188683392844436,0.4458555657601409,0.46193971219459357,0.46353552574021567,0.4096773302379302,0.250676723745106],\"yaxis\":\"y\",\"type\":\"scatter\"}],                        {\"template\":{\"data\":{\"bar\":[{\"error_x\":{\"color\":\"#2a3f5f\"},\"error_y\":{\"color\":\"#2a3f5f\"},\"marker\":{\"line\":{\"color\":\"#E5ECF6\",\"width\":0.5},\"pattern\":{\"fillmode\":\"overlay\",\"size\":10,\"solidity\":0.2}},\"type\":\"bar\"}],\"barpolar\":[{\"marker\":{\"line\":{\"color\":\"#E5ECF6\",\"width\":0.5},\"pattern\":{\"fillmode\":\"overlay\",\"size\":10,\"solidity\":0.2}},\"type\":\"barpolar\"}],\"carpet\":[{\"aaxis\":{\"endlinecolor\":\"#2a3f5f\",\"gridcolor\":\"white\",\"linecolor\":\"white\",\"minorgridcolor\":\"white\",\"startlinecolor\":\"#2a3f5f\"},\"baxis\":{\"endlinecolor\":\"#2a3f5f\",\"gridcolor\":\"white\",\"linecolor\":\"white\",\"minorgridcolor\":\"white\",\"startlinecolor\":\"#2a3f5f\"},\"type\":\"carpet\"}],\"choropleth\":[{\"colorbar\":{\"outlinewidth\":0,\"ticks\":\"\"},\"type\":\"choropleth\"}],\"contour\":[{\"colorbar\":{\"outlinewidth\":0,\"ticks\":\"\"},\"colorscale\":[[0.0,\"#0d0887\"],[0.1111111111111111,\"#46039f\"],[0.2222222222222222,\"#7201a8\"],[0.3333333333333333,\"#9c179e\"],[0.4444444444444444,\"#bd3786\"],[0.5555555555555556,\"#d8576b\"],[0.6666666666666666,\"#ed7953\"],[0.7777777777777778,\"#fb9f3a\"],[0.8888888888888888,\"#fdca26\"],[1.0,\"#f0f921\"]],\"type\":\"contour\"}],\"contourcarpet\":[{\"colorbar\":{\"outlinewidth\":0,\"ticks\":\"\"},\"type\":\"contourcarpet\"}],\"heatmap\":[{\"colorbar\":{\"outlinewidth\":0,\"ticks\":\"\"},\"colorscale\":[[0.0,\"#0d0887\"],[0.1111111111111111,\"#46039f\"],[0.2222222222222222,\"#7201a8\"],[0.3333333333333333,\"#9c179e\"],[0.4444444444444444,\"#bd3786\"],[0.5555555555555556,\"#d8576b\"],[0.6666666666666666,\"#ed7953\"],[0.7777777777777778,\"#fb9f3a\"],[0.8888888888888888,\"#fdca26\"],[1.0,\"#f0f921\"]],\"type\":\"heatmap\"}],\"heatmapgl\":[{\"colorbar\":{\"outlinewidth\":0,\"ticks\":\"\"},\"colorscale\":[[0.0,\"#0d0887\"],[0.1111111111111111,\"#46039f\"],[0.2222222222222222,\"#7201a8\"],[0.3333333333333333,\"#9c179e\"],[0.4444444444444444,\"#bd3786\"],[0.5555555555555556,\"#d8576b\"],[0.6666666666666666,\"#ed7953\"],[0.7777777777777778,\"#fb9f3a\"],[0.8888888888888888,\"#fdca26\"],[1.0,\"#f0f921\"]],\"type\":\"heatmapgl\"}],\"histogram\":[{\"marker\":{\"pattern\":{\"fillmode\":\"overlay\",\"size\":10,\"solidity\":0.2}},\"type\":\"histogram\"}],\"histogram2d\":[{\"colorbar\":{\"outlinewidth\":0,\"ticks\":\"\"},\"colorscale\":[[0.0,\"#0d0887\"],[0.1111111111111111,\"#46039f\"],[0.2222222222222222,\"#7201a8\"],[0.3333333333333333,\"#9c179e\"],[0.4444444444444444,\"#bd3786\"],[0.5555555555555556,\"#d8576b\"],[0.6666666666666666,\"#ed7953\"],[0.7777777777777778,\"#fb9f3a\"],[0.8888888888888888,\"#fdca26\"],[1.0,\"#f0f921\"]],\"type\":\"histogram2d\"}],\"histogram2dcontour\":[{\"colorbar\":{\"outlinewidth\":0,\"ticks\":\"\"},\"colorscale\":[[0.0,\"#0d0887\"],[0.1111111111111111,\"#46039f\"],[0.2222222222222222,\"#7201a8\"],[0.3333333333333333,\"#9c179e\"],[0.4444444444444444,\"#bd3786\"],[0.5555555555555556,\"#d8576b\"],[0.6666666666666666,\"#ed7953\"],[0.7777777777777778,\"#fb9f3a\"],[0.8888888888888888,\"#fdca26\"],[1.0,\"#f0f921\"]],\"type\":\"histogram2dcontour\"}],\"mesh3d\":[{\"colorbar\":{\"outlinewidth\":0,\"ticks\":\"\"},\"type\":\"mesh3d\"}],\"parcoords\":[{\"line\":{\"colorbar\":{\"outlinewidth\":0,\"ticks\":\"\"}},\"type\":\"parcoords\"}],\"pie\":[{\"automargin\":true,\"type\":\"pie\"}],\"scatter\":[{\"marker\":{\"colorbar\":{\"outlinewidth\":0,\"ticks\":\"\"}},\"type\":\"scatter\"}],\"scatter3d\":[{\"line\":{\"colorbar\":{\"outlinewidth\":0,\"ticks\":\"\"}},\"marker\":{\"colorbar\":{\"outlinewidth\":0,\"ticks\":\"\"}},\"type\":\"scatter3d\"}],\"scattercarpet\":[{\"marker\":{\"colorbar\":{\"outlinewidth\":0,\"ticks\":\"\"}},\"type\":\"scattercarpet\"}],\"scattergeo\":[{\"marker\":{\"colorbar\":{\"outlinewidth\":0,\"ticks\":\"\"}},\"type\":\"scattergeo\"}],\"scattergl\":[{\"marker\":{\"colorbar\":{\"outlinewidth\":0,\"ticks\":\"\"}},\"type\":\"scattergl\"}],\"scattermapbox\":[{\"marker\":{\"colorbar\":{\"outlinewidth\":0,\"ticks\":\"\"}},\"type\":\"scattermapbox\"}],\"scatterpolar\":[{\"marker\":{\"colorbar\":{\"outlinewidth\":0,\"ticks\":\"\"}},\"type\":\"scatterpolar\"}],\"scatterpolargl\":[{\"marker\":{\"colorbar\":{\"outlinewidth\":0,\"ticks\":\"\"}},\"type\":\"scatterpolargl\"}],\"scatterternary\":[{\"marker\":{\"colorbar\":{\"outlinewidth\":0,\"ticks\":\"\"}},\"type\":\"scatterternary\"}],\"surface\":[{\"colorbar\":{\"outlinewidth\":0,\"ticks\":\"\"},\"colorscale\":[[0.0,\"#0d0887\"],[0.1111111111111111,\"#46039f\"],[0.2222222222222222,\"#7201a8\"],[0.3333333333333333,\"#9c179e\"],[0.4444444444444444,\"#bd3786\"],[0.5555555555555556,\"#d8576b\"],[0.6666666666666666,\"#ed7953\"],[0.7777777777777778,\"#fb9f3a\"],[0.8888888888888888,\"#fdca26\"],[1.0,\"#f0f921\"]],\"type\":\"surface\"}],\"table\":[{\"cells\":{\"fill\":{\"color\":\"#EBF0F8\"},\"line\":{\"color\":\"white\"}},\"header\":{\"fill\":{\"color\":\"#C8D4E3\"},\"line\":{\"color\":\"white\"}},\"type\":\"table\"}]},\"layout\":{\"annotationdefaults\":{\"arrowcolor\":\"#2a3f5f\",\"arrowhead\":0,\"arrowwidth\":1},\"autotypenumbers\":\"strict\",\"coloraxis\":{\"colorbar\":{\"outlinewidth\":0,\"ticks\":\"\"}},\"colorscale\":{\"diverging\":[[0,\"#8e0152\"],[0.1,\"#c51b7d\"],[0.2,\"#de77ae\"],[0.3,\"#f1b6da\"],[0.4,\"#fde0ef\"],[0.5,\"#f7f7f7\"],[0.6,\"#e6f5d0\"],[0.7,\"#b8e186\"],[0.8,\"#7fbc41\"],[0.9,\"#4d9221\"],[1,\"#276419\"]],\"sequential\":[[0.0,\"#0d0887\"],[0.1111111111111111,\"#46039f\"],[0.2222222222222222,\"#7201a8\"],[0.3333333333333333,\"#9c179e\"],[0.4444444444444444,\"#bd3786\"],[0.5555555555555556,\"#d8576b\"],[0.6666666666666666,\"#ed7953\"],[0.7777777777777778,\"#fb9f3a\"],[0.8888888888888888,\"#fdca26\"],[1.0,\"#f0f921\"]],\"sequentialminus\":[[0.0,\"#0d0887\"],[0.1111111111111111,\"#46039f\"],[0.2222222222222222,\"#7201a8\"],[0.3333333333333333,\"#9c179e\"],[0.4444444444444444,\"#bd3786\"],[0.5555555555555556,\"#d8576b\"],[0.6666666666666666,\"#ed7953\"],[0.7777777777777778,\"#fb9f3a\"],[0.8888888888888888,\"#fdca26\"],[1.0,\"#f0f921\"]]},\"colorway\":[\"#636efa\",\"#EF553B\",\"#00cc96\",\"#ab63fa\",\"#FFA15A\",\"#19d3f3\",\"#FF6692\",\"#B6E880\",\"#FF97FF\",\"#FECB52\"],\"font\":{\"color\":\"#2a3f5f\"},\"geo\":{\"bgcolor\":\"white\",\"lakecolor\":\"white\",\"landcolor\":\"#E5ECF6\",\"showlakes\":true,\"showland\":true,\"subunitcolor\":\"white\"},\"hoverlabel\":{\"align\":\"left\"},\"hovermode\":\"closest\",\"mapbox\":{\"style\":\"light\"},\"paper_bgcolor\":\"white\",\"plot_bgcolor\":\"#E5ECF6\",\"polar\":{\"angularaxis\":{\"gridcolor\":\"white\",\"linecolor\":\"white\",\"ticks\":\"\"},\"bgcolor\":\"#E5ECF6\",\"radialaxis\":{\"gridcolor\":\"white\",\"linecolor\":\"white\",\"ticks\":\"\"}},\"scene\":{\"xaxis\":{\"backgroundcolor\":\"#E5ECF6\",\"gridcolor\":\"white\",\"gridwidth\":2,\"linecolor\":\"white\",\"showbackground\":true,\"ticks\":\"\",\"zerolinecolor\":\"white\"},\"yaxis\":{\"backgroundcolor\":\"#E5ECF6\",\"gridcolor\":\"white\",\"gridwidth\":2,\"linecolor\":\"white\",\"showbackground\":true,\"ticks\":\"\",\"zerolinecolor\":\"white\"},\"zaxis\":{\"backgroundcolor\":\"#E5ECF6\",\"gridcolor\":\"white\",\"gridwidth\":2,\"linecolor\":\"white\",\"showbackground\":true,\"ticks\":\"\",\"zerolinecolor\":\"white\"}},\"shapedefaults\":{\"line\":{\"color\":\"#2a3f5f\"}},\"ternary\":{\"aaxis\":{\"gridcolor\":\"white\",\"linecolor\":\"white\",\"ticks\":\"\"},\"baxis\":{\"gridcolor\":\"white\",\"linecolor\":\"white\",\"ticks\":\"\"},\"bgcolor\":\"#E5ECF6\",\"caxis\":{\"gridcolor\":\"white\",\"linecolor\":\"white\",\"ticks\":\"\"}},\"title\":{\"x\":0.05},\"xaxis\":{\"automargin\":true,\"gridcolor\":\"white\",\"linecolor\":\"white\",\"ticks\":\"\",\"title\":{\"standoff\":15},\"zerolinecolor\":\"white\",\"zerolinewidth\":2},\"yaxis\":{\"automargin\":true,\"gridcolor\":\"white\",\"linecolor\":\"white\",\"ticks\":\"\",\"title\":{\"standoff\":15},\"zerolinecolor\":\"white\",\"zerolinewidth\":2}}},\"xaxis\":{\"anchor\":\"y\",\"domain\":[0.0,1.0],\"title\":{\"text\":\"x\"}},\"yaxis\":{\"anchor\":\"x\",\"domain\":[0.0,1.0],\"title\":{\"text\":\"y\"}},\"legend\":{\"tracegroupgap\":0},\"title\":{\"text\":\"Train CE, best value: x=9, y=0.250676723745106\"}},                        {\"responsive\": true}                    ).then(function(){\n",
              "                            \n",
              "var gd = document.getElementById('774690bf-b039-4ba2-8c34-eb55bab795eb');\n",
              "var x = new MutationObserver(function (mutations, observer) {{\n",
              "        var display = window.getComputedStyle(gd).display;\n",
              "        if (!display || display === 'none') {{\n",
              "            console.log([gd, 'removed!']);\n",
              "            Plotly.purge(gd);\n",
              "            observer.disconnect();\n",
              "        }}\n",
              "}});\n",
              "\n",
              "// Listen for the removal of the full notebook cells\n",
              "var notebookContainer = gd.closest('#notebook-container');\n",
              "if (notebookContainer) {{\n",
              "    x.observe(notebookContainer, {childList: true});\n",
              "}}\n",
              "\n",
              "// Listen for the clearing of the current output cell\n",
              "var outputEl = gd.closest('.output');\n",
              "if (outputEl) {{\n",
              "    x.observe(outputEl, {childList: true});\n",
              "}}\n",
              "\n",
              "                        })                };                            </script>        </div>\n",
              "</body>\n",
              "</html>"
            ]
          },
          "metadata": {}
        },
        {
          "output_type": "display_data",
          "data": {
            "text/html": [
              "<html>\n",
              "<head><meta charset=\"utf-8\" /></head>\n",
              "<body>\n",
              "    <div>            <script src=\"https://cdnjs.cloudflare.com/ajax/libs/mathjax/2.7.5/MathJax.js?config=TeX-AMS-MML_SVG\"></script><script type=\"text/javascript\">if (window.MathJax) {MathJax.Hub.Config({SVG: {font: \"STIX-Web\"}});}</script>                <script type=\"text/javascript\">window.PlotlyConfig = {MathJaxConfig: 'local'};</script>\n",
              "        <script src=\"https://cdn.plot.ly/plotly-2.8.3.min.js\"></script>                <div id=\"3af77f94-88fa-42d4-872d-d481cee3217e\" class=\"plotly-graph-div\" style=\"height:525px; width:100%;\"></div>            <script type=\"text/javascript\">                                    window.PLOTLYENV=window.PLOTLYENV || {};                                    if (document.getElementById(\"3af77f94-88fa-42d4-872d-d481cee3217e\")) {                    Plotly.newPlot(                        \"3af77f94-88fa-42d4-872d-d481cee3217e\",                        [{\"hovertemplate\":\"x=%{x}<br>y=%{y}<extra></extra>\",\"legendgroup\":\"\",\"marker\":{\"color\":\"blue\",\"symbol\":\"circle\"},\"mode\":\"markers+lines\",\"name\":\"\",\"orientation\":\"v\",\"showlegend\":false,\"x\":[0.1,0.2,0.3,0.4,0.5,0.6,0.7,0.8,0.9],\"xaxis\":\"x\",\"y\":[0.3746742064299861,0.4224368868915522,0.4298101320641331,0.45352940554106796,0.4515583198624912,0.44090585067675714,0.44596938828414057,0.47318112517585226,0.5528880075568816],\"yaxis\":\"y\",\"type\":\"scatter\"}],                        {\"template\":{\"data\":{\"bar\":[{\"error_x\":{\"color\":\"#2a3f5f\"},\"error_y\":{\"color\":\"#2a3f5f\"},\"marker\":{\"line\":{\"color\":\"#E5ECF6\",\"width\":0.5},\"pattern\":{\"fillmode\":\"overlay\",\"size\":10,\"solidity\":0.2}},\"type\":\"bar\"}],\"barpolar\":[{\"marker\":{\"line\":{\"color\":\"#E5ECF6\",\"width\":0.5},\"pattern\":{\"fillmode\":\"overlay\",\"size\":10,\"solidity\":0.2}},\"type\":\"barpolar\"}],\"carpet\":[{\"aaxis\":{\"endlinecolor\":\"#2a3f5f\",\"gridcolor\":\"white\",\"linecolor\":\"white\",\"minorgridcolor\":\"white\",\"startlinecolor\":\"#2a3f5f\"},\"baxis\":{\"endlinecolor\":\"#2a3f5f\",\"gridcolor\":\"white\",\"linecolor\":\"white\",\"minorgridcolor\":\"white\",\"startlinecolor\":\"#2a3f5f\"},\"type\":\"carpet\"}],\"choropleth\":[{\"colorbar\":{\"outlinewidth\":0,\"ticks\":\"\"},\"type\":\"choropleth\"}],\"contour\":[{\"colorbar\":{\"outlinewidth\":0,\"ticks\":\"\"},\"colorscale\":[[0.0,\"#0d0887\"],[0.1111111111111111,\"#46039f\"],[0.2222222222222222,\"#7201a8\"],[0.3333333333333333,\"#9c179e\"],[0.4444444444444444,\"#bd3786\"],[0.5555555555555556,\"#d8576b\"],[0.6666666666666666,\"#ed7953\"],[0.7777777777777778,\"#fb9f3a\"],[0.8888888888888888,\"#fdca26\"],[1.0,\"#f0f921\"]],\"type\":\"contour\"}],\"contourcarpet\":[{\"colorbar\":{\"outlinewidth\":0,\"ticks\":\"\"},\"type\":\"contourcarpet\"}],\"heatmap\":[{\"colorbar\":{\"outlinewidth\":0,\"ticks\":\"\"},\"colorscale\":[[0.0,\"#0d0887\"],[0.1111111111111111,\"#46039f\"],[0.2222222222222222,\"#7201a8\"],[0.3333333333333333,\"#9c179e\"],[0.4444444444444444,\"#bd3786\"],[0.5555555555555556,\"#d8576b\"],[0.6666666666666666,\"#ed7953\"],[0.7777777777777778,\"#fb9f3a\"],[0.8888888888888888,\"#fdca26\"],[1.0,\"#f0f921\"]],\"type\":\"heatmap\"}],\"heatmapgl\":[{\"colorbar\":{\"outlinewidth\":0,\"ticks\":\"\"},\"colorscale\":[[0.0,\"#0d0887\"],[0.1111111111111111,\"#46039f\"],[0.2222222222222222,\"#7201a8\"],[0.3333333333333333,\"#9c179e\"],[0.4444444444444444,\"#bd3786\"],[0.5555555555555556,\"#d8576b\"],[0.6666666666666666,\"#ed7953\"],[0.7777777777777778,\"#fb9f3a\"],[0.8888888888888888,\"#fdca26\"],[1.0,\"#f0f921\"]],\"type\":\"heatmapgl\"}],\"histogram\":[{\"marker\":{\"pattern\":{\"fillmode\":\"overlay\",\"size\":10,\"solidity\":0.2}},\"type\":\"histogram\"}],\"histogram2d\":[{\"colorbar\":{\"outlinewidth\":0,\"ticks\":\"\"},\"colorscale\":[[0.0,\"#0d0887\"],[0.1111111111111111,\"#46039f\"],[0.2222222222222222,\"#7201a8\"],[0.3333333333333333,\"#9c179e\"],[0.4444444444444444,\"#bd3786\"],[0.5555555555555556,\"#d8576b\"],[0.6666666666666666,\"#ed7953\"],[0.7777777777777778,\"#fb9f3a\"],[0.8888888888888888,\"#fdca26\"],[1.0,\"#f0f921\"]],\"type\":\"histogram2d\"}],\"histogram2dcontour\":[{\"colorbar\":{\"outlinewidth\":0,\"ticks\":\"\"},\"colorscale\":[[0.0,\"#0d0887\"],[0.1111111111111111,\"#46039f\"],[0.2222222222222222,\"#7201a8\"],[0.3333333333333333,\"#9c179e\"],[0.4444444444444444,\"#bd3786\"],[0.5555555555555556,\"#d8576b\"],[0.6666666666666666,\"#ed7953\"],[0.7777777777777778,\"#fb9f3a\"],[0.8888888888888888,\"#fdca26\"],[1.0,\"#f0f921\"]],\"type\":\"histogram2dcontour\"}],\"mesh3d\":[{\"colorbar\":{\"outlinewidth\":0,\"ticks\":\"\"},\"type\":\"mesh3d\"}],\"parcoords\":[{\"line\":{\"colorbar\":{\"outlinewidth\":0,\"ticks\":\"\"}},\"type\":\"parcoords\"}],\"pie\":[{\"automargin\":true,\"type\":\"pie\"}],\"scatter\":[{\"marker\":{\"colorbar\":{\"outlinewidth\":0,\"ticks\":\"\"}},\"type\":\"scatter\"}],\"scatter3d\":[{\"line\":{\"colorbar\":{\"outlinewidth\":0,\"ticks\":\"\"}},\"marker\":{\"colorbar\":{\"outlinewidth\":0,\"ticks\":\"\"}},\"type\":\"scatter3d\"}],\"scattercarpet\":[{\"marker\":{\"colorbar\":{\"outlinewidth\":0,\"ticks\":\"\"}},\"type\":\"scattercarpet\"}],\"scattergeo\":[{\"marker\":{\"colorbar\":{\"outlinewidth\":0,\"ticks\":\"\"}},\"type\":\"scattergeo\"}],\"scattergl\":[{\"marker\":{\"colorbar\":{\"outlinewidth\":0,\"ticks\":\"\"}},\"type\":\"scattergl\"}],\"scattermapbox\":[{\"marker\":{\"colorbar\":{\"outlinewidth\":0,\"ticks\":\"\"}},\"type\":\"scattermapbox\"}],\"scatterpolar\":[{\"marker\":{\"colorbar\":{\"outlinewidth\":0,\"ticks\":\"\"}},\"type\":\"scatterpolar\"}],\"scatterpolargl\":[{\"marker\":{\"colorbar\":{\"outlinewidth\":0,\"ticks\":\"\"}},\"type\":\"scatterpolargl\"}],\"scatterternary\":[{\"marker\":{\"colorbar\":{\"outlinewidth\":0,\"ticks\":\"\"}},\"type\":\"scatterternary\"}],\"surface\":[{\"colorbar\":{\"outlinewidth\":0,\"ticks\":\"\"},\"colorscale\":[[0.0,\"#0d0887\"],[0.1111111111111111,\"#46039f\"],[0.2222222222222222,\"#7201a8\"],[0.3333333333333333,\"#9c179e\"],[0.4444444444444444,\"#bd3786\"],[0.5555555555555556,\"#d8576b\"],[0.6666666666666666,\"#ed7953\"],[0.7777777777777778,\"#fb9f3a\"],[0.8888888888888888,\"#fdca26\"],[1.0,\"#f0f921\"]],\"type\":\"surface\"}],\"table\":[{\"cells\":{\"fill\":{\"color\":\"#EBF0F8\"},\"line\":{\"color\":\"white\"}},\"header\":{\"fill\":{\"color\":\"#C8D4E3\"},\"line\":{\"color\":\"white\"}},\"type\":\"table\"}]},\"layout\":{\"annotationdefaults\":{\"arrowcolor\":\"#2a3f5f\",\"arrowhead\":0,\"arrowwidth\":1},\"autotypenumbers\":\"strict\",\"coloraxis\":{\"colorbar\":{\"outlinewidth\":0,\"ticks\":\"\"}},\"colorscale\":{\"diverging\":[[0,\"#8e0152\"],[0.1,\"#c51b7d\"],[0.2,\"#de77ae\"],[0.3,\"#f1b6da\"],[0.4,\"#fde0ef\"],[0.5,\"#f7f7f7\"],[0.6,\"#e6f5d0\"],[0.7,\"#b8e186\"],[0.8,\"#7fbc41\"],[0.9,\"#4d9221\"],[1,\"#276419\"]],\"sequential\":[[0.0,\"#0d0887\"],[0.1111111111111111,\"#46039f\"],[0.2222222222222222,\"#7201a8\"],[0.3333333333333333,\"#9c179e\"],[0.4444444444444444,\"#bd3786\"],[0.5555555555555556,\"#d8576b\"],[0.6666666666666666,\"#ed7953\"],[0.7777777777777778,\"#fb9f3a\"],[0.8888888888888888,\"#fdca26\"],[1.0,\"#f0f921\"]],\"sequentialminus\":[[0.0,\"#0d0887\"],[0.1111111111111111,\"#46039f\"],[0.2222222222222222,\"#7201a8\"],[0.3333333333333333,\"#9c179e\"],[0.4444444444444444,\"#bd3786\"],[0.5555555555555556,\"#d8576b\"],[0.6666666666666666,\"#ed7953\"],[0.7777777777777778,\"#fb9f3a\"],[0.8888888888888888,\"#fdca26\"],[1.0,\"#f0f921\"]]},\"colorway\":[\"#636efa\",\"#EF553B\",\"#00cc96\",\"#ab63fa\",\"#FFA15A\",\"#19d3f3\",\"#FF6692\",\"#B6E880\",\"#FF97FF\",\"#FECB52\"],\"font\":{\"color\":\"#2a3f5f\"},\"geo\":{\"bgcolor\":\"white\",\"lakecolor\":\"white\",\"landcolor\":\"#E5ECF6\",\"showlakes\":true,\"showland\":true,\"subunitcolor\":\"white\"},\"hoverlabel\":{\"align\":\"left\"},\"hovermode\":\"closest\",\"mapbox\":{\"style\":\"light\"},\"paper_bgcolor\":\"white\",\"plot_bgcolor\":\"#E5ECF6\",\"polar\":{\"angularaxis\":{\"gridcolor\":\"white\",\"linecolor\":\"white\",\"ticks\":\"\"},\"bgcolor\":\"#E5ECF6\",\"radialaxis\":{\"gridcolor\":\"white\",\"linecolor\":\"white\",\"ticks\":\"\"}},\"scene\":{\"xaxis\":{\"backgroundcolor\":\"#E5ECF6\",\"gridcolor\":\"white\",\"gridwidth\":2,\"linecolor\":\"white\",\"showbackground\":true,\"ticks\":\"\",\"zerolinecolor\":\"white\"},\"yaxis\":{\"backgroundcolor\":\"#E5ECF6\",\"gridcolor\":\"white\",\"gridwidth\":2,\"linecolor\":\"white\",\"showbackground\":true,\"ticks\":\"\",\"zerolinecolor\":\"white\"},\"zaxis\":{\"backgroundcolor\":\"#E5ECF6\",\"gridcolor\":\"white\",\"gridwidth\":2,\"linecolor\":\"white\",\"showbackground\":true,\"ticks\":\"\",\"zerolinecolor\":\"white\"}},\"shapedefaults\":{\"line\":{\"color\":\"#2a3f5f\"}},\"ternary\":{\"aaxis\":{\"gridcolor\":\"white\",\"linecolor\":\"white\",\"ticks\":\"\"},\"baxis\":{\"gridcolor\":\"white\",\"linecolor\":\"white\",\"ticks\":\"\"},\"bgcolor\":\"#E5ECF6\",\"caxis\":{\"gridcolor\":\"white\",\"linecolor\":\"white\",\"ticks\":\"\"}},\"title\":{\"x\":0.05},\"xaxis\":{\"automargin\":true,\"gridcolor\":\"white\",\"linecolor\":\"white\",\"ticks\":\"\",\"title\":{\"standoff\":15},\"zerolinecolor\":\"white\",\"zerolinewidth\":2},\"yaxis\":{\"automargin\":true,\"gridcolor\":\"white\",\"linecolor\":\"white\",\"ticks\":\"\",\"title\":{\"standoff\":15},\"zerolinecolor\":\"white\",\"zerolinewidth\":2}}},\"xaxis\":{\"anchor\":\"y\",\"domain\":[0.0,1.0],\"title\":{\"text\":\"x\"}},\"yaxis\":{\"anchor\":\"x\",\"domain\":[0.0,1.0],\"title\":{\"text\":\"y\"}},\"legend\":{\"tracegroupgap\":0},\"title\":{\"text\":\"Validation CE, best value: x=1, y=0.3746742064299861\"}},                        {\"responsive\": true}                    ).then(function(){\n",
              "                            \n",
              "var gd = document.getElementById('3af77f94-88fa-42d4-872d-d481cee3217e');\n",
              "var x = new MutationObserver(function (mutations, observer) {{\n",
              "        var display = window.getComputedStyle(gd).display;\n",
              "        if (!display || display === 'none') {{\n",
              "            console.log([gd, 'removed!']);\n",
              "            Plotly.purge(gd);\n",
              "            observer.disconnect();\n",
              "        }}\n",
              "}});\n",
              "\n",
              "// Listen for the removal of the full notebook cells\n",
              "var notebookContainer = gd.closest('#notebook-container');\n",
              "if (notebookContainer) {{\n",
              "    x.observe(notebookContainer, {childList: true});\n",
              "}}\n",
              "\n",
              "// Listen for the clearing of the current output cell\n",
              "var outputEl = gd.closest('.output');\n",
              "if (outputEl) {{\n",
              "    x.observe(outputEl, {childList: true});\n",
              "}}\n",
              "\n",
              "                        })                };                            </script>        </div>\n",
              "</body>\n",
              "</html>"
            ]
          },
          "metadata": {}
        },
        {
          "output_type": "display_data",
          "data": {
            "text/html": [
              "<html>\n",
              "<head><meta charset=\"utf-8\" /></head>\n",
              "<body>\n",
              "    <div>            <script src=\"https://cdnjs.cloudflare.com/ajax/libs/mathjax/2.7.5/MathJax.js?config=TeX-AMS-MML_SVG\"></script><script type=\"text/javascript\">if (window.MathJax) {MathJax.Hub.Config({SVG: {font: \"STIX-Web\"}});}</script>                <script type=\"text/javascript\">window.PlotlyConfig = {MathJaxConfig: 'local'};</script>\n",
              "        <script src=\"https://cdn.plot.ly/plotly-2.8.3.min.js\"></script>                <div id=\"5afa4f11-89fd-44da-b26e-1b701b1e300b\" class=\"plotly-graph-div\" style=\"height:525px; width:100%;\"></div>            <script type=\"text/javascript\">                                    window.PLOTLYENV=window.PLOTLYENV || {};                                    if (document.getElementById(\"5afa4f11-89fd-44da-b26e-1b701b1e300b\")) {                    Plotly.newPlot(                        \"5afa4f11-89fd-44da-b26e-1b701b1e300b\",                        [{\"hovertemplate\":\"x=%{x}<br>y=%{y}<extra></extra>\",\"legendgroup\":\"\",\"marker\":{\"color\":\"blue\",\"symbol\":\"circle\"},\"mode\":\"markers+lines\",\"name\":\"\",\"orientation\":\"v\",\"showlegend\":false,\"x\":[0.1,0.2,0.3,0.4,0.5,0.6,0.7,0.8,0.9],\"xaxis\":\"x\",\"y\":[0.8014981273408239,0.8047752808988764,0.8009630818619583,0.8127340823970037,0.8067415730337079,0.7865168539325843,0.7940074906367042,0.8202247191011236,0.9101123595505618],\"yaxis\":\"y\",\"type\":\"scatter\"}],                        {\"template\":{\"data\":{\"bar\":[{\"error_x\":{\"color\":\"#2a3f5f\"},\"error_y\":{\"color\":\"#2a3f5f\"},\"marker\":{\"line\":{\"color\":\"#E5ECF6\",\"width\":0.5},\"pattern\":{\"fillmode\":\"overlay\",\"size\":10,\"solidity\":0.2}},\"type\":\"bar\"}],\"barpolar\":[{\"marker\":{\"line\":{\"color\":\"#E5ECF6\",\"width\":0.5},\"pattern\":{\"fillmode\":\"overlay\",\"size\":10,\"solidity\":0.2}},\"type\":\"barpolar\"}],\"carpet\":[{\"aaxis\":{\"endlinecolor\":\"#2a3f5f\",\"gridcolor\":\"white\",\"linecolor\":\"white\",\"minorgridcolor\":\"white\",\"startlinecolor\":\"#2a3f5f\"},\"baxis\":{\"endlinecolor\":\"#2a3f5f\",\"gridcolor\":\"white\",\"linecolor\":\"white\",\"minorgridcolor\":\"white\",\"startlinecolor\":\"#2a3f5f\"},\"type\":\"carpet\"}],\"choropleth\":[{\"colorbar\":{\"outlinewidth\":0,\"ticks\":\"\"},\"type\":\"choropleth\"}],\"contour\":[{\"colorbar\":{\"outlinewidth\":0,\"ticks\":\"\"},\"colorscale\":[[0.0,\"#0d0887\"],[0.1111111111111111,\"#46039f\"],[0.2222222222222222,\"#7201a8\"],[0.3333333333333333,\"#9c179e\"],[0.4444444444444444,\"#bd3786\"],[0.5555555555555556,\"#d8576b\"],[0.6666666666666666,\"#ed7953\"],[0.7777777777777778,\"#fb9f3a\"],[0.8888888888888888,\"#fdca26\"],[1.0,\"#f0f921\"]],\"type\":\"contour\"}],\"contourcarpet\":[{\"colorbar\":{\"outlinewidth\":0,\"ticks\":\"\"},\"type\":\"contourcarpet\"}],\"heatmap\":[{\"colorbar\":{\"outlinewidth\":0,\"ticks\":\"\"},\"colorscale\":[[0.0,\"#0d0887\"],[0.1111111111111111,\"#46039f\"],[0.2222222222222222,\"#7201a8\"],[0.3333333333333333,\"#9c179e\"],[0.4444444444444444,\"#bd3786\"],[0.5555555555555556,\"#d8576b\"],[0.6666666666666666,\"#ed7953\"],[0.7777777777777778,\"#fb9f3a\"],[0.8888888888888888,\"#fdca26\"],[1.0,\"#f0f921\"]],\"type\":\"heatmap\"}],\"heatmapgl\":[{\"colorbar\":{\"outlinewidth\":0,\"ticks\":\"\"},\"colorscale\":[[0.0,\"#0d0887\"],[0.1111111111111111,\"#46039f\"],[0.2222222222222222,\"#7201a8\"],[0.3333333333333333,\"#9c179e\"],[0.4444444444444444,\"#bd3786\"],[0.5555555555555556,\"#d8576b\"],[0.6666666666666666,\"#ed7953\"],[0.7777777777777778,\"#fb9f3a\"],[0.8888888888888888,\"#fdca26\"],[1.0,\"#f0f921\"]],\"type\":\"heatmapgl\"}],\"histogram\":[{\"marker\":{\"pattern\":{\"fillmode\":\"overlay\",\"size\":10,\"solidity\":0.2}},\"type\":\"histogram\"}],\"histogram2d\":[{\"colorbar\":{\"outlinewidth\":0,\"ticks\":\"\"},\"colorscale\":[[0.0,\"#0d0887\"],[0.1111111111111111,\"#46039f\"],[0.2222222222222222,\"#7201a8\"],[0.3333333333333333,\"#9c179e\"],[0.4444444444444444,\"#bd3786\"],[0.5555555555555556,\"#d8576b\"],[0.6666666666666666,\"#ed7953\"],[0.7777777777777778,\"#fb9f3a\"],[0.8888888888888888,\"#fdca26\"],[1.0,\"#f0f921\"]],\"type\":\"histogram2d\"}],\"histogram2dcontour\":[{\"colorbar\":{\"outlinewidth\":0,\"ticks\":\"\"},\"colorscale\":[[0.0,\"#0d0887\"],[0.1111111111111111,\"#46039f\"],[0.2222222222222222,\"#7201a8\"],[0.3333333333333333,\"#9c179e\"],[0.4444444444444444,\"#bd3786\"],[0.5555555555555556,\"#d8576b\"],[0.6666666666666666,\"#ed7953\"],[0.7777777777777778,\"#fb9f3a\"],[0.8888888888888888,\"#fdca26\"],[1.0,\"#f0f921\"]],\"type\":\"histogram2dcontour\"}],\"mesh3d\":[{\"colorbar\":{\"outlinewidth\":0,\"ticks\":\"\"},\"type\":\"mesh3d\"}],\"parcoords\":[{\"line\":{\"colorbar\":{\"outlinewidth\":0,\"ticks\":\"\"}},\"type\":\"parcoords\"}],\"pie\":[{\"automargin\":true,\"type\":\"pie\"}],\"scatter\":[{\"marker\":{\"colorbar\":{\"outlinewidth\":0,\"ticks\":\"\"}},\"type\":\"scatter\"}],\"scatter3d\":[{\"line\":{\"colorbar\":{\"outlinewidth\":0,\"ticks\":\"\"}},\"marker\":{\"colorbar\":{\"outlinewidth\":0,\"ticks\":\"\"}},\"type\":\"scatter3d\"}],\"scattercarpet\":[{\"marker\":{\"colorbar\":{\"outlinewidth\":0,\"ticks\":\"\"}},\"type\":\"scattercarpet\"}],\"scattergeo\":[{\"marker\":{\"colorbar\":{\"outlinewidth\":0,\"ticks\":\"\"}},\"type\":\"scattergeo\"}],\"scattergl\":[{\"marker\":{\"colorbar\":{\"outlinewidth\":0,\"ticks\":\"\"}},\"type\":\"scattergl\"}],\"scattermapbox\":[{\"marker\":{\"colorbar\":{\"outlinewidth\":0,\"ticks\":\"\"}},\"type\":\"scattermapbox\"}],\"scatterpolar\":[{\"marker\":{\"colorbar\":{\"outlinewidth\":0,\"ticks\":\"\"}},\"type\":\"scatterpolar\"}],\"scatterpolargl\":[{\"marker\":{\"colorbar\":{\"outlinewidth\":0,\"ticks\":\"\"}},\"type\":\"scatterpolargl\"}],\"scatterternary\":[{\"marker\":{\"colorbar\":{\"outlinewidth\":0,\"ticks\":\"\"}},\"type\":\"scatterternary\"}],\"surface\":[{\"colorbar\":{\"outlinewidth\":0,\"ticks\":\"\"},\"colorscale\":[[0.0,\"#0d0887\"],[0.1111111111111111,\"#46039f\"],[0.2222222222222222,\"#7201a8\"],[0.3333333333333333,\"#9c179e\"],[0.4444444444444444,\"#bd3786\"],[0.5555555555555556,\"#d8576b\"],[0.6666666666666666,\"#ed7953\"],[0.7777777777777778,\"#fb9f3a\"],[0.8888888888888888,\"#fdca26\"],[1.0,\"#f0f921\"]],\"type\":\"surface\"}],\"table\":[{\"cells\":{\"fill\":{\"color\":\"#EBF0F8\"},\"line\":{\"color\":\"white\"}},\"header\":{\"fill\":{\"color\":\"#C8D4E3\"},\"line\":{\"color\":\"white\"}},\"type\":\"table\"}]},\"layout\":{\"annotationdefaults\":{\"arrowcolor\":\"#2a3f5f\",\"arrowhead\":0,\"arrowwidth\":1},\"autotypenumbers\":\"strict\",\"coloraxis\":{\"colorbar\":{\"outlinewidth\":0,\"ticks\":\"\"}},\"colorscale\":{\"diverging\":[[0,\"#8e0152\"],[0.1,\"#c51b7d\"],[0.2,\"#de77ae\"],[0.3,\"#f1b6da\"],[0.4,\"#fde0ef\"],[0.5,\"#f7f7f7\"],[0.6,\"#e6f5d0\"],[0.7,\"#b8e186\"],[0.8,\"#7fbc41\"],[0.9,\"#4d9221\"],[1,\"#276419\"]],\"sequential\":[[0.0,\"#0d0887\"],[0.1111111111111111,\"#46039f\"],[0.2222222222222222,\"#7201a8\"],[0.3333333333333333,\"#9c179e\"],[0.4444444444444444,\"#bd3786\"],[0.5555555555555556,\"#d8576b\"],[0.6666666666666666,\"#ed7953\"],[0.7777777777777778,\"#fb9f3a\"],[0.8888888888888888,\"#fdca26\"],[1.0,\"#f0f921\"]],\"sequentialminus\":[[0.0,\"#0d0887\"],[0.1111111111111111,\"#46039f\"],[0.2222222222222222,\"#7201a8\"],[0.3333333333333333,\"#9c179e\"],[0.4444444444444444,\"#bd3786\"],[0.5555555555555556,\"#d8576b\"],[0.6666666666666666,\"#ed7953\"],[0.7777777777777778,\"#fb9f3a\"],[0.8888888888888888,\"#fdca26\"],[1.0,\"#f0f921\"]]},\"colorway\":[\"#636efa\",\"#EF553B\",\"#00cc96\",\"#ab63fa\",\"#FFA15A\",\"#19d3f3\",\"#FF6692\",\"#B6E880\",\"#FF97FF\",\"#FECB52\"],\"font\":{\"color\":\"#2a3f5f\"},\"geo\":{\"bgcolor\":\"white\",\"lakecolor\":\"white\",\"landcolor\":\"#E5ECF6\",\"showlakes\":true,\"showland\":true,\"subunitcolor\":\"white\"},\"hoverlabel\":{\"align\":\"left\"},\"hovermode\":\"closest\",\"mapbox\":{\"style\":\"light\"},\"paper_bgcolor\":\"white\",\"plot_bgcolor\":\"#E5ECF6\",\"polar\":{\"angularaxis\":{\"gridcolor\":\"white\",\"linecolor\":\"white\",\"ticks\":\"\"},\"bgcolor\":\"#E5ECF6\",\"radialaxis\":{\"gridcolor\":\"white\",\"linecolor\":\"white\",\"ticks\":\"\"}},\"scene\":{\"xaxis\":{\"backgroundcolor\":\"#E5ECF6\",\"gridcolor\":\"white\",\"gridwidth\":2,\"linecolor\":\"white\",\"showbackground\":true,\"ticks\":\"\",\"zerolinecolor\":\"white\"},\"yaxis\":{\"backgroundcolor\":\"#E5ECF6\",\"gridcolor\":\"white\",\"gridwidth\":2,\"linecolor\":\"white\",\"showbackground\":true,\"ticks\":\"\",\"zerolinecolor\":\"white\"},\"zaxis\":{\"backgroundcolor\":\"#E5ECF6\",\"gridcolor\":\"white\",\"gridwidth\":2,\"linecolor\":\"white\",\"showbackground\":true,\"ticks\":\"\",\"zerolinecolor\":\"white\"}},\"shapedefaults\":{\"line\":{\"color\":\"#2a3f5f\"}},\"ternary\":{\"aaxis\":{\"gridcolor\":\"white\",\"linecolor\":\"white\",\"ticks\":\"\"},\"baxis\":{\"gridcolor\":\"white\",\"linecolor\":\"white\",\"ticks\":\"\"},\"bgcolor\":\"#E5ECF6\",\"caxis\":{\"gridcolor\":\"white\",\"linecolor\":\"white\",\"ticks\":\"\"}},\"title\":{\"x\":0.05},\"xaxis\":{\"automargin\":true,\"gridcolor\":\"white\",\"linecolor\":\"white\",\"ticks\":\"\",\"title\":{\"standoff\":15},\"zerolinecolor\":\"white\",\"zerolinewidth\":2},\"yaxis\":{\"automargin\":true,\"gridcolor\":\"white\",\"linecolor\":\"white\",\"ticks\":\"\",\"title\":{\"standoff\":15},\"zerolinecolor\":\"white\",\"zerolinewidth\":2}}},\"xaxis\":{\"anchor\":\"y\",\"domain\":[0.0,1.0],\"title\":{\"text\":\"x\"}},\"yaxis\":{\"anchor\":\"x\",\"domain\":[0.0,1.0],\"title\":{\"text\":\"y\"}},\"legend\":{\"tracegroupgap\":0},\"title\":{\"text\":\"Train Accuracy, best value: x=6, y=0.7865168539325843\"}},                        {\"responsive\": true}                    ).then(function(){\n",
              "                            \n",
              "var gd = document.getElementById('5afa4f11-89fd-44da-b26e-1b701b1e300b');\n",
              "var x = new MutationObserver(function (mutations, observer) {{\n",
              "        var display = window.getComputedStyle(gd).display;\n",
              "        if (!display || display === 'none') {{\n",
              "            console.log([gd, 'removed!']);\n",
              "            Plotly.purge(gd);\n",
              "            observer.disconnect();\n",
              "        }}\n",
              "}});\n",
              "\n",
              "// Listen for the removal of the full notebook cells\n",
              "var notebookContainer = gd.closest('#notebook-container');\n",
              "if (notebookContainer) {{\n",
              "    x.observe(notebookContainer, {childList: true});\n",
              "}}\n",
              "\n",
              "// Listen for the clearing of the current output cell\n",
              "var outputEl = gd.closest('.output');\n",
              "if (outputEl) {{\n",
              "    x.observe(outputEl, {childList: true});\n",
              "}}\n",
              "\n",
              "                        })                };                            </script>        </div>\n",
              "</body>\n",
              "</html>"
            ]
          },
          "metadata": {}
        },
        {
          "output_type": "display_data",
          "data": {
            "text/html": [
              "<html>\n",
              "<head><meta charset=\"utf-8\" /></head>\n",
              "<body>\n",
              "    <div>            <script src=\"https://cdnjs.cloudflare.com/ajax/libs/mathjax/2.7.5/MathJax.js?config=TeX-AMS-MML_SVG\"></script><script type=\"text/javascript\">if (window.MathJax) {MathJax.Hub.Config({SVG: {font: \"STIX-Web\"}});}</script>                <script type=\"text/javascript\">window.PlotlyConfig = {MathJaxConfig: 'local'};</script>\n",
              "        <script src=\"https://cdn.plot.ly/plotly-2.8.3.min.js\"></script>                <div id=\"717148e5-4b8b-4be0-b57b-408c1c8a4369\" class=\"plotly-graph-div\" style=\"height:525px; width:100%;\"></div>            <script type=\"text/javascript\">                                    window.PLOTLYENV=window.PLOTLYENV || {};                                    if (document.getElementById(\"717148e5-4b8b-4be0-b57b-408c1c8a4369\")) {                    Plotly.newPlot(                        \"717148e5-4b8b-4be0-b57b-408c1c8a4369\",                        [{\"hovertemplate\":\"x=%{x}<br>y=%{y}<extra></extra>\",\"legendgroup\":\"\",\"marker\":{\"color\":\"blue\",\"symbol\":\"circle\"},\"mode\":\"markers+lines\",\"name\":\"\",\"orientation\":\"v\",\"showlegend\":false,\"x\":[0.1,0.2,0.3,0.4,0.5,0.6,0.7,0.8,0.9],\"xaxis\":\"x\",\"y\":[0.8333333333333334,0.8156424581005587,0.8246268656716418,0.7927170868347339,0.7982062780269058,0.8093457943925234,0.8028846153846154,0.7868162692847125,0.786783042394015],\"yaxis\":\"y\",\"type\":\"scatter\"}],                        {\"template\":{\"data\":{\"bar\":[{\"error_x\":{\"color\":\"#2a3f5f\"},\"error_y\":{\"color\":\"#2a3f5f\"},\"marker\":{\"line\":{\"color\":\"#E5ECF6\",\"width\":0.5},\"pattern\":{\"fillmode\":\"overlay\",\"size\":10,\"solidity\":0.2}},\"type\":\"bar\"}],\"barpolar\":[{\"marker\":{\"line\":{\"color\":\"#E5ECF6\",\"width\":0.5},\"pattern\":{\"fillmode\":\"overlay\",\"size\":10,\"solidity\":0.2}},\"type\":\"barpolar\"}],\"carpet\":[{\"aaxis\":{\"endlinecolor\":\"#2a3f5f\",\"gridcolor\":\"white\",\"linecolor\":\"white\",\"minorgridcolor\":\"white\",\"startlinecolor\":\"#2a3f5f\"},\"baxis\":{\"endlinecolor\":\"#2a3f5f\",\"gridcolor\":\"white\",\"linecolor\":\"white\",\"minorgridcolor\":\"white\",\"startlinecolor\":\"#2a3f5f\"},\"type\":\"carpet\"}],\"choropleth\":[{\"colorbar\":{\"outlinewidth\":0,\"ticks\":\"\"},\"type\":\"choropleth\"}],\"contour\":[{\"colorbar\":{\"outlinewidth\":0,\"ticks\":\"\"},\"colorscale\":[[0.0,\"#0d0887\"],[0.1111111111111111,\"#46039f\"],[0.2222222222222222,\"#7201a8\"],[0.3333333333333333,\"#9c179e\"],[0.4444444444444444,\"#bd3786\"],[0.5555555555555556,\"#d8576b\"],[0.6666666666666666,\"#ed7953\"],[0.7777777777777778,\"#fb9f3a\"],[0.8888888888888888,\"#fdca26\"],[1.0,\"#f0f921\"]],\"type\":\"contour\"}],\"contourcarpet\":[{\"colorbar\":{\"outlinewidth\":0,\"ticks\":\"\"},\"type\":\"contourcarpet\"}],\"heatmap\":[{\"colorbar\":{\"outlinewidth\":0,\"ticks\":\"\"},\"colorscale\":[[0.0,\"#0d0887\"],[0.1111111111111111,\"#46039f\"],[0.2222222222222222,\"#7201a8\"],[0.3333333333333333,\"#9c179e\"],[0.4444444444444444,\"#bd3786\"],[0.5555555555555556,\"#d8576b\"],[0.6666666666666666,\"#ed7953\"],[0.7777777777777778,\"#fb9f3a\"],[0.8888888888888888,\"#fdca26\"],[1.0,\"#f0f921\"]],\"type\":\"heatmap\"}],\"heatmapgl\":[{\"colorbar\":{\"outlinewidth\":0,\"ticks\":\"\"},\"colorscale\":[[0.0,\"#0d0887\"],[0.1111111111111111,\"#46039f\"],[0.2222222222222222,\"#7201a8\"],[0.3333333333333333,\"#9c179e\"],[0.4444444444444444,\"#bd3786\"],[0.5555555555555556,\"#d8576b\"],[0.6666666666666666,\"#ed7953\"],[0.7777777777777778,\"#fb9f3a\"],[0.8888888888888888,\"#fdca26\"],[1.0,\"#f0f921\"]],\"type\":\"heatmapgl\"}],\"histogram\":[{\"marker\":{\"pattern\":{\"fillmode\":\"overlay\",\"size\":10,\"solidity\":0.2}},\"type\":\"histogram\"}],\"histogram2d\":[{\"colorbar\":{\"outlinewidth\":0,\"ticks\":\"\"},\"colorscale\":[[0.0,\"#0d0887\"],[0.1111111111111111,\"#46039f\"],[0.2222222222222222,\"#7201a8\"],[0.3333333333333333,\"#9c179e\"],[0.4444444444444444,\"#bd3786\"],[0.5555555555555556,\"#d8576b\"],[0.6666666666666666,\"#ed7953\"],[0.7777777777777778,\"#fb9f3a\"],[0.8888888888888888,\"#fdca26\"],[1.0,\"#f0f921\"]],\"type\":\"histogram2d\"}],\"histogram2dcontour\":[{\"colorbar\":{\"outlinewidth\":0,\"ticks\":\"\"},\"colorscale\":[[0.0,\"#0d0887\"],[0.1111111111111111,\"#46039f\"],[0.2222222222222222,\"#7201a8\"],[0.3333333333333333,\"#9c179e\"],[0.4444444444444444,\"#bd3786\"],[0.5555555555555556,\"#d8576b\"],[0.6666666666666666,\"#ed7953\"],[0.7777777777777778,\"#fb9f3a\"],[0.8888888888888888,\"#fdca26\"],[1.0,\"#f0f921\"]],\"type\":\"histogram2dcontour\"}],\"mesh3d\":[{\"colorbar\":{\"outlinewidth\":0,\"ticks\":\"\"},\"type\":\"mesh3d\"}],\"parcoords\":[{\"line\":{\"colorbar\":{\"outlinewidth\":0,\"ticks\":\"\"}},\"type\":\"parcoords\"}],\"pie\":[{\"automargin\":true,\"type\":\"pie\"}],\"scatter\":[{\"marker\":{\"colorbar\":{\"outlinewidth\":0,\"ticks\":\"\"}},\"type\":\"scatter\"}],\"scatter3d\":[{\"line\":{\"colorbar\":{\"outlinewidth\":0,\"ticks\":\"\"}},\"marker\":{\"colorbar\":{\"outlinewidth\":0,\"ticks\":\"\"}},\"type\":\"scatter3d\"}],\"scattercarpet\":[{\"marker\":{\"colorbar\":{\"outlinewidth\":0,\"ticks\":\"\"}},\"type\":\"scattercarpet\"}],\"scattergeo\":[{\"marker\":{\"colorbar\":{\"outlinewidth\":0,\"ticks\":\"\"}},\"type\":\"scattergeo\"}],\"scattergl\":[{\"marker\":{\"colorbar\":{\"outlinewidth\":0,\"ticks\":\"\"}},\"type\":\"scattergl\"}],\"scattermapbox\":[{\"marker\":{\"colorbar\":{\"outlinewidth\":0,\"ticks\":\"\"}},\"type\":\"scattermapbox\"}],\"scatterpolar\":[{\"marker\":{\"colorbar\":{\"outlinewidth\":0,\"ticks\":\"\"}},\"type\":\"scatterpolar\"}],\"scatterpolargl\":[{\"marker\":{\"colorbar\":{\"outlinewidth\":0,\"ticks\":\"\"}},\"type\":\"scatterpolargl\"}],\"scatterternary\":[{\"marker\":{\"colorbar\":{\"outlinewidth\":0,\"ticks\":\"\"}},\"type\":\"scatterternary\"}],\"surface\":[{\"colorbar\":{\"outlinewidth\":0,\"ticks\":\"\"},\"colorscale\":[[0.0,\"#0d0887\"],[0.1111111111111111,\"#46039f\"],[0.2222222222222222,\"#7201a8\"],[0.3333333333333333,\"#9c179e\"],[0.4444444444444444,\"#bd3786\"],[0.5555555555555556,\"#d8576b\"],[0.6666666666666666,\"#ed7953\"],[0.7777777777777778,\"#fb9f3a\"],[0.8888888888888888,\"#fdca26\"],[1.0,\"#f0f921\"]],\"type\":\"surface\"}],\"table\":[{\"cells\":{\"fill\":{\"color\":\"#EBF0F8\"},\"line\":{\"color\":\"white\"}},\"header\":{\"fill\":{\"color\":\"#C8D4E3\"},\"line\":{\"color\":\"white\"}},\"type\":\"table\"}]},\"layout\":{\"annotationdefaults\":{\"arrowcolor\":\"#2a3f5f\",\"arrowhead\":0,\"arrowwidth\":1},\"autotypenumbers\":\"strict\",\"coloraxis\":{\"colorbar\":{\"outlinewidth\":0,\"ticks\":\"\"}},\"colorscale\":{\"diverging\":[[0,\"#8e0152\"],[0.1,\"#c51b7d\"],[0.2,\"#de77ae\"],[0.3,\"#f1b6da\"],[0.4,\"#fde0ef\"],[0.5,\"#f7f7f7\"],[0.6,\"#e6f5d0\"],[0.7,\"#b8e186\"],[0.8,\"#7fbc41\"],[0.9,\"#4d9221\"],[1,\"#276419\"]],\"sequential\":[[0.0,\"#0d0887\"],[0.1111111111111111,\"#46039f\"],[0.2222222222222222,\"#7201a8\"],[0.3333333333333333,\"#9c179e\"],[0.4444444444444444,\"#bd3786\"],[0.5555555555555556,\"#d8576b\"],[0.6666666666666666,\"#ed7953\"],[0.7777777777777778,\"#fb9f3a\"],[0.8888888888888888,\"#fdca26\"],[1.0,\"#f0f921\"]],\"sequentialminus\":[[0.0,\"#0d0887\"],[0.1111111111111111,\"#46039f\"],[0.2222222222222222,\"#7201a8\"],[0.3333333333333333,\"#9c179e\"],[0.4444444444444444,\"#bd3786\"],[0.5555555555555556,\"#d8576b\"],[0.6666666666666666,\"#ed7953\"],[0.7777777777777778,\"#fb9f3a\"],[0.8888888888888888,\"#fdca26\"],[1.0,\"#f0f921\"]]},\"colorway\":[\"#636efa\",\"#EF553B\",\"#00cc96\",\"#ab63fa\",\"#FFA15A\",\"#19d3f3\",\"#FF6692\",\"#B6E880\",\"#FF97FF\",\"#FECB52\"],\"font\":{\"color\":\"#2a3f5f\"},\"geo\":{\"bgcolor\":\"white\",\"lakecolor\":\"white\",\"landcolor\":\"#E5ECF6\",\"showlakes\":true,\"showland\":true,\"subunitcolor\":\"white\"},\"hoverlabel\":{\"align\":\"left\"},\"hovermode\":\"closest\",\"mapbox\":{\"style\":\"light\"},\"paper_bgcolor\":\"white\",\"plot_bgcolor\":\"#E5ECF6\",\"polar\":{\"angularaxis\":{\"gridcolor\":\"white\",\"linecolor\":\"white\",\"ticks\":\"\"},\"bgcolor\":\"#E5ECF6\",\"radialaxis\":{\"gridcolor\":\"white\",\"linecolor\":\"white\",\"ticks\":\"\"}},\"scene\":{\"xaxis\":{\"backgroundcolor\":\"#E5ECF6\",\"gridcolor\":\"white\",\"gridwidth\":2,\"linecolor\":\"white\",\"showbackground\":true,\"ticks\":\"\",\"zerolinecolor\":\"white\"},\"yaxis\":{\"backgroundcolor\":\"#E5ECF6\",\"gridcolor\":\"white\",\"gridwidth\":2,\"linecolor\":\"white\",\"showbackground\":true,\"ticks\":\"\",\"zerolinecolor\":\"white\"},\"zaxis\":{\"backgroundcolor\":\"#E5ECF6\",\"gridcolor\":\"white\",\"gridwidth\":2,\"linecolor\":\"white\",\"showbackground\":true,\"ticks\":\"\",\"zerolinecolor\":\"white\"}},\"shapedefaults\":{\"line\":{\"color\":\"#2a3f5f\"}},\"ternary\":{\"aaxis\":{\"gridcolor\":\"white\",\"linecolor\":\"white\",\"ticks\":\"\"},\"baxis\":{\"gridcolor\":\"white\",\"linecolor\":\"white\",\"ticks\":\"\"},\"bgcolor\":\"#E5ECF6\",\"caxis\":{\"gridcolor\":\"white\",\"linecolor\":\"white\",\"ticks\":\"\"}},\"title\":{\"x\":0.05},\"xaxis\":{\"automargin\":true,\"gridcolor\":\"white\",\"linecolor\":\"white\",\"ticks\":\"\",\"title\":{\"standoff\":15},\"zerolinecolor\":\"white\",\"zerolinewidth\":2},\"yaxis\":{\"automargin\":true,\"gridcolor\":\"white\",\"linecolor\":\"white\",\"ticks\":\"\",\"title\":{\"standoff\":15},\"zerolinecolor\":\"white\",\"zerolinewidth\":2}}},\"xaxis\":{\"anchor\":\"y\",\"domain\":[0.0,1.0],\"title\":{\"text\":\"x\"}},\"yaxis\":{\"anchor\":\"x\",\"domain\":[0.0,1.0],\"title\":{\"text\":\"y\"}},\"legend\":{\"tracegroupgap\":0},\"title\":{\"text\":\"Validation Accuracy, best value: x=9, y=0.786783042394015\"}},                        {\"responsive\": true}                    ).then(function(){\n",
              "                            \n",
              "var gd = document.getElementById('717148e5-4b8b-4be0-b57b-408c1c8a4369');\n",
              "var x = new MutationObserver(function (mutations, observer) {{\n",
              "        var display = window.getComputedStyle(gd).display;\n",
              "        if (!display || display === 'none') {{\n",
              "            console.log([gd, 'removed!']);\n",
              "            Plotly.purge(gd);\n",
              "            observer.disconnect();\n",
              "        }}\n",
              "}});\n",
              "\n",
              "// Listen for the removal of the full notebook cells\n",
              "var notebookContainer = gd.closest('#notebook-container');\n",
              "if (notebookContainer) {{\n",
              "    x.observe(notebookContainer, {childList: true});\n",
              "}}\n",
              "\n",
              "// Listen for the clearing of the current output cell\n",
              "var outputEl = gd.closest('.output');\n",
              "if (outputEl) {{\n",
              "    x.observe(outputEl, {childList: true});\n",
              "}}\n",
              "\n",
              "                        })                };                            </script>        </div>\n",
              "</body>\n",
              "</html>"
            ]
          },
          "metadata": {}
        }
      ]
    },
    {
      "cell_type": "markdown",
      "source": [
        "As we can see the smaller the validatin the smaller its lost point that is best for slicing the data will be about 0.8 for train and 0.2 for validatin thats about the right point for slicing for them to be as close as possible."
      ],
      "metadata": {
        "id": "MGW3BnaWBbkP"
      }
    },
    {
      "cell_type": "code",
      "source": [
        "xTrain, xValidation, tTrain, tValidation = model_selection.train_test_split(x, t, test_size = 0.2, random_state = 42)\n",
        "SGDClassifier = pipeline.make_pipeline(preprocessing.StandardScaler(), linear_model.SGDClassifier(loss = \"log\", alpha = 0, learning_rate = \"constant\", eta0 = 0.01)).fit(xTrain, tTrain)"
      ],
      "metadata": {
        "id": "gJrGv8stFkin"
      },
      "execution_count": null,
      "outputs": []
    },
    {
      "cell_type": "markdown",
      "source": [
        "# Working on the Test dataset"
      ],
      "metadata": {
        "id": "sYvChbr5FHwy"
      }
    },
    {
      "cell_type": "code",
      "source": [
        "altered_test = testCSV.copy()\n",
        "passangers_ids = testCSV['PassengerId'].copy()\n",
        "#dropping unnecessary columns\n",
        "altered_test = altered_test.drop(columns = \"Cabin\", axis = 1)\n",
        "altered_test = altered_test.drop(columns = \"PassengerId\", axis = 1)\n",
        "altered_test = altered_test.drop(columns = \"Ticket\", axis = 1)\n",
        "#count na in altered dataset\n",
        "count_empty_values_in_each_column(altered_test)"
      ],
      "metadata": {
        "colab": {
          "base_uri": "https://localhost:8080/"
        },
        "id": "3EuSBq9XPDci",
        "outputId": "fe7cea62-f02d-422d-d19b-23a130a99f9f"
      },
      "execution_count": null,
      "outputs": [
        {
          "output_type": "stream",
          "name": "stdout",
          "text": [
            "empty values\n",
            "------------\n",
            "\n",
            "Pclass: 0\n",
            "Name: 0\n",
            "Sex: 0\n",
            "Age: 86\n",
            "SibSp: 0\n",
            "Parch: 0\n",
            "Fare: 1\n",
            "Embarked: 0\n"
          ]
        }
      ]
    },
    {
      "cell_type": "code",
      "source": [
        "fill_na_random_pick_column_distribution(altered_test, \"Embarked\")\n",
        "fill_na_mean(altered_test, \"Age\")\n",
        "fill_na_random_pick_column_distribution(altered_test, \"Fare\")\n",
        "\n",
        "count_empty_values_in_each_column(altered_test)"
      ],
      "metadata": {
        "colab": {
          "base_uri": "https://localhost:8080/"
        },
        "id": "Dser0zWsH4qk",
        "outputId": "8f759b41-c1c4-4110-8e76-b4127d04e224"
      },
      "execution_count": null,
      "outputs": [
        {
          "output_type": "stream",
          "name": "stdout",
          "text": [
            "empty values\n",
            "------------\n",
            "\n",
            "Pclass: 0\n",
            "Name: 0\n",
            "Sex: 0\n",
            "Age: 0\n",
            "SibSp: 0\n",
            "Parch: 0\n",
            "Fare: 0\n",
            "Embarked: 0\n"
          ]
        }
      ]
    },
    {
      "cell_type": "code",
      "source": [
        "df_cat = altered_test[['Embarked']]\n",
        "enc = OneHotEncoder(drop='first', sparse=False)\n",
        "cat_enc = pd.DataFrame(enc.fit_transform(df_cat), columns=enc.get_feature_names_out())\n",
        "altered_test = altered_test.drop(['Embarked'], axis=1).join(cat_enc)\n",
        "altered_test['Sex'] = altered_test['Sex'].map( {'female': 1, 'male': 0} ).astype(int)\n",
        "altered_test"
      ],
      "metadata": {
        "colab": {
          "base_uri": "https://localhost:8080/",
          "height": 424
        },
        "id": "XXP4VaTPIHw0",
        "outputId": "b21f8255-088e-4805-e50e-3fc7b37722eb"
      },
      "execution_count": null,
      "outputs": [
        {
          "output_type": "execute_result",
          "data": {
            "text/plain": [
              "     Pclass                                          Name  Sex       Age  \\\n",
              "0         3                              Kelly, Mr. James    0  34.50000   \n",
              "1         3              Wilkes, Mrs. James (Ellen Needs)    1  47.00000   \n",
              "2         2                     Myles, Mr. Thomas Francis    0  62.00000   \n",
              "3         3                              Wirz, Mr. Albert    0  27.00000   \n",
              "4         3  Hirvonen, Mrs. Alexander (Helga E Lindqvist)    1  22.00000   \n",
              "..      ...                                           ...  ...       ...   \n",
              "413       3                            Spector, Mr. Woolf    0  30.27259   \n",
              "414       1                  Oliva y Ocana, Dona. Fermina    1  39.00000   \n",
              "415       3                  Saether, Mr. Simon Sivertsen    0  38.50000   \n",
              "416       3                           Ware, Mr. Frederick    0  30.27259   \n",
              "417       3                      Peter, Master. Michael J    0  30.27259   \n",
              "\n",
              "     SibSp  Parch      Fare  Embarked_Q  Embarked_S  \n",
              "0        0      0    7.8292         1.0         0.0  \n",
              "1        1      0    7.0000         0.0         1.0  \n",
              "2        0      0    9.6875         1.0         0.0  \n",
              "3        0      0    8.6625         0.0         1.0  \n",
              "4        1      1   12.2875         0.0         1.0  \n",
              "..     ...    ...       ...         ...         ...  \n",
              "413      0      0    8.0500         0.0         1.0  \n",
              "414      0      0  108.9000         0.0         0.0  \n",
              "415      0      0    7.2500         0.0         1.0  \n",
              "416      0      0    8.0500         0.0         1.0  \n",
              "417      1      1   22.3583         0.0         0.0  \n",
              "\n",
              "[418 rows x 9 columns]"
            ],
            "text/html": [
              "\n",
              "  <div id=\"df-2dda15a5-8293-4fd5-9a6a-ff3b2d6c0da6\">\n",
              "    <div class=\"colab-df-container\">\n",
              "      <div>\n",
              "<style scoped>\n",
              "    .dataframe tbody tr th:only-of-type {\n",
              "        vertical-align: middle;\n",
              "    }\n",
              "\n",
              "    .dataframe tbody tr th {\n",
              "        vertical-align: top;\n",
              "    }\n",
              "\n",
              "    .dataframe thead th {\n",
              "        text-align: right;\n",
              "    }\n",
              "</style>\n",
              "<table border=\"1\" class=\"dataframe\">\n",
              "  <thead>\n",
              "    <tr style=\"text-align: right;\">\n",
              "      <th></th>\n",
              "      <th>Pclass</th>\n",
              "      <th>Name</th>\n",
              "      <th>Sex</th>\n",
              "      <th>Age</th>\n",
              "      <th>SibSp</th>\n",
              "      <th>Parch</th>\n",
              "      <th>Fare</th>\n",
              "      <th>Embarked_Q</th>\n",
              "      <th>Embarked_S</th>\n",
              "    </tr>\n",
              "  </thead>\n",
              "  <tbody>\n",
              "    <tr>\n",
              "      <th>0</th>\n",
              "      <td>3</td>\n",
              "      <td>Kelly, Mr. James</td>\n",
              "      <td>0</td>\n",
              "      <td>34.50000</td>\n",
              "      <td>0</td>\n",
              "      <td>0</td>\n",
              "      <td>7.8292</td>\n",
              "      <td>1.0</td>\n",
              "      <td>0.0</td>\n",
              "    </tr>\n",
              "    <tr>\n",
              "      <th>1</th>\n",
              "      <td>3</td>\n",
              "      <td>Wilkes, Mrs. James (Ellen Needs)</td>\n",
              "      <td>1</td>\n",
              "      <td>47.00000</td>\n",
              "      <td>1</td>\n",
              "      <td>0</td>\n",
              "      <td>7.0000</td>\n",
              "      <td>0.0</td>\n",
              "      <td>1.0</td>\n",
              "    </tr>\n",
              "    <tr>\n",
              "      <th>2</th>\n",
              "      <td>2</td>\n",
              "      <td>Myles, Mr. Thomas Francis</td>\n",
              "      <td>0</td>\n",
              "      <td>62.00000</td>\n",
              "      <td>0</td>\n",
              "      <td>0</td>\n",
              "      <td>9.6875</td>\n",
              "      <td>1.0</td>\n",
              "      <td>0.0</td>\n",
              "    </tr>\n",
              "    <tr>\n",
              "      <th>3</th>\n",
              "      <td>3</td>\n",
              "      <td>Wirz, Mr. Albert</td>\n",
              "      <td>0</td>\n",
              "      <td>27.00000</td>\n",
              "      <td>0</td>\n",
              "      <td>0</td>\n",
              "      <td>8.6625</td>\n",
              "      <td>0.0</td>\n",
              "      <td>1.0</td>\n",
              "    </tr>\n",
              "    <tr>\n",
              "      <th>4</th>\n",
              "      <td>3</td>\n",
              "      <td>Hirvonen, Mrs. Alexander (Helga E Lindqvist)</td>\n",
              "      <td>1</td>\n",
              "      <td>22.00000</td>\n",
              "      <td>1</td>\n",
              "      <td>1</td>\n",
              "      <td>12.2875</td>\n",
              "      <td>0.0</td>\n",
              "      <td>1.0</td>\n",
              "    </tr>\n",
              "    <tr>\n",
              "      <th>...</th>\n",
              "      <td>...</td>\n",
              "      <td>...</td>\n",
              "      <td>...</td>\n",
              "      <td>...</td>\n",
              "      <td>...</td>\n",
              "      <td>...</td>\n",
              "      <td>...</td>\n",
              "      <td>...</td>\n",
              "      <td>...</td>\n",
              "    </tr>\n",
              "    <tr>\n",
              "      <th>413</th>\n",
              "      <td>3</td>\n",
              "      <td>Spector, Mr. Woolf</td>\n",
              "      <td>0</td>\n",
              "      <td>30.27259</td>\n",
              "      <td>0</td>\n",
              "      <td>0</td>\n",
              "      <td>8.0500</td>\n",
              "      <td>0.0</td>\n",
              "      <td>1.0</td>\n",
              "    </tr>\n",
              "    <tr>\n",
              "      <th>414</th>\n",
              "      <td>1</td>\n",
              "      <td>Oliva y Ocana, Dona. Fermina</td>\n",
              "      <td>1</td>\n",
              "      <td>39.00000</td>\n",
              "      <td>0</td>\n",
              "      <td>0</td>\n",
              "      <td>108.9000</td>\n",
              "      <td>0.0</td>\n",
              "      <td>0.0</td>\n",
              "    </tr>\n",
              "    <tr>\n",
              "      <th>415</th>\n",
              "      <td>3</td>\n",
              "      <td>Saether, Mr. Simon Sivertsen</td>\n",
              "      <td>0</td>\n",
              "      <td>38.50000</td>\n",
              "      <td>0</td>\n",
              "      <td>0</td>\n",
              "      <td>7.2500</td>\n",
              "      <td>0.0</td>\n",
              "      <td>1.0</td>\n",
              "    </tr>\n",
              "    <tr>\n",
              "      <th>416</th>\n",
              "      <td>3</td>\n",
              "      <td>Ware, Mr. Frederick</td>\n",
              "      <td>0</td>\n",
              "      <td>30.27259</td>\n",
              "      <td>0</td>\n",
              "      <td>0</td>\n",
              "      <td>8.0500</td>\n",
              "      <td>0.0</td>\n",
              "      <td>1.0</td>\n",
              "    </tr>\n",
              "    <tr>\n",
              "      <th>417</th>\n",
              "      <td>3</td>\n",
              "      <td>Peter, Master. Michael J</td>\n",
              "      <td>0</td>\n",
              "      <td>30.27259</td>\n",
              "      <td>1</td>\n",
              "      <td>1</td>\n",
              "      <td>22.3583</td>\n",
              "      <td>0.0</td>\n",
              "      <td>0.0</td>\n",
              "    </tr>\n",
              "  </tbody>\n",
              "</table>\n",
              "<p>418 rows × 9 columns</p>\n",
              "</div>\n",
              "      <button class=\"colab-df-convert\" onclick=\"convertToInteractive('df-2dda15a5-8293-4fd5-9a6a-ff3b2d6c0da6')\"\n",
              "              title=\"Convert this dataframe to an interactive table.\"\n",
              "              style=\"display:none;\">\n",
              "        \n",
              "  <svg xmlns=\"http://www.w3.org/2000/svg\" height=\"24px\"viewBox=\"0 0 24 24\"\n",
              "       width=\"24px\">\n",
              "    <path d=\"M0 0h24v24H0V0z\" fill=\"none\"/>\n",
              "    <path d=\"M18.56 5.44l.94 2.06.94-2.06 2.06-.94-2.06-.94-.94-2.06-.94 2.06-2.06.94zm-11 1L8.5 8.5l.94-2.06 2.06-.94-2.06-.94L8.5 2.5l-.94 2.06-2.06.94zm10 10l.94 2.06.94-2.06 2.06-.94-2.06-.94-.94-2.06-.94 2.06-2.06.94z\"/><path d=\"M17.41 7.96l-1.37-1.37c-.4-.4-.92-.59-1.43-.59-.52 0-1.04.2-1.43.59L10.3 9.45l-7.72 7.72c-.78.78-.78 2.05 0 2.83L4 21.41c.39.39.9.59 1.41.59.51 0 1.02-.2 1.41-.59l7.78-7.78 2.81-2.81c.8-.78.8-2.07 0-2.86zM5.41 20L4 18.59l7.72-7.72 1.47 1.35L5.41 20z\"/>\n",
              "  </svg>\n",
              "      </button>\n",
              "      \n",
              "  <style>\n",
              "    .colab-df-container {\n",
              "      display:flex;\n",
              "      flex-wrap:wrap;\n",
              "      gap: 12px;\n",
              "    }\n",
              "\n",
              "    .colab-df-convert {\n",
              "      background-color: #E8F0FE;\n",
              "      border: none;\n",
              "      border-radius: 50%;\n",
              "      cursor: pointer;\n",
              "      display: none;\n",
              "      fill: #1967D2;\n",
              "      height: 32px;\n",
              "      padding: 0 0 0 0;\n",
              "      width: 32px;\n",
              "    }\n",
              "\n",
              "    .colab-df-convert:hover {\n",
              "      background-color: #E2EBFA;\n",
              "      box-shadow: 0px 1px 2px rgba(60, 64, 67, 0.3), 0px 1px 3px 1px rgba(60, 64, 67, 0.15);\n",
              "      fill: #174EA6;\n",
              "    }\n",
              "\n",
              "    [theme=dark] .colab-df-convert {\n",
              "      background-color: #3B4455;\n",
              "      fill: #D2E3FC;\n",
              "    }\n",
              "\n",
              "    [theme=dark] .colab-df-convert:hover {\n",
              "      background-color: #434B5C;\n",
              "      box-shadow: 0px 1px 3px 1px rgba(0, 0, 0, 0.15);\n",
              "      filter: drop-shadow(0px 1px 2px rgba(0, 0, 0, 0.3));\n",
              "      fill: #FFFFFF;\n",
              "    }\n",
              "  </style>\n",
              "\n",
              "      <script>\n",
              "        const buttonEl =\n",
              "          document.querySelector('#df-2dda15a5-8293-4fd5-9a6a-ff3b2d6c0da6 button.colab-df-convert');\n",
              "        buttonEl.style.display =\n",
              "          google.colab.kernel.accessAllowed ? 'block' : 'none';\n",
              "\n",
              "        async function convertToInteractive(key) {\n",
              "          const element = document.querySelector('#df-2dda15a5-8293-4fd5-9a6a-ff3b2d6c0da6');\n",
              "          const dataTable =\n",
              "            await google.colab.kernel.invokeFunction('convertToInteractive',\n",
              "                                                     [key], {});\n",
              "          if (!dataTable) return;\n",
              "\n",
              "          const docLinkHtml = 'Like what you see? Visit the ' +\n",
              "            '<a target=\"_blank\" href=https://colab.research.google.com/notebooks/data_table.ipynb>data table notebook</a>'\n",
              "            + ' to learn more about interactive tables.';\n",
              "          element.innerHTML = '';\n",
              "          dataTable['output_type'] = 'display_data';\n",
              "          await google.colab.output.renderOutput(dataTable, element);\n",
              "          const docLink = document.createElement('div');\n",
              "          docLink.innerHTML = docLinkHtml;\n",
              "          element.appendChild(docLink);\n",
              "        }\n",
              "      </script>\n",
              "    </div>\n",
              "  </div>\n",
              "  "
            ]
          },
          "metadata": {},
          "execution_count": 29
        }
      ]
    },
    {
      "cell_type": "code",
      "source": [
        "## didnt use because it mad to score worse\n",
        "#combaining Parch and SibSp to Family\n",
        "#altered_test['Family'] = altered_test['Parch'] + altered_test['SibSp']\n",
        "#altered_test = altered_test.drop(['Parch', 'SibSp'], axis=1)"
      ],
      "metadata": {
        "id": "Wn2b7O_eJBl8"
      },
      "execution_count": null,
      "outputs": []
    },
    {
      "cell_type": "code",
      "source": [
        "#extracting marrige titles\n",
        "altered_test['Title'] = altered_test.Name.str.extract(' ([A-Za-z]+)\\.', expand=False)#extract title name\n",
        "rare_titles = ['Lady', 'Countess','Capt', 'Col', 'Don', 'Dr', 'Major', 'Rev', 'Sir', 'Jonkheer', 'Dona', 'Mlle', 'Ms', 'Mme']\n",
        "altered_test['Title'] = altered_test['Title'].replace(rare_titles, 'Rare') \n",
        "altered_test = altered_test.drop(columns = \"Name\", axis = 1)\n",
        "title_mapping = {\"Rare\": 1, \"Mr\": 2, \"Master\": 3, \"Mrs\": 4, \"Miss\": 5}\n",
        "altered_test['Title'] = altered_test['Title'].map(title_mapping)"
      ],
      "metadata": {
        "id": "1XmTnAxkJGay"
      },
      "execution_count": null,
      "outputs": []
    },
    {
      "cell_type": "code",
      "source": [
        "#spliting to age group\n",
        "altered_test.loc[altered_test['Age'] <= 15, 'Age_group'] =3 \n",
        "altered_test.loc[(altered_test['Age'] > 15) & (altered_test['Age'] <= 25), 'Age_group'] = 2\n",
        "altered_test.loc[(altered_test['Age'] > 25) & (altered_test['Age'] <= 64), 'Age_group'] = 1\n",
        "altered_test.loc[altered_test['Age'] > 64 , 'Age_group'] = 0\n",
        "altered_test = altered_test.drop(columns = \"Age\", axis = 1)"
      ],
      "metadata": {
        "id": "-DuBS0vMJU3Y"
      },
      "execution_count": null,
      "outputs": []
    },
    {
      "cell_type": "code",
      "source": [
        "altered_test"
      ],
      "metadata": {
        "colab": {
          "base_uri": "https://localhost:8080/",
          "height": 424
        },
        "id": "N9kwaKRjcBa8",
        "outputId": "265d5770-f3dc-4b97-bf1d-492f05565f9d"
      },
      "execution_count": null,
      "outputs": [
        {
          "output_type": "execute_result",
          "data": {
            "text/plain": [
              "     Pclass  Sex  SibSp  Parch      Fare  Embarked_Q  Embarked_S  Title  \\\n",
              "0         3    0      0      0    7.8292         1.0         0.0      2   \n",
              "1         3    1      1      0    7.0000         0.0         1.0      4   \n",
              "2         2    0      0      0    9.6875         1.0         0.0      2   \n",
              "3         3    0      0      0    8.6625         0.0         1.0      2   \n",
              "4         3    1      1      1   12.2875         0.0         1.0      4   \n",
              "..      ...  ...    ...    ...       ...         ...         ...    ...   \n",
              "413       3    0      0      0    8.0500         0.0         1.0      2   \n",
              "414       1    1      0      0  108.9000         0.0         0.0      1   \n",
              "415       3    0      0      0    7.2500         0.0         1.0      2   \n",
              "416       3    0      0      0    8.0500         0.0         1.0      2   \n",
              "417       3    0      1      1   22.3583         0.0         0.0      3   \n",
              "\n",
              "     Age_group  \n",
              "0          1.0  \n",
              "1          1.0  \n",
              "2          1.0  \n",
              "3          1.0  \n",
              "4          2.0  \n",
              "..         ...  \n",
              "413        1.0  \n",
              "414        1.0  \n",
              "415        1.0  \n",
              "416        1.0  \n",
              "417        1.0  \n",
              "\n",
              "[418 rows x 9 columns]"
            ],
            "text/html": [
              "\n",
              "  <div id=\"df-5e4f93ac-da57-4a59-b7de-8d5eb3eb8c3b\">\n",
              "    <div class=\"colab-df-container\">\n",
              "      <div>\n",
              "<style scoped>\n",
              "    .dataframe tbody tr th:only-of-type {\n",
              "        vertical-align: middle;\n",
              "    }\n",
              "\n",
              "    .dataframe tbody tr th {\n",
              "        vertical-align: top;\n",
              "    }\n",
              "\n",
              "    .dataframe thead th {\n",
              "        text-align: right;\n",
              "    }\n",
              "</style>\n",
              "<table border=\"1\" class=\"dataframe\">\n",
              "  <thead>\n",
              "    <tr style=\"text-align: right;\">\n",
              "      <th></th>\n",
              "      <th>Pclass</th>\n",
              "      <th>Sex</th>\n",
              "      <th>SibSp</th>\n",
              "      <th>Parch</th>\n",
              "      <th>Fare</th>\n",
              "      <th>Embarked_Q</th>\n",
              "      <th>Embarked_S</th>\n",
              "      <th>Title</th>\n",
              "      <th>Age_group</th>\n",
              "    </tr>\n",
              "  </thead>\n",
              "  <tbody>\n",
              "    <tr>\n",
              "      <th>0</th>\n",
              "      <td>3</td>\n",
              "      <td>0</td>\n",
              "      <td>0</td>\n",
              "      <td>0</td>\n",
              "      <td>7.8292</td>\n",
              "      <td>1.0</td>\n",
              "      <td>0.0</td>\n",
              "      <td>2</td>\n",
              "      <td>1.0</td>\n",
              "    </tr>\n",
              "    <tr>\n",
              "      <th>1</th>\n",
              "      <td>3</td>\n",
              "      <td>1</td>\n",
              "      <td>1</td>\n",
              "      <td>0</td>\n",
              "      <td>7.0000</td>\n",
              "      <td>0.0</td>\n",
              "      <td>1.0</td>\n",
              "      <td>4</td>\n",
              "      <td>1.0</td>\n",
              "    </tr>\n",
              "    <tr>\n",
              "      <th>2</th>\n",
              "      <td>2</td>\n",
              "      <td>0</td>\n",
              "      <td>0</td>\n",
              "      <td>0</td>\n",
              "      <td>9.6875</td>\n",
              "      <td>1.0</td>\n",
              "      <td>0.0</td>\n",
              "      <td>2</td>\n",
              "      <td>1.0</td>\n",
              "    </tr>\n",
              "    <tr>\n",
              "      <th>3</th>\n",
              "      <td>3</td>\n",
              "      <td>0</td>\n",
              "      <td>0</td>\n",
              "      <td>0</td>\n",
              "      <td>8.6625</td>\n",
              "      <td>0.0</td>\n",
              "      <td>1.0</td>\n",
              "      <td>2</td>\n",
              "      <td>1.0</td>\n",
              "    </tr>\n",
              "    <tr>\n",
              "      <th>4</th>\n",
              "      <td>3</td>\n",
              "      <td>1</td>\n",
              "      <td>1</td>\n",
              "      <td>1</td>\n",
              "      <td>12.2875</td>\n",
              "      <td>0.0</td>\n",
              "      <td>1.0</td>\n",
              "      <td>4</td>\n",
              "      <td>2.0</td>\n",
              "    </tr>\n",
              "    <tr>\n",
              "      <th>...</th>\n",
              "      <td>...</td>\n",
              "      <td>...</td>\n",
              "      <td>...</td>\n",
              "      <td>...</td>\n",
              "      <td>...</td>\n",
              "      <td>...</td>\n",
              "      <td>...</td>\n",
              "      <td>...</td>\n",
              "      <td>...</td>\n",
              "    </tr>\n",
              "    <tr>\n",
              "      <th>413</th>\n",
              "      <td>3</td>\n",
              "      <td>0</td>\n",
              "      <td>0</td>\n",
              "      <td>0</td>\n",
              "      <td>8.0500</td>\n",
              "      <td>0.0</td>\n",
              "      <td>1.0</td>\n",
              "      <td>2</td>\n",
              "      <td>1.0</td>\n",
              "    </tr>\n",
              "    <tr>\n",
              "      <th>414</th>\n",
              "      <td>1</td>\n",
              "      <td>1</td>\n",
              "      <td>0</td>\n",
              "      <td>0</td>\n",
              "      <td>108.9000</td>\n",
              "      <td>0.0</td>\n",
              "      <td>0.0</td>\n",
              "      <td>1</td>\n",
              "      <td>1.0</td>\n",
              "    </tr>\n",
              "    <tr>\n",
              "      <th>415</th>\n",
              "      <td>3</td>\n",
              "      <td>0</td>\n",
              "      <td>0</td>\n",
              "      <td>0</td>\n",
              "      <td>7.2500</td>\n",
              "      <td>0.0</td>\n",
              "      <td>1.0</td>\n",
              "      <td>2</td>\n",
              "      <td>1.0</td>\n",
              "    </tr>\n",
              "    <tr>\n",
              "      <th>416</th>\n",
              "      <td>3</td>\n",
              "      <td>0</td>\n",
              "      <td>0</td>\n",
              "      <td>0</td>\n",
              "      <td>8.0500</td>\n",
              "      <td>0.0</td>\n",
              "      <td>1.0</td>\n",
              "      <td>2</td>\n",
              "      <td>1.0</td>\n",
              "    </tr>\n",
              "    <tr>\n",
              "      <th>417</th>\n",
              "      <td>3</td>\n",
              "      <td>0</td>\n",
              "      <td>1</td>\n",
              "      <td>1</td>\n",
              "      <td>22.3583</td>\n",
              "      <td>0.0</td>\n",
              "      <td>0.0</td>\n",
              "      <td>3</td>\n",
              "      <td>1.0</td>\n",
              "    </tr>\n",
              "  </tbody>\n",
              "</table>\n",
              "<p>418 rows × 9 columns</p>\n",
              "</div>\n",
              "      <button class=\"colab-df-convert\" onclick=\"convertToInteractive('df-5e4f93ac-da57-4a59-b7de-8d5eb3eb8c3b')\"\n",
              "              title=\"Convert this dataframe to an interactive table.\"\n",
              "              style=\"display:none;\">\n",
              "        \n",
              "  <svg xmlns=\"http://www.w3.org/2000/svg\" height=\"24px\"viewBox=\"0 0 24 24\"\n",
              "       width=\"24px\">\n",
              "    <path d=\"M0 0h24v24H0V0z\" fill=\"none\"/>\n",
              "    <path d=\"M18.56 5.44l.94 2.06.94-2.06 2.06-.94-2.06-.94-.94-2.06-.94 2.06-2.06.94zm-11 1L8.5 8.5l.94-2.06 2.06-.94-2.06-.94L8.5 2.5l-.94 2.06-2.06.94zm10 10l.94 2.06.94-2.06 2.06-.94-2.06-.94-.94-2.06-.94 2.06-2.06.94z\"/><path d=\"M17.41 7.96l-1.37-1.37c-.4-.4-.92-.59-1.43-.59-.52 0-1.04.2-1.43.59L10.3 9.45l-7.72 7.72c-.78.78-.78 2.05 0 2.83L4 21.41c.39.39.9.59 1.41.59.51 0 1.02-.2 1.41-.59l7.78-7.78 2.81-2.81c.8-.78.8-2.07 0-2.86zM5.41 20L4 18.59l7.72-7.72 1.47 1.35L5.41 20z\"/>\n",
              "  </svg>\n",
              "      </button>\n",
              "      \n",
              "  <style>\n",
              "    .colab-df-container {\n",
              "      display:flex;\n",
              "      flex-wrap:wrap;\n",
              "      gap: 12px;\n",
              "    }\n",
              "\n",
              "    .colab-df-convert {\n",
              "      background-color: #E8F0FE;\n",
              "      border: none;\n",
              "      border-radius: 50%;\n",
              "      cursor: pointer;\n",
              "      display: none;\n",
              "      fill: #1967D2;\n",
              "      height: 32px;\n",
              "      padding: 0 0 0 0;\n",
              "      width: 32px;\n",
              "    }\n",
              "\n",
              "    .colab-df-convert:hover {\n",
              "      background-color: #E2EBFA;\n",
              "      box-shadow: 0px 1px 2px rgba(60, 64, 67, 0.3), 0px 1px 3px 1px rgba(60, 64, 67, 0.15);\n",
              "      fill: #174EA6;\n",
              "    }\n",
              "\n",
              "    [theme=dark] .colab-df-convert {\n",
              "      background-color: #3B4455;\n",
              "      fill: #D2E3FC;\n",
              "    }\n",
              "\n",
              "    [theme=dark] .colab-df-convert:hover {\n",
              "      background-color: #434B5C;\n",
              "      box-shadow: 0px 1px 3px 1px rgba(0, 0, 0, 0.15);\n",
              "      filter: drop-shadow(0px 1px 2px rgba(0, 0, 0, 0.3));\n",
              "      fill: #FFFFFF;\n",
              "    }\n",
              "  </style>\n",
              "\n",
              "      <script>\n",
              "        const buttonEl =\n",
              "          document.querySelector('#df-5e4f93ac-da57-4a59-b7de-8d5eb3eb8c3b button.colab-df-convert');\n",
              "        buttonEl.style.display =\n",
              "          google.colab.kernel.accessAllowed ? 'block' : 'none';\n",
              "\n",
              "        async function convertToInteractive(key) {\n",
              "          const element = document.querySelector('#df-5e4f93ac-da57-4a59-b7de-8d5eb3eb8c3b');\n",
              "          const dataTable =\n",
              "            await google.colab.kernel.invokeFunction('convertToInteractive',\n",
              "                                                     [key], {});\n",
              "          if (!dataTable) return;\n",
              "\n",
              "          const docLinkHtml = 'Like what you see? Visit the ' +\n",
              "            '<a target=\"_blank\" href=https://colab.research.google.com/notebooks/data_table.ipynb>data table notebook</a>'\n",
              "            + ' to learn more about interactive tables.';\n",
              "          element.innerHTML = '';\n",
              "          dataTable['output_type'] = 'display_data';\n",
              "          await google.colab.output.renderOutput(dataTable, element);\n",
              "          const docLink = document.createElement('div');\n",
              "          docLink.innerHTML = docLinkHtml;\n",
              "          element.appendChild(docLink);\n",
              "        }\n",
              "      </script>\n",
              "    </div>\n",
              "  </div>\n",
              "  "
            ]
          },
          "metadata": {},
          "execution_count": 33
        }
      ]
    },
    {
      "cell_type": "markdown",
      "source": [
        "# Submission"
      ],
      "metadata": {
        "id": "geDFmFeVK04j"
      }
    },
    {
      "cell_type": "code",
      "source": [
        "yTest = SGDClassifier.predict(altered_test)\n",
        "\n",
        "submission = pd.DataFrame()\n",
        "submission['PassengerId'] = passangers_ids\n",
        "submission['Survived'] = yTest\n",
        "\n",
        "submission.to_csv('Submission.csv', index=False)"
      ],
      "metadata": {
        "id": "y5NG0mryK-Gg"
      },
      "execution_count": null,
      "outputs": []
    },
    {
      "cell_type": "markdown",
      "source": [
        "The fallowing pictures are of some of my submissions:\n",
        "1. This submissin is the best and inclueds the fallowing features: Pcalss, Sex, Parch, SibSp, Fare, Embaked, Title, Age_group\n",
        "\n",
        "2. This submmisin included this features:Pcalss, Sex, Family, Fare, Embaked, Title, Age_group\n",
        "\n",
        "3. This submmisin included this features:Pcalss, Sex, Family, Fare, Embaked, Age_group\n"
      ],
      "metadata": {
        "id": "ZypMYK_ZeHcP"
      }
    },
    {
      "cell_type": "markdown",
      "source": [
        "# 1. **Best Submission**"
      ],
      "metadata": {
        "id": "gJttIuoGfGPS"
      }
    },
    {
      "cell_type": "code",
      "source": [
        ""
      ],
      "metadata": {
        "id": "As7s2Z8Lh6k2"
      },
      "execution_count": null,
      "outputs": []
    },
    {
      "cell_type": "markdown",
      "source": [
        "![best submit.PNG](data:image/png;base64,iVBORw0KGgoAAAANSUhEUgAAA8QAAADCCAYAAACPHQt3AAAAAXNSR0IArs4c6QAAAARnQU1BAACxjwv8YQUAAAAJcEhZcwAADsMAAA7DAcdvqGQAADOFSURBVHhe7d3/bxTXvf/xz19SgRSJHyzxA1F+QC0VSq1QimQiJOsiLG5lXStQKiBEIYiUS2iR60S1TGRwE5wU1RckXCMjywlwySU4DbFD5dqtwOQG7OZiO7LTTYyysZuua8j7c94zc2ZnZme/+Cte7/MhjcJ82ZkzZ8aTee05M/v/BAAAAACAEkQgBgAAAACUpHkF4kePHknymyn5e2JChkfHZOizEbk3dJ+BgYGBgYGBgYGBgYGBYd6DZkzNmpo5NXtqBl1IcwrEqelpp0BawLHxhHyd/Eb++c+UPHz40FsCAAAAAID50YypWVMzp2ZPzaCaRTWTLoRZB+Ivv3ogQ38blokHXxOAAQAAAABLRjOoZlHNpJpN56vgQKwJXJuqv0h8RRAGAAAAADw2mkk1m2pGnU9rcUGBWJuote+2NlMDAAAAALAcaEbVrKqZdS7yBmJN27qBbyanvCkAAAAAACwPmlU1s86lpThvINYmaFqGAQAAAADLlWZWza6zlTMQ60PK2i8bAAAAAIDlTLPrbF+0lTUQO12l/zbMC7QAAAAAAMueZlfNsLPpOp01EOtvO+nrrAEAAAAAKAaaYTXLFio2ED969Mj5wWNahwEAAAAAxUIzrGZZzbSFiA3EyW+mZGw84Y0BAAAAAFAcNMtqpi1EbCDWJmbeLA0AAAAAKDaaZQvtNh0biPV11XP9YWMAAAAAAB4XzbKF/gRTbCDWHzXm+WEAAAAAQLFx3jZtMm0hYgOxPoQMAAAAAEAxKjTTEogBAAAAACsKgRgAAAAAUJIIxAAAAACAkkQgBgAAAACUJAIxAAAAAKAkEYgBAAAAACWJQAwAAAAAKEkEYgAAAABASSIQAwAAAABKEoEYAAAAAFCSCMQAAAAAgJJEIAYAAAAAlCQCMQAAAACgJC37QJxKJiWZTHljnqm4aaMycKNH+oYSkprxpnmcdQQXn0lJ8kEyvVzKzDfjdoh+PiTPsqnAPGeIltNsOzHUL9037sjIlDfNiqxbh1AZI+sK7Ze3TxlDZPMhD4akz6mzpDfBM9ttZdmPjHqMTo/ZjqTc49h9azT2OCSduuuXwQfeBE/GMVa56trZh8gH9LyKLgcAAABgxVr+gbi3TjaUHZArNgBNdcnRsjI52mXDTEoGz+2RtavL5KktFVK+7glZs6VB+vxgk5DW6iek+kLCGzfG26R6dY20jrujiQs1sqpsvWypqJAt5evMvyukvjearly5l+2X2tVPyNpyM0/n63D4qimBJ9EltVvKZNW6TbJly3pZs3qd7L446s2MrNsbmvsD81ZvkpN33HEzJbxf/W97n9lk6iJdhkOXAvsdMGLWt8bbltbZ2p93+uV0tlXdli53dFvmmKwyZS/3t2f2ozOwtFPWJ8y0YNBOSfcxs+/Reg9sR491uV3v+jJzHJukz1btzKi01php6+O2GXOM89S1uw9lsv9Suox9dU/IqjqvwgEAAACseMs+EIsk5cq+Mtlggopmo4HfbpI1NenwJneaTIiqlOa73rgNTsd6nOVjw1JcIA4Es4HGjbJq31Wz5Uy5l3UDcW2vMxLh7seaF0zZvZbPVI8J+6tN2Pc2lBlE02zIXFXeJAPO52P2y5GrDJa3TI83OtUjtRU10jLkjmaWIy4Q10mfOyYj53eGlvfLuu2sjHjT5EGn7NZpWevd3caO815onRmS1l0VUtvlVY63zW5bdzfqZEv1WRl0xqJ14dX1kS5J2uWdsF0pLfaUddZnyhP4soVADAAAAJSWIgjEhhNgTZjp8v7rBTc1+PuKzPBqguaqsgYvsM0+EA/+zqwzGLoDci/rBs2j19yuwc5gWzhTXXJ09cZAC69Lu1jbrsHOuneclQH72UCXXne7TXLSBL3yBv1yYD6BeFRatj0hayobpCOma3J0H82UmEB8TK47ZTTBtWadbDmd3jH38wdk/wazv7fcaSPnKmXDz/fIjqz17rUglx+WlhtDkkjvuuv+Wdm2uky2NXTKwP3ozEj5Yut6VFp3mGUuBvehTk4GvmAhEAMAAAClpTgCsaEtw9qi54bBtNgQ44WdWQVi21XZ6V67yQTKaOhy5V7WDaNOy6M3+NuNbDOOs+7Q59OtsH54dLqM6zZNEJ1zIDamRuX66QOyQ7t9r14nO0ygtXsRDqoqLhDbLtMV8tS6SqnvCSztfb7bhGCnpX7mjpzcUGmCbu4vImQmIX0X6mS3U69lTnfzkUBYT93vkuYXdjpdvFet2ynNt/wSh8sXW9dx+2Dqd2ZIWraVmemj0k0gBgAAAEpK0QRiN+TslNbAY6DKCVUVtuusK9m5R1ZtaJIBZ8wNQn5XXDXaltlSWVEnHTd6pOWFMll1sCsUuoNyL5sjjM6YeWVPBJ59NlKjzkutBgvtMu3Nc7pal9dIdcUcA7H3Uiy/Zfj+WVO3ZVLvZUFnWzva0t2dbetqNEy6YyK3mmSDthh7u+aX1ekmvUdaLxyTNdp9Ok/LfLC1XJI9UrvBbNO26EZewDVyznw2Wy+AuLp2QvkT6WeGg/tgzofqMlOfZh0EYgAAAKB0FFkgjmlhfXBV9peVSfXv7zjPi2or4tHyJ2TbuXQAHjy9SVaV10m39sNNJaS7Tsff9kN0KJg52wm+vCos97JuGA11mQ6EOKeVu9wEx1G3HAO/r5E15SbUeYs46w51mY50p/bDY0r6dB/MtuYUiJOmzlZv9J/PTQ1pIA50Mb77tpRry/cNfWN3ShI39PnbTenntINh0swf6Twga2KfhbYv0vJesJUzELuBtfrckLvPD7qcQGwDbPLSAVm1oU6u6/O+ZpuDGogjX3oE6yK2rsuOSbc9HJFQ77xkzJSTQAwAAACUjuIPxEbqbpsc0jcKa6ApWy/Vp/v9lyk5ZkblyuEKN/CYYc2Ww9IRKHo4mHlhyowHu+tauZd1w6jb3dkbAss65ThS6bwFWuet3XZMrgQarp11Bz9rBhtso9uVKbMtE/znFIiNkUvHZJt2PXa2E+4yrUYuHZYtZd78sgo51BkoqBMm7WfNsK5Sjl5Kzw+VVVuPbRDNGYjNcbz1tlSv945jtMt0pO5ydplWMwnpbtwZquvgMc9o5fZexkYgBgAAAEpH8QTihTCTklQw9cEE69wVksozf1GYgxR90VdQit8KBgAAALAASisQAwAAAADgIRADAAAAAEoSgRgAAAAAUJIIxAAAAACAkkQgBgAAAACUJAIxAAAAAKAkEYgBAAAAACWJQAwAAAAAKEkEYgAAAABASSIQAwAAAABKEoEYAAAAAFCSCMQAAAAAgJJEIAYAAAAAlCQCMQAAAACgJBGIAQAAAAAliUAMAAAAAChJBGIAAAAAQEkiEAMAAAAAShKBGAAAAABQkgjEAAAAAICSRCAGAAAAAJQkAjEAAAAAoCQRiAEAAAAAJalkAnFqckwGProoze2/kufe+A/ZfvIn8r2GHzrD90+a8TeelyPtb0nrR/dkZHLa+xQAAAAAYKVa2YE4NSZ915tkb2O5H34LHZ5sfEkarw9IIuWtC7OSSiYlNeONLKDUg6U/ICMXamTN6jLZ35nwpuQw2ibVZU/ImppOKWBpAAAAAI/RygzE/5qQ7o6X5OnX48PurIbXn5W9HX2S+Je37sdlJiF9Fxpk/84K2VJRITteaJDW3rlErqT0nWuQ+oaz0pf0Ji2wxEUNkE/I2uM9snDxNSV9DZtklQmmO86PetOWwIOrst8E3FXbzspgJOCn7nZKc0NmXQ40bnTKebSLb1MAAAAeh0Rvm9S/sNO5b96y84DUX+iXxCI01iypmaQMdNo8sFP2N3TKQM77+VG54tyrZhuuyoi3pGO8X1obDsgOrbNdx6Tl2pAkA3WW7D0bs4700NIbKExySK6fOya7dV0Ve+TouS4ZzJc9Unekw67vv5fufn/FBeLkJ63y3EIE4ejw+vPS8smkt5UlNtopu9eZUGZCZnQor+ufZehMSGu1frZGWse9SQss+d+HZa0JhFtO3/GmLIyB0xUmaK+TQ/+9SEk+xsi5Sqeet50L/FHOJKS7cafZR3scInU5dFa26HQTokMXGQAAACyumVHp+Pk67x4tMpTXSd+Ut1yxMfvVWlOWuU9l5j40a3bsl9ro8qHB1Ie3ZOpWk2zTRqDIMmt/3ikjXihOXKjJmB8cqi94jXXZskvOspp7/d9q45e3rMk4S2UFBeJpGbj0vHw/Lszq8PrP5Ej7RbkycF8SycxnhFPJCRkc+B9pbf+V/DRroP6JPHfp3gK2ehYiKVcOuid/+bEu/5ut1GiXHC3XE2ajnLzlTivM4gfileOOnNygdVUhLUPeJFN/HTU6zQT+w4el2vmjjdZl3OcAAACw2LRhRnsqrio/Jtft/VlqVK4fc8PWhsaFbbBZKraRZk1NmwxqGJlJyeB5t1dmXE9GK/UgKcnIMHLxgLuufVdN0jBmzL2rkys2ydFro+5jjw/65eQ2nVaWboxKZa4rmeiX+k3uZ086VWuyyz43u2xr7PdbmEcCZY1tMLrTJOVapjIv9BOIZ+nRhHT/YWdMgP2hfP/0CWkdGJPUI2/ZQjyalsTARTl+Ov3ireDw7B8+luRs1jcv9pudzABruy3Y7gmJS4fdbiGngydQQq4c1q4Kh+WK86VNIBCPJqT7tNctYucBab4R7oLdd1o/VyHN/eYPrrPO7fKw85i03jV/hU6XDTvNfLYn/dnYcmirqt9twu3y3XEn0tI73iMtR/a4n43pBmLLc+hSoJyhriPx603vh/ljvOaVuWKP1HbeCXUDyZDodANvWYP/7ZlTfz/fIy3ONrIfm+7jOv0Jqb4YrtM4yTud4S490XJF9tHpwhI4ViOdB9x9/134Ap/qaXCXP97lXuwAAABWuL467x7MtlZaJuC1aFfccyakeZNU3vswFbpH1e6/PeHu14mrckjnHb4qI/e7pHaX+2+nBBn3qm/L9aHwnZnzGN7pThnM2nqdrbFlSFoqdPpGL4wWYMZ8xgm6NsCa7Xcdc+pszbHI445DV/N2X9bPatD1w3WqS44698d10h2qR1vWmAYjv0zmnvp8nVMWAvGsTEtfe0wYfv0/5Dd/mvCWmbvEn5pke0yL8bPtA0vUUmwDrNtCPJJjo343htAJFG0RtuMmcO7bJKvWbZIt5bZbSZm5eKRPeHtB2b3vgKwpWydrbTeKMnOxqKs0/10vT/ndIdJ/VBnlCHTxWFu+R/a/UClPOevaJPUmbDu8l1GtWr1OyncdkP2V671v90wY9RbJvMAl0l1idD8qNnndmHPsh1n/U+vT3U3Kf5vj6tHr/UFWt7kXNMv/484eiEfO73Q+u6Yh9x9zonOPX+antlRIuVefaw96FxV9drrO/UZzzfpKU3d7vGXMPtqwff+sbNN1bGiSAXeKkZLrR9x17b9EHAYAAKXBvw/VFuLR3Hfr+e/DzB1Vf5Nsce5R3WW22PvIYPfrcXMfq9N2mHtYp6XVDM79Y/pedc16NxDbe+DaXlu2IWn2PpMR4i27/lAjjWvgt/rumhyfjUhe0vvhQIA1+hrcfartMSP6HPFp75ngyDPEGQIty34gtw1Kge7YrnSmid6bauuxsw/6niB7/00gLtzI1Z9lhNUn32iS7i+9BRbClx/Lb97IfFP1T68uzf6H+/TrH6N+M9UpA5EQNrtAbP4Qatr8ZwKSPXVON4VVZcekOxJAV1WfdZebSZqQ5V0E7DQTvLqPu3+INvxllMO/SJjtuVPM336b7N51zPkWTjdnPxN8Ydbg+T2y+4i2+LoFigbi1A33G6l0WQw/WO+RjgfupPR+vO1/85a8UScbdFrMhcXSC4bzueN6dYiTPRDHH4uIVI8cdcpaKSdveZU+MyotzvGx3/TZbQS+ZZvqkdqdB6T2dz3maCp7TAPfDvrrNv8zsNdbAACAlW7KhLTKdOOHBtHdR85Kx61IYCzoPsyMOy2XG6X2hh+R/cYKv/u1vdfVBovfp1uY7b3qmhc60y3K9l5VGzK8e+mB32nr8wHpyNYQm62RxijontPyA2xlzOOAFVL/ey8PBIZgXojyw/WRLud+3mVbs02d9QRuQu+f9eooEt7HTYDW+rDdvgnEs6NB8dlISH3yzMUc3Q3mYeq+tJ6JhuKd0nhriX6zWN/Upt2b/dZcHcpk22/dQKni/yCyBeIyqe11FvCMSusOd3q99/HMFtn0NkInsgnTwe1mlMPvelzpBOCRmJ9O0jdT62fWVJoAfGtUkjHHMFoe2y05+jZnO91++xS3HzJjQqWZlvntVVr+C8w8A7Gtt9BFxLDPZzgT+6XeuVhvkkPnemRwPP7nrOz2tvzeu7qZi4lzgYp2fQEAAFjpZpIyeO1t2b/T9h50hzWVJoTae8xC7sNMeN2hy1SYsObOddnptneeH4jD3YTde9L1Um/CdPq524RccXrx7cz5gqmQBQrE8QE23VimL71yHws0/GeII/fQVmy4dtntaM/PbS/USf2RGnmqbJNU11RE1mefNw60MBOIZyE1II1NwXCqLcNvLe6b46Yyt/m9prdkYKkTRyph/sgbvFbjMjl6wy1A/B9EtkCcGeJscLRBueBAHDlx48qhD++7XUS8oWy9bDvSlv7yQt8IuM/rJu0N2kX46IUh/w82XJ70H2842GeWMTYQB1peswVif78CXUrC5heIC1lGpXqbZFvoTX3arbxJuoO786BTdus870UF/k8/eecGAABASZpJSWKoS+q9VmPbWFDQfVjWIBq5jwwE4vR9ZSBoZhmi97BZ2V8wiQZzwz6m5zeKZJM1wNoW4ph1mP137s1rOiP7ny1cpyV6mmS305BXJk9VHpCW/qTfvds2Ztnnj8sbAr+aQyAuXEZX6ddfko4xb+ZiGntX9kaeKV7UrtPJIem+0SPd/aMZJ5v9A7AnTPwftm35jQbi6APt+g2NTl+cQOwwF6SRWz3Sca5O9m/xLkrRsDk1KgM3OqXl+AH/eY34lt5AeSM9mu1zEPMOxHea3G7VMRcfV/ZAbP/gc12c8nfJDnAu5v1y/cLbcnSn10ug3Ha1UUnp+Lkti9dVpczsW5YuLgAAACtPUgZ7zH3zjf7M9+7YVl3v3q+g+zB7Lxh87E9Fn5ONDcT2XnWTnOwNthCnh7hef7H8F1UdkCuhG+f0O2OiPSajcgXY6L2zzwbxjPfpZG8dVu6braNbydZIp+8Ycp+vdgbbG9Z5P5B9KfDiKs5APPWxHA+F0nI50r1IvxE89j/S/GE4aSe7fyVPBgLx914/Id2L1TKdvCr79aTI+N2u9LO7NnTZN8TpSRt6planxZx824JhzV8u/Ye2UIE4Ndov3Z1npbkr8JnQRckE5X4Nym+nX49vRAN/tDz29fMbzIXM/5PTP1DvuQXb9WLOgTjrxcfKFojTP80U+ubP+ULgTvoZEvsyrLJjct0/f/TC5l6UnKD/YEi6r7VJ88V01/h0d+/wdu2FvXrfAefiXaw/KwAAADA3NoSGX7CqUj3e+2NsQ0ch92H+c8bh+/Bk5x5nGb8XYWwgTt+rhu65zTYGOtvkejC0p0ZlIPqMc4jZL+9nWJ0XT1n2/r3MBEd7rxq3rjwBVm55wT+YIYyBRu9Z6chLaHO3Dgeeuw48Q5wyecF5Ptn/2SX7SziRgUBcmMT1lwJh2AynL8b/ntV8mTB80Ane5bL3ejAUj0nr6cD2zfDc9fm/0Tpe+sF9p5ux9sNvOCbV9g13Jih32FD0wIRnr1uy/zbndZWyzXnFeTQQb5Ryc8JtO6xvkTsmO7wuucEuCwsViNMXnEqpvdAl3Tc6pXmX9+Zkr9uK/9tqlXXSeq3HBOi3Zbfzh5vu9ptRnikTSL1ltuxrkNYLZ+WQ7Q4TfHPeXANx4KIa36UlSyC2QTrwgjLl14vf7STwBuktB6S2oUFq91W4XVPs27X9C/Em2X2609Rdl7Qer3SXif6Omx/gddg4y9+nBgAAKH5+8DL3b9pVV++vjtbYx/ICv9JRyH2YMWLu35xp63bK0XNt0tqwx1t/4LnXLIE4fa+6TnbUaQg298B2G4FgaBurcv5cp4Zf555Q73tNHvB7UwYDd/y6bIDP1r1ZP9fh/SJMRl2UHZAr3otqHX7jU5Zwbdiu0PYZ4qPmvt99ljvwCzPZRHLFUijCQBwNo+Xym75FeLGVH4bT29l7LR2KU30nwq3EixXK1UxS+s4diDxHav7Ia+rkeuQQJLrq0suZP9zmW0PeH0Y0EJvxu/1S73Vddv649LfTAt8KLVggNvQ5Aj/EO4P5AznSmd6e/k5xoz5wb+ebwYT5o53pb8Fig22iR07aLsT+evPvR2GB2Bxn+3bA2JdTxQdi21IfbaFNXjvsXAzWhlq0db93hl74sHZn+Png1N02ObotuI967N+WvoxW65R0H/PqOPQTTAAAAKUj2X9W9ofuncy93Poaqb0WbjUu5D5M768GLxz2w6ddV7N9M7XKFohVxr2qBtqz6Zd7SVKuH9b568JvZY6Rumv2K3g/XbZeqk8HehHGrauAAOuIuRd36iLY6GPkD9cuvfe3DW7O8lsOS6t9YVcuBOICjL0rzwWD6Mn/koFH3ryFkhGGdYi0Ej+6J80ng/OfX5JnmFPJwp45SOX+ewpx1jmL5edlKn/5necOZlsg742ABT+LUTD7jVn6Z5xy875wiH6bZmU7MDMpp/w5d3vR9hEAAGAFsm+MzvdoYyH3YYZzjzrXxyTz3MfN+t59gdaVocC6KJRT1rnW2RIpukCsz+8Gg+rmd+95cxZIIWHYM/Duv4WWW7TnmPF4Je64Lza7k8j5TZhK2WXvFvANGAAAAIDHqugCcV97MKj+UI73LmB36VmEYZXqPRFetp1OqgAAAABQLIosEE9Ix9uBANrwknR84c2ar1mGYccXke7bb78roUcOAAAAAADLVpEF4vvS+kYggDY0Sd9CPD88lzCsHvXJb4KfeWMRX6wFAAAAAFhQRRaIB6QxGEA1EHtzokau/5dcKeQlV3MNw47CywMAAAAAWF5WZCAeufaS+5NIrx/JHYrnFYYVgRgAAAAAilWRBeL8Xab9MGyHbKF43mHYoMs0AAAAABStIgvE+V+qNfLhEfl+MKTq0PSahHLuQoRhxUu1AAAAAKBoFVkgLuxnl0auR1qJdWg6Id1fmpkLFYYNfnYJAAAAAIpX0QXiZPevQiF087v3vDlh8aH4Z/LTBQrDauDdfwut60j3pDcHAAAAALDcFV0glrFIN+WT/yUDWX56KTYUh4a5h2F5dE+aTwbX9bx0zHFVeT0cl74zL8u+qiqprnpRTl0elMmH3rxcEpfl1WOXZcIbnZtJ6Tm2WarODLqjD6dl8lv3n9b05KRMF1KeGLffqpLzt7yRoAUp+x05X/WKfJCtH/utM1L91h1vZCHo9s7IbW9sqUx+ellOHdBzo0r2vXxG+sa9GTktUFkHz0n1M6aOv3ZHM86FmPOlYFnPgUE5X7lZXr02jy+gtFyTmb1LAAAAUFqKLxDLmLSeDgbRcvlNX/Yb24yXbAU+N+cwbKT6ToTXe3qxXqg1IR8c2iwHW+7IxLfTMv31sPT8ulKq3iwgyI13yME9HfMMlcb4oNz3Ao/0NsoPTvR7I2pc3tmzV94pKIRlun3iR3Kq1xsJWpCy98upjTnKlrEv86Xba1zaQHznTamqrJWeYRNEv52UiTvn5ODml+WDvBW3QGV9OCn3B20Fx5wL86njHOfA5GeDMjHHL2EcC/W3AQAAgKJWhIFYJHH9pUCwzR9GM0Px/MJwZij/oTx3fbFurWOCy+Sw3O4fF+drgK/7pf18v/htZcFx76Z/LHFT2hsbpfnc++lgK8PygVluYtydd95rdZ7oPifNZry9O51qJvvbpL3frPGz96X55Wr5wb+/bJZpk9tfT8rt8/VycOtWOfiaWf/VYfcDGpKuues53262EWoxnJR7l8+YeWfknf4J6csTiOPKPtF9Rs5/GExdE3L7XFzLaGYg1tbU87ZcNyNhLTEo750z29Ky9Yb3/4PBcLnjuceqz6vT5rcuy71gfTe+b84cKzjuHosxp2xar87Egky075WD7eEdn/j0ptx3iphrm955NWn2+S0ta4fcDtZTaJ/PuXX7tV02br9izoWM88X7yHi/vKPrMevt+SzSymvrzhzvsU+zh9axq43ywWeZ/1ahcf0CyR5Te9z0b+S1vVK5da80mG0FP2uNXTXlTYxLn/NZU87hcDknzb65xzhdb3pett9Ml/b+ZfN3pH83jmm51/GmWY83CgAAgGWhKAOxTH0sx0PPApfnfX43HYrnG4bd55hDAfv1E9I95c1ccMPSXl0pr7bfie8mHW3pCo7rv7fukl/Wm5v74XETUhtl93YNQTrTBKKtVfLLJhM0h+/IO4e2yu6al53u2GODl6Whcqu0eF2Z/dA1MSh9LS/KD140AanbBLhvp2Ws/7KcqqqSU+/clL5B3aoJRieqZLcJSffHTXA/86JU7LXlc1u7nXnDZl1vvSLVlTkCcbayD7fJ7uq2dNDTZYPjvnAgnrz6svy4plF6Boflvgkvr26vTAdiXcfmXdJ8bVAmxrU+KuWXV71Sm/2v2v6KtPQOmypw6+ZUzMvc3O2ZemzskHvDZt/PvyJVfrm8AOr8WwXH9VhUyr5jbdLj1KszsSDTH9Y6+9T3ebby5NjmxmrZd9yEtMFxGettM/Vh6upzZ6a7z7vqpd3s81i3qXtzLPYdO2OOhdmvt/bK0y9e9r6EseuMORcyzhez+Oemnk1d6nq1Lk9tr5Lmfq/sTmu3O2/sToec2lUplVkCcbBnQbSXgT/+8I60bDfHtHtYJs0xbd+7WRo+NNv6dlxuv1Mv1VX18l63/fIg7PaJrc7+v+fUzRk5+Ez6PJrubZRq5zyK1Jspf+Wh9716Mdve+iP5wfEb7hdXD009ba6Vvrl2HwcAAMCiKM5AbIxc/Vk6kDqh9KU8z/BOy+DVI3JwnmFYn2HeG3kx10+vLnI9aCte/YtStXmzuUl/Wc5fMzf4NhwHA7AKjuu/N74iPYHvCu63VHktihpk6qXPrke7ttqbdyPY8hhqhczXZVrDqh+W1KT0/KcJ19rD+7NzUh0KOBPy3os5AnHWsus2q6Xda20bO18tu8/HNb3pPtqyDUt7VaCcxuRlE9YC+zIdzJQ36/15uv/72tIf1GBdGdtlPVKnWs4au00bHK3gePRzEQ8n5F539i7CEzfPyC+rt8qPt1bJL+qDLb35tlkl5z91RhzTXbXydOw+a31XSbvfkhpdj/135FxQofNlWvp+Xel/0eL49IxUOyFyWnqObw6fC7dMwJxPIE6Yc6jqjNyz9Rasv+jfTYSzjpveiHHvza3yy6t6MuoXVOlzTzlfSvza/O1oAN9aKz0aes25vvvEm9JSaepGt6thOfD3BQAAgOWhaAOxpAaksSkcTJ984y3pW7SWWmPKbPON8tA2v9f0lgykvPlLYHq4X9r/s1KqGvvdm+t8gbgm0nLqB5RIWIoE3TkHYp2/udJ5wZMdqjZ7ASXjs5lhxpez7G6YrW7RVKIB5UV5LzbZ6D5mC6RGqDyTMnbtnJx6eZdb7q2b/Xmh/Vcx++GKbiNYN9F5wfGYsgXplwwbd/mtt1lNT7gt6Zv3ynsFbTMSwgPnTnifo0E3W9nzBWKdv1kqtqfPjertW+VpZ5sxn42e2wEFBWJzTO+d2SU/Nufjvpfrpf3acDqQ5li3iq4zXR/ROjUC67p9wg31unxDl/aWqHS+DNIvcxq6iMMAAADLTfEGYiN1q0meDYZTMzx55qIMLkYonrovrWciYbhhpzTeWuSb3Li34T68Kaee8W7Kozf2wXH999Y3JfjDVNoK6LZuRm7sIyEvGIhC4SgjDEaCjM5/LdC0FhQzr++1HIE4a9mNicvyi6pzcj+jRTpI9zEYSCMBMNAKPHntFak6/r6M2boO7Gc4HBoZdWBFw1KwbqLzguPReYWLe8P3WNsuOdihZ0C+bb7svx3aoS34Xpff8D5Hw2q2sseE2lBd6fxswT5m3udtsm9egdijf0P6RZI+FmB7EkT/biJyB+LIeaTl9B4L0NbiqjdvyAeHvLo1+7+75YbZt0hdAwAAYFko6kCsMrpOm+HJN5qk+0tvgYXw5cfym2jLsBkWvau00uD3TK30BG6mJ7vrpdKGQO0WutXcoHvzx87vlR8EA/HGrXLqphcXH2rosM8GB4OMEQl5WQNxf6M8/Z/vB7p+Tsh7ewNdb7+9IQ2bA+U123yvXl80Zf7tzDOByYaer9+XhmdyBOKsZVfaxXarCTW5Wt50H21A0+66m9P78XDS6aIbDL3BbtH3mtLPF4fDoTHHQNz8zF6/q61zDGND5ezcazIhz/4klno4LO2BY5x7mz+Sg/4+T0rfa1vlF5fdiBje5+B+qGB5g/+OnAsqcr443dsD5Z3uPSMNbYPOfJ1XZerVLnv/THX6XI4IBeJGc1xt0P36ppza6s0bviyvNqW7KU9fe0WebvSOm9ed+n7kywQreyCOnEem3rQV2A/aeo5v3Zru6q3jlZVSlfVLGwAAADxORR+InRvU9p0ZYfV7r/9MGv8Sdys9O4k/Ncn2yDPDOjzbPiBL1VN6oqteduvzw9rFdNtm+fG/10uP/9u6XrfQjWb61ippbj8TbiHec0beaaz2ugFvlX1n7ngBIRLCCg3EDwelfZduq9Zv8Zr8sF6qN5tg5jwobI7IrTOyz2wrc5sagN6U3d68ql1n5IOWvdkDcdayu7Q17ulncr2oSPcxEOQm+6Xl37e6XXa37ZLzV8/JQbvPZl7z9q1uHW+vluYTryxwIDaB7+orUv2MqTtTV7/oaMsSKmdp0hyPQ+7zw1pPFWbdvzzvBkyVe5v18k7Hy2Z/tT7MMTn2vox5AXFugTjzXMg4Xx6OywfHTDm3aXkrzbF4RT6wX5DolydmX5x526rl1WsdcqqAQCyfvy+vbt8sT5u/kYoXO+Qd2+sgsq0q83fT569sQnpeqzLlqpbzXlGDsgdiY/KOnN9lz6Nwven1qOf4j7zu/GpSPjj0o/D5AwAAgGVjBQRi49GEdP8hJhSb4funT0jrwJikHnnLFuLRtCQGLsrx0z+JXeezf/hYkrNZ3wKZ/npSJuf6ltpvM7vWLra47ryOuG7guWQpu/Myo9hgmlvWchm55i1r0+bcMOfHnMqun53F4VgQeg5kO5fznqtu7wCbufPS/VuMtzubci55vQEAAGBBrYxA7JiWgUvPy/djAqwzvP4zOdJ+Ua4M3JdEMvMuNpWckMGB/5HW9l/JT2NahN3hJ/LcpXtL1jKMbIbldnubvFpZHXjzMUrDtNy/qj0m+AkjAAAAzN8KCsSu5Cet8lzWQDuP4fXnpeUTngJcFvR3ZLtvyj16oZYg/b1jjj0AAAAWxooLxI5/TUh3x0vy9EIE49eflb0dfZL4l7duAAAAAMCKsDIDsZUak77rTbK3MfMN0fmGJxtfksbrA5KgfzQAAAAArEgrOxAHpCbHZOCji9Lc/it57o3/kO0n0y/M+v5JM/7G83Kk/S1p/eiejPCmHAAAAABY8UomEAMAAAAAEEQgBgAAAACUJAIxAAAAAKAkEYgBAAAAACWJQAwAAAAAKEkEYgAAAABASSIQAwAAAABKEoEYAAAAAFCSCMQAAAAAgJJEIAYAAAAAlCQCMQAAAACgJBGIAQAAAAAliUAMAAAAAChJBGIAAAAAQEkiEAMAAAAAShKBGAAAAABQkgjEAAAAAICSRCAGAAAAAJQkAjEAAAAAoCQRiAEAAAAAJYlADAAAAAAoSQRiAAAAAEBJIhADAAAAAEoSgRgAAAAAUJIIxAAAAACAkkQgBgAAAACUJAIxAAAAAKAkEYgBAAAAACVpxQXiqX98KyOfj8ntT+7KzT//Vf7Y/Se5/uHH8v4fexgYGBgyBr0+6HVCrxd63dDrh15HAAAAsPKtmEA8Nv536fvrgHz08Z/lf+8OydgXCZmcnJKZmRn57rvvvKUAIEyvD3qd0OuFXjf0+qHXEb2e6HUFAAAAK1fRB+LEl185LTt/vf2JfPnVA28qAMyPXk/0uqLXF73OAAAAYOUp6kD86b2/yc3evxCEASwavb7odUavNwAAAFhZijIQp6anne6M2rWR7tAAFpteZ/R6o9cdvf4AAABgZSi6QKw3o9qF8f+GR70pALA09Lqj1x9CMQAAwMpQdIFYW2gIwwAeF73+6HUIAAAAxa+oArE+w6fdFgHgcdLrEM8UAwAAFL+iCcTO26R7/8IzwwAeO70O6fWIt08DAAAUt6IJxPrcHm+TBrBcOG+fNtclAAAAFK+iCMRj4393fg8UAJYTvS7p9QkAAADFqSgCsb7AhtZhAMuNXpd4wRYAAEDxWvaBeOof38pHH//ZG1scfXVPyKrVddI9400AgALp9UmvUwAAACg+yz4Qj3w+tuhvll60QDzeJtWrzbqr2yThTVouEhdqpPrCcivV7Ol+rDJ1vGj70ls3//Uvq/OgX2ofc1nijln4fPTKaP4m+7wpy5len/Q6BQAAgOKz7APx7U/uytgXi3vrXmqBeNFD5BIiEM/W4w/EUcV+Pur1Sa9TAAAAKD7LPhDrW1wnJ6e8scWxZIE4JhjZMFDb64xJa7WWpUZaL7hBLB0U7DwdAi1ngXW2OvsR/Ewmuz1/CJTFrQc7mDKMezMi4gJM3LSc68tbF+nP19bZushsMcxVFneI7odtfUwPdnuu4HyzvZhAnGv9sWUu9Bh52yp0fvx5UCe13nliPx88DrW9uQNxuj7bAvUQcy7kKWu4jsxQ1+/NCR+zjOWccsW3EOc6nwou9yLQ6xNvmwYAAChOyz4Q/7H7TzIzs7gP97o32sspEEeHGqmOTrcBw64zZggHPVd8AImGjfQQt47M/QgEeS+A5F1f3rqIWUcgVFnpIOSVJLp/zmCDVbb6zTe/0PVnKXMhxygj7HpDvuOcdb57LOLLa4ZAvQdlXT4YTvOVNcv8aB3OJhDnO59mu58LSa9Pep0CAABA8Vn2gfj6hx/Ld999543N38jFPbK23NxoBxqd3ZvtYCBOycBvK2VN9VkZmU9Ijoa+vCEwHchsePCDgP2MDRvRdQbCqB8OYgKkCgYSh7+OmNATGyhsOb3ls+1nrvXlrYvAvmfZDxXel0i5lLddf19D7PJe3flBLv15W4ZC1x9b5rzHKH3c/YDsh8L0Z0Ky1nlw+XRrd0bwjj2ugXL586NlK6CsOes8vQ07PzqeXl/k/MpxPmWUO+4zi0SvT3qdAgAAQPEpvUB8vkbW6I1yIBSHA7EXhs0ya2raHlMgzgxOfljIts5QaPQCRWA7QdF1ZmzDERP+AkLljgSggtaXty7S4TIdvDKFt5UOgBlDJFT7wdUZ3PqOLXdo3/KvP7bMcccouP8xdaGi9eGKlCF6HgTXEbvews6N0DaDdVBQWTPrKbi+aD1n1rv9vHuuZM5X4fMpc5nc5+9CIhADAAAUr2UfiBejy/SIuXkOhuJ0IE5JX0PFnMOwu55AC100PMSEiXCAmkcgDgWUwkKPv87YFr08gcJu14S8jP0uZH156yJLuIwI70tmEPMHZzvR+g2PZ4Yqo9BA7O1HbJnjjlFoWvzxsuVx1hVdR75xFTdttueGiquDyOdDZbXs9u3gfSEQ3UbmNm09e+dKAedT5jrynL8LiC7TAAAAxWvZB+LFeqlWMBTXHtQb5wNSWzf3MKxsGPJvyr0beb9l0A8I9iY9HbDcIBENbDE3+tmCUMxnQi2SAVnXGQwPtuxZglO6rN4QXK6Q9eWti7kE4jwhKFp3/ja9urNl9D+f3seC1m/kDMRZj1F6O+nPhcuWccyy1WfoeGXWqb/d0HJpmfOjZctf1kx2vltv0X3J2LfI8oWcT5nryH+sFgov1QIAACheyz4QL+bPLvmhODDMq5u0f+MeHjKDQ7Zl7E18ZnDyb/SjwSfLNnVIbzfMrtMd3MBgg1x0yLYOFVxPOoi48q8vX13MJRBH9y2yzqx1Zes7HfaiQ0HrN3IH4szBX84P45Eh0qqaMUTPg0jQzfu5iKzLx4XR6JCvrJH58XWq24kEYiPf+RRdp5myZIGYn10CAAAoXss+EI98Pib/e3fIG1t4wVA872eGVSQsRINiaL4JJX3ejbx7Yz+PQGzGC/nZJVcwjGYLHdla+wL8oBe/bN715ayLuQViFQ5YOeZpQPPKkF4mWDemzN7PXxW6/pyBON8xynnuhMO6rt/dllevWQKxCh4H/2eJYpZT6fpc4J9dCmwvvQ07JXo+ZgZilet8ylzn0gVivT7pdQoAAADFZ9kH4ql/fCsfffxnb2xxaCheuxBh+HHIEYQW3ePcNhZFZrBEPnp90usUAAAAis+yD8Sq768D8uVXD7wxhDzGUEp4Wnk4prOj1yW9PgEAAKA4FUUgHhv/u/z19ifeGEIeSyAOdHGldXhFIRDPjl6X9PoEAACA4lQUgVjpW1xpJQawXOj1iLdLAwAAFLeiCcSJL7+Sm71/ke+++86bAgCPh16H9Hqk1yUAAAAUr6IJxOrTe39b1DdOA0Ah9Dqk1yMAAAAUt6IKxEpfYPN/w6PeGAAsLb3+8CItAACAlaHoAnFqetp5bo9QDGCp6XVHrz96HQIAAEDxK7pArPRmVFtotNsizxQDWGx6ndHrjV53CMMAAAArR1EGYkuf4dMX2/D2aQCLxXmbtLnO8MwwAADAylPUgVg5b5/+81+d3wMlGANYKHo90euKXl94mzQAAMDKVPSB2Bob/7vTnfGjj//sdG0c+yIhk5NTMjMzQ7dqAFnp9UGvE3q90OuGXj/0OqLXE72uAAAAYOVaMYHYmvrHtzLy+Zjc/uSu07Lzx+4/yfUPP5b3/9jDwMDAkDHo9UGvE3q90OuGXj/0OgIAAICVb8UFYgAAAAAACkEgBgAAAACUJAIxAAAAAKAkEYgBAAAAACWJQAwAAAAAKEkEYgAAAABASSIQAwAAAABKEoEYAAAAAFCSCMQAAAAAgJJEIAYAAAAAlKR5BeKhz0bk4cOH3hgAAAAAAMVBs6xm2kLEBuLh0TH55z9T3hgAAAAAAMVBs6xm2kLEBuK/Jybk6+Q33hgAAAAAAMVBs6xm2kLEBuLkN1MyNp7wxgAAAAAAKA6aZTXTFiI2ED969Mh5CJnniAEAAAAAxUIzrGZZzbSFiA3ESpuYJx587Y0BAAAAALC8aYYttLu0yhqIU9PTMvS3YVqJAQAAAADLnvN2aZNhNcsWKmsgVl9+9UC+SHzljQEAAAAAsDxpdtUMOxs5A7HS11XzxmkAAAAAwHKlmbXQn1oKyhuIna7Tn43IN5OFvaULAAAAAIClollVM+tsukpbeQOx0h821g3QUgwAAAAAWC40o2pW1cw6FwUFYqVpW5ugtV82L9oCAAAAADwumkk1m2pGnUvLsFVwILb0IWV9c5e+zppgDAAAAABYKppBNYtqJp3tC7TizDoQK03g+ttO+oPHY+MJp5lam6gJyAAAAACAhaIZU7OmZk7NnppBNYvOp1U4aE6B2Hr06JEkv5lyCqRN1dp3WwvIwMDAwMDAwMDAwMDAwDDfQTOmZk3NnJo9NYMupHkFYgAAAAAAihWBGAAAAABQgkT+P7KQpOrC1LzkAAAAAElFTkSuQmCC)"
      ],
      "metadata": {
        "id": "ia8XG4bQfRI2"
      }
    },
    {
      "cell_type": "markdown",
      "source": [
        "![best leader board.PNG](data:image/png;base64,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)"
      ],
      "metadata": {
        "id": "SBwsB7w0ftg_"
      }
    },
    {
      "cell_type": "markdown",
      "source": [
        "# 2."
      ],
      "metadata": {
        "id": "TluJzoxafDhq"
      }
    },
    {
      "cell_type": "markdown",
      "source": [
        "![Capture.PNG](data:image/png;base64,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)"
      ],
      "metadata": {
        "id": "neepTBMWWzmo"
      }
    },
    {
      "cell_type": "markdown",
      "source": [
        "![Capture.PNG](data:image/png;base64,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)"
      ],
      "metadata": {
        "id": "5ehmYEj_W-rd"
      }
    },
    {
      "cell_type": "markdown",
      "source": [
        "# 3"
      ],
      "metadata": {
        "id": "-DVuOU_cfIS_"
      }
    },
    {
      "cell_type": "markdown",
      "source": [
        "![without title names.PNG](data:image/png;base64,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)"
      ],
      "metadata": {
        "id": "XPre35NrfKdo"
      }
    },
    {
      "cell_type": "markdown",
      "source": [
        "# Summary\n",
        "In this homework i tried to solve the titanic problam.\n",
        "I droped features that i think is unnecessary for predicting the survival, such as: name, cabin, ticket and passengers ids.\n",
        "\n",
        "I analayzed the data and tried to find new features that will help me better predict the survival.\n",
        "\n",
        "I had found that diffrent marrige title names had diffrent rate of survival so i decidad to add this feature, also i had found that diffrent age groups had diffrent rate of survival so it was also a good indicatin.\n",
        "\n",
        "After analyzing the data and adding the new features i tried to find the bext slicing of the train data to train and validation and decided on a 80/20 split.\n",
        "\n",
        "Then i set up an SGD Classifier and predicted the survival rate of the test data and submitted it.\n",
        "\n"
      ],
      "metadata": {
        "id": "Nc94B16FhhPA"
      }
    },
    {
      "cell_type": "markdown",
      "source": [
        "# references\n",
        "\n",
        "1. Fourth Practice ML notebook\n",
        "2. Fifth Practice ML notebook\n",
        "3. Third Practice ML notebook\n",
        "4. Titanic Data Science Solutions - https://www.kaggle.com/code/startupsci/titanic-data-science-solutions"
      ],
      "metadata": {
        "id": "L_egkQzrkXNF"
      }
    }
  ]
}